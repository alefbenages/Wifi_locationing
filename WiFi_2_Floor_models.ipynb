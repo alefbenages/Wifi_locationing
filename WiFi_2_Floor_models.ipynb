{
 "cells": [
  {
   "cell_type": "markdown",
   "id": "5215000c-b196-4bf4-8e45-9aea44fb54dd",
   "metadata": {},
   "source": [
    "# Guessing FLOOR MODELS"
   ]
  },
  {
   "cell_type": "code",
   "execution_count": 1,
   "id": "463dca9f-242f-464c-8b42-1713f4caea24",
   "metadata": {
    "slideshow": {
     "slide_type": "notes"
    },
    "tags": []
   },
   "outputs": [],
   "source": [
    "# basic\n",
    "import pandas as pd\n",
    "import numpy as np\n",
    "import matplotlib.pyplot as plt\n",
    "import seaborn as sns\n",
    "\n",
    "# Classification Models\n",
    "from sklearn.svm import LinearSVC\n",
    "from sklearn.neighbors import NearestNeighbors\n",
    "from sklearn.neighbors import KNeighborsClassifier\n",
    "from sklearn.ensemble import RandomForestClassifier\n",
    "from sklearn.tree import DecisionTreeClassifier\n",
    "from sklearn.linear_model import LogisticRegression\n",
    "\n",
    "# tools\n",
    "from sklearn.model_selection import train_test_split\n",
    "\n",
    "# classification model metrics\n",
    "from sklearn.metrics import accuracy_score\n",
    "from sklearn.metrics import confusion_matrix\n",
    "from sklearn.metrics import classification_report\n",
    "from sklearn.metrics import ConfusionMatrixDisplay\n",
    "\n",
    "\n",
    "#Hyper parameter tuning\n",
    "from sklearn.model_selection import RandomizedSearchCV, GridSearchCV\n",
    "\n",
    "# To save the ML models\n",
    "import joblib\n",
    "\n"
   ]
  },
  {
   "cell_type": "markdown",
   "id": "fc9e9b88-746b-4659-96ac-dec4775f0229",
   "metadata": {},
   "source": [
    "# Functions"
   ]
  },
  {
   "cell_type": "code",
   "execution_count": 2,
   "id": "b48cdd5d-ecb1-4740-8d80-1ccd3a42acf9",
   "metadata": {},
   "outputs": [],
   "source": [
    "def save_model (model, file_name):\n",
    "    try:\n",
    "        path = '/home/ale/Dropbox/UBIQUM/4.DeepAnalytics&Visualization/T4M3.WiFiLocationing/MLmodels/'\n",
    " \n",
    "        # Save the model as a pickle in a file\n",
    "        joblib.dump(model, path + file_name)\n",
    "        print('Model Saved')\n",
    "    except:\n",
    "        print('Model NOT!! Saved')"
   ]
  },
  {
   "cell_type": "code",
   "execution_count": 3,
   "id": "e5ea000e-1e72-452e-8719-3f61491a41f2",
   "metadata": {},
   "outputs": [],
   "source": [
    "def load_model (file_name):\n",
    "    path = '/home/ale/Dropbox/UBIQUM/4.DeepAnalytics&Visualization/T4M3.WiFiLocationing/MLmodels/'\n",
    " \n",
    "    # Load the model from the file\n",
    "    model_from_joblib = joblib.load(path + file_name)\n",
    "    \n",
    "    return model_from_joblib"
   ]
  },
  {
   "cell_type": "code",
   "execution_count": 4,
   "id": "1e0d130c-4fab-4b84-b038-e991cb70c4e8",
   "metadata": {
    "slideshow": {
     "slide_type": "subslide"
    },
    "tags": []
   },
   "outputs": [],
   "source": [
    "def makePredictions(loaded_model, X_test, y_test):\n",
    "    # make predictions\n",
    "    model_predictions = loaded_model.predict(X_test)\n",
    "    \n",
    "    # Accuracy \n",
    "    accuracy = accuracy_score(y_test, model_predictions) \n",
    "    print(\"Accuracy: \", round(accuracy, 3))\n",
    "    \n",
    "    # Confussion Matrix\n",
    "    cm = confusion_matrix(y_test, model_predictions, labels = loaded_model.classes_)\n",
    "    disp = ConfusionMatrixDisplay(confusion_matrix=cm, \n",
    "                                  display_labels=loaded_model.classes_, \n",
    "                               #   cmap=plt.cm.Blues, \n",
    "                                 # normalize=True\n",
    "                                 )\n",
    "       \n",
    "    disp.plot() \n",
    "    \n",
    "    # classification_report\n",
    "    #print(\"Classification report \")\n",
    "    #print(classification_report(y_test, model_predictions, labels = loaded_model.classes_))"
   ]
  },
  {
   "cell_type": "markdown",
   "id": "01417c1a-0c5a-4790-bc4d-26065029c613",
   "metadata": {},
   "source": [
    "# Load Data"
   ]
  },
  {
   "cell_type": "code",
   "execution_count": 5,
   "id": "ac3b6c02-4425-4f8a-b09f-f8d5ed221aab",
   "metadata": {
    "tags": []
   },
   "outputs": [
    {
     "name": "stdout",
     "output_type": "stream",
     "text": [
      "   FLOOR\n",
      "0      2\n",
      "1      3\n",
      "2      2\n",
      "3      0\n",
      "4      3\n"
     ]
    },
    {
     "data": {
      "text/html": [
       "<div>\n",
       "<style scoped>\n",
       "    .dataframe tbody tr th:only-of-type {\n",
       "        vertical-align: middle;\n",
       "    }\n",
       "\n",
       "    .dataframe tbody tr th {\n",
       "        vertical-align: top;\n",
       "    }\n",
       "\n",
       "    .dataframe thead th {\n",
       "        text-align: right;\n",
       "    }\n",
       "</style>\n",
       "<table border=\"1\" class=\"dataframe\">\n",
       "  <thead>\n",
       "    <tr style=\"text-align: right;\">\n",
       "      <th></th>\n",
       "      <th>WAP001</th>\n",
       "      <th>WAP002</th>\n",
       "      <th>WAP003</th>\n",
       "      <th>WAP004</th>\n",
       "      <th>WAP005</th>\n",
       "      <th>WAP006</th>\n",
       "      <th>WAP007</th>\n",
       "      <th>WAP008</th>\n",
       "      <th>WAP009</th>\n",
       "      <th>WAP010</th>\n",
       "      <th>...</th>\n",
       "      <th>WAP509</th>\n",
       "      <th>WAP510</th>\n",
       "      <th>WAP511</th>\n",
       "      <th>WAP512</th>\n",
       "      <th>WAP515</th>\n",
       "      <th>WAP516</th>\n",
       "      <th>WAP517</th>\n",
       "      <th>WAP518</th>\n",
       "      <th>WAP519</th>\n",
       "      <th>WAP520</th>\n",
       "    </tr>\n",
       "  </thead>\n",
       "  <tbody>\n",
       "    <tr>\n",
       "      <th>0</th>\n",
       "      <td>100</td>\n",
       "      <td>100</td>\n",
       "      <td>100</td>\n",
       "      <td>100</td>\n",
       "      <td>100</td>\n",
       "      <td>100</td>\n",
       "      <td>100</td>\n",
       "      <td>100</td>\n",
       "      <td>100</td>\n",
       "      <td>100</td>\n",
       "      <td>...</td>\n",
       "      <td>100</td>\n",
       "      <td>100</td>\n",
       "      <td>100</td>\n",
       "      <td>100</td>\n",
       "      <td>100</td>\n",
       "      <td>100</td>\n",
       "      <td>100</td>\n",
       "      <td>100</td>\n",
       "      <td>100</td>\n",
       "      <td>100</td>\n",
       "    </tr>\n",
       "    <tr>\n",
       "      <th>1</th>\n",
       "      <td>100</td>\n",
       "      <td>100</td>\n",
       "      <td>100</td>\n",
       "      <td>100</td>\n",
       "      <td>100</td>\n",
       "      <td>100</td>\n",
       "      <td>100</td>\n",
       "      <td>100</td>\n",
       "      <td>100</td>\n",
       "      <td>100</td>\n",
       "      <td>...</td>\n",
       "      <td>100</td>\n",
       "      <td>100</td>\n",
       "      <td>100</td>\n",
       "      <td>100</td>\n",
       "      <td>100</td>\n",
       "      <td>100</td>\n",
       "      <td>100</td>\n",
       "      <td>100</td>\n",
       "      <td>100</td>\n",
       "      <td>100</td>\n",
       "    </tr>\n",
       "    <tr>\n",
       "      <th>2</th>\n",
       "      <td>100</td>\n",
       "      <td>100</td>\n",
       "      <td>100</td>\n",
       "      <td>100</td>\n",
       "      <td>100</td>\n",
       "      <td>100</td>\n",
       "      <td>100</td>\n",
       "      <td>100</td>\n",
       "      <td>100</td>\n",
       "      <td>100</td>\n",
       "      <td>...</td>\n",
       "      <td>100</td>\n",
       "      <td>100</td>\n",
       "      <td>100</td>\n",
       "      <td>100</td>\n",
       "      <td>100</td>\n",
       "      <td>100</td>\n",
       "      <td>100</td>\n",
       "      <td>100</td>\n",
       "      <td>100</td>\n",
       "      <td>100</td>\n",
       "    </tr>\n",
       "    <tr>\n",
       "      <th>3</th>\n",
       "      <td>100</td>\n",
       "      <td>100</td>\n",
       "      <td>100</td>\n",
       "      <td>100</td>\n",
       "      <td>100</td>\n",
       "      <td>100</td>\n",
       "      <td>100</td>\n",
       "      <td>100</td>\n",
       "      <td>100</td>\n",
       "      <td>100</td>\n",
       "      <td>...</td>\n",
       "      <td>100</td>\n",
       "      <td>100</td>\n",
       "      <td>100</td>\n",
       "      <td>100</td>\n",
       "      <td>100</td>\n",
       "      <td>-83</td>\n",
       "      <td>-85</td>\n",
       "      <td>100</td>\n",
       "      <td>100</td>\n",
       "      <td>100</td>\n",
       "    </tr>\n",
       "    <tr>\n",
       "      <th>4</th>\n",
       "      <td>100</td>\n",
       "      <td>100</td>\n",
       "      <td>100</td>\n",
       "      <td>100</td>\n",
       "      <td>100</td>\n",
       "      <td>100</td>\n",
       "      <td>100</td>\n",
       "      <td>100</td>\n",
       "      <td>100</td>\n",
       "      <td>100</td>\n",
       "      <td>...</td>\n",
       "      <td>100</td>\n",
       "      <td>100</td>\n",
       "      <td>100</td>\n",
       "      <td>100</td>\n",
       "      <td>100</td>\n",
       "      <td>100</td>\n",
       "      <td>100</td>\n",
       "      <td>100</td>\n",
       "      <td>100</td>\n",
       "      <td>100</td>\n",
       "    </tr>\n",
       "  </tbody>\n",
       "</table>\n",
       "<p>5 rows × 434 columns</p>\n",
       "</div>"
      ],
      "text/plain": [
       "   WAP001  WAP002  WAP003  WAP004  WAP005  WAP006  WAP007  WAP008  WAP009  \\\n",
       "0     100     100     100     100     100     100     100     100     100   \n",
       "1     100     100     100     100     100     100     100     100     100   \n",
       "2     100     100     100     100     100     100     100     100     100   \n",
       "3     100     100     100     100     100     100     100     100     100   \n",
       "4     100     100     100     100     100     100     100     100     100   \n",
       "\n",
       "   WAP010  ...  WAP509  WAP510  WAP511  WAP512  WAP515  WAP516  WAP517  \\\n",
       "0     100  ...     100     100     100     100     100     100     100   \n",
       "1     100  ...     100     100     100     100     100     100     100   \n",
       "2     100  ...     100     100     100     100     100     100     100   \n",
       "3     100  ...     100     100     100     100     100     -83     -85   \n",
       "4     100  ...     100     100     100     100     100     100     100   \n",
       "\n",
       "   WAP518  WAP519  WAP520  \n",
       "0     100     100     100  \n",
       "1     100     100     100  \n",
       "2     100     100     100  \n",
       "3     100     100     100  \n",
       "4     100     100     100  \n",
       "\n",
       "[5 rows x 434 columns]"
      ]
     },
     "execution_count": 5,
     "metadata": {},
     "output_type": "execute_result"
    }
   ],
   "source": [
    "path = '/home/ale/Dropbox/UBIQUM/4.DeepAnalytics&Visualization/T4M3.WiFiLocationing/Data/'\n",
    "file_X = \"2_DataPrepro_Floor_X.csv\"\n",
    "file_y = \"2_DataPrepro_Floor_y.csv\"\n",
    "\n",
    "Saved_X = pd.read_csv(path + file_X)\n",
    "Saved_y = pd.read_csv(path + file_y)\n",
    "\n",
    "print(Saved_y.head())\n",
    "Saved_X.head()\n"
   ]
  },
  {
   "cell_type": "markdown",
   "id": "c8389923-c1a0-4ea4-b823-53a913efb52d",
   "metadata": {
    "tags": []
   },
   "source": [
    "## 1.6 Train/Test Split"
   ]
  },
  {
   "cell_type": "code",
   "execution_count": 6,
   "id": "edc9813c-f182-4b77-a56d-150cc813b4b6",
   "metadata": {
    "tags": []
   },
   "outputs": [
    {
     "name": "stdout",
     "output_type": "stream",
     "text": [
      "X: (8972, 434) y: (8972, 1)\n",
      "X_train: (6729, 434) y_train: (6729, 1)\n",
      "X_test:  (2243, 434)  y_test:  (2243, 1)\n"
     ]
    }
   ],
   "source": [
    "# define X and y\n",
    "X = Saved_X\n",
    "y = Saved_y\n",
    "\n",
    "# define train/test_ratio\n",
    "train_ratio = 0.75\n",
    "test_ratio = 0.25\n",
    "\n",
    "# split data\n",
    "X_train, X_test, y_train, y_test = train_test_split(X, y, test_size=(1-train_ratio) )\n",
    "\n",
    "# check dimensionsc\n",
    "#print('DF: ', Tdata_Building.shape)\n",
    "print('X:', X.shape,'y:', y.shape)\n",
    "print('X_train:', X_train.shape,'y_train:', y_train.shape)\n",
    "print('X_test: ', X_test.shape,' y_test: ', y_test.shape)"
   ]
  },
  {
   "cell_type": "markdown",
   "id": "154ad209-4b28-4379-9d7b-208a866fe3ae",
   "metadata": {},
   "source": [
    "### Load k-NN"
   ]
  },
  {
   "cell_type": "code",
   "execution_count": 7,
   "id": "736dfa37-c388-4675-87a6-c103046e9e5c",
   "metadata": {
    "tags": []
   },
   "outputs": [
    {
     "name": "stdout",
     "output_type": "stream",
     "text": [
      "Accuracy:  0.982\n"
     ]
    },
    {
     "data": {
      "image/png": "[encoded data removed]",
      "text/plain": [
       "<Figure size 432x288 with 2 Axes>"
      ]
     },
     "metadata": {
      "needs_background": "light"
     },
     "output_type": "display_data"
    }
   ],
   "source": [
    "file = 'Floor_KNN.joblib'\n",
    "KNN_from_joblib = load_model(file)\n",
    "\n",
    "# Use the loaded model to make predictions  \n",
    "makePredictions(KNN_from_joblib, X_test, y_test) "
   ]
  },
  {
   "cell_type": "markdown",
   "id": "20ead6db-51c8-441a-a598-785342cf9dbc",
   "metadata": {},
   "source": [
    "### Load RF"
   ]
  },
  {
   "cell_type": "code",
   "execution_count": 8,
   "id": "ab82b118-b57b-4957-9cee-1fef2147c619",
   "metadata": {
    "tags": []
   },
   "outputs": [
    {
     "name": "stdout",
     "output_type": "stream",
     "text": [
      "Accuracy:  0.978\n"
     ]
    },
    {
     "data": {
      "image/png": "[encoded data removed]",
      "text/plain": [
       "<Figure size 432x288 with 2 Axes>"
      ]
     },
     "metadata": {
      "needs_background": "light"
     },
     "output_type": "display_data"
    }
   ],
   "source": [
    "file = 'Floor_RF.joblib'\n",
    "RF_from_joblib = load_model(file)\n",
    "\n",
    "# Use the loaded model to make predictions\n",
    "makePredictions(RF_from_joblib, X_test, y_test)"
   ]
  },
  {
   "cell_type": "markdown",
   "id": "8ae36df5-8e65-41b1-aabf-7fef3edad38b",
   "metadata": {},
   "source": [
    "### Load LR"
   ]
  },
  {
   "cell_type": "code",
   "execution_count": 9,
   "id": "9011fa14-2e89-4f41-bbf6-6ce8b46b9b7d",
   "metadata": {
    "tags": []
   },
   "outputs": [
    {
     "name": "stdout",
     "output_type": "stream",
     "text": [
      "Accuracy:  0.911\n"
     ]
    },
    {
     "data": {
      "image/png": "[encoded data removed]",
      "text/plain": [
       "<Figure size 432x288 with 2 Axes>"
      ]
     },
     "metadata": {
      "needs_background": "light"
     },
     "output_type": "display_data"
    }
   ],
   "source": [
    "file = 'Floor_LR.joblib'\n",
    "LR_from_joblib = load_model(file)\n",
    "\n",
    "# Use the loaded model to make predictions\n",
    "makePredictions(LR_from_joblib, X_test, y_test)"
   ]
  }
 ],
 "metadata": {
  "kernelspec": {
   "display_name": "Python 3",
   "language": "python",
   "name": "python3"
  },
  "language_info": {
   "codemirror_mode": {
    "name": "ipython",
    "version": 3
   },
   "file_extension": ".py",
   "mimetype": "text/x-python",
   "name": "python",
   "nbconvert_exporter": "python",
   "pygments_lexer": "ipython3",
   "version": "3.8.10"
  }
 },
 "nbformat": 4,
 "nbformat_minor": 5
}
