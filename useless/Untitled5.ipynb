{
 "cells": [
  {
   "cell_type": "markdown",
   "id": "5215000c-b196-4bf4-8e45-9aea44fb54dd",
   "metadata": {},
   "source": [
    "# Guessing FLOOR MODELS"
   ]
  },
  {
   "cell_type": "code",
   "execution_count": 2,
   "id": "463dca9f-242f-464c-8b42-1713f4caea24",
   "metadata": {},
   "outputs": [],
   "source": [
    "# basic\n",
    "import pandas as pd\n",
    "import numpy as np\n",
    "import matplotlib.pyplot as plt\n",
    "import seaborn as sns\n",
    "\n",
    "# estimators\n",
    "\n",
    "\n",
    "from sklearn.tree import DecisionTreeRegressor\n",
    "from sklearn.svm import SVR\n",
    "from sklearn.ensemble import RandomForestRegressor\n",
    "from sklearn.ensemble import GradientBoostingRegressor\n",
    "#from sklearn.linear_model import LinearRegression, Ridge, Lasso\n",
    "\n",
    "# Classification Models\n",
    "from sklearn.svm import LinearSVC\n",
    "from sklearn.neighbors import NearestNeighbors\n",
    "from sklearn.neighbors import KNeighborsClassifier\n",
    "from sklearn.ensemble import RandomForestClassifier\n",
    "from sklearn.tree import DecisionTreeClassifier\n",
    "from sklearn.linear_model import LogisticRegression\n",
    "\n",
    "# tools\n",
    "from sklearn.model_selection import train_test_split\n",
    "\n",
    "# regression model metrics\n",
    "from sklearn.metrics import mean_squared_error\n",
    "from sklearn.metrics import r2_score\n",
    "from sklearn.model_selection import cross_val_score\n",
    "\n",
    "# classification model metrics\n",
    "from sklearn.metrics import accuracy_score\n",
    "from sklearn.metrics import confusion_matrix\n",
    "from sklearn.metrics import classification_report\n",
    "\n",
    "\n",
    "#Hyper parameter tuning\n",
    "from sklearn.model_selection import RandomizedSearchCV, GridSearchCV\n",
    "\n",
    "# To save the ML models\n",
    "import joblib"
   ]
  },
  {
   "cell_type": "code",
   "execution_count": 11,
   "id": "587cdf18-7f4b-4885-993e-818094ae766e",
   "metadata": {},
   "outputs": [],
   "source": [
    "def makePredictions (loaded_model, X_test, y_test):\n",
    "    model_predictions = loaded_model.predict(X_test)\n",
    "\n",
    "    print(accuracy_score(y_test, model_predictions))\n",
    "    print(confusion_matrix(y_test, model_predictions))"
   ]
  },
  {
   "cell_type": "code",
   "execution_count": 5,
   "id": "ac3b6c02-4425-4f8a-b09f-f8d5ed221aab",
   "metadata": {
    "collapsed": true,
    "jupyter": {
     "outputs_hidden": true,
     "source_hidden": true
    },
    "tags": []
   },
   "outputs": [
    {
     "name": "stdout",
     "output_type": "stream",
     "text": [
      "   FLOOR\n",
      "0      2\n",
      "1      3\n",
      "2      2\n",
      "3      0\n",
      "4      3\n"
     ]
    },
    {
     "data": {
      "text/html": [
       "<div>\n",
       "<style scoped>\n",
       "    .dataframe tbody tr th:only-of-type {\n",
       "        vertical-align: middle;\n",
       "    }\n",
       "\n",
       "    .dataframe tbody tr th {\n",
       "        vertical-align: top;\n",
       "    }\n",
       "\n",
       "    .dataframe thead th {\n",
       "        text-align: right;\n",
       "    }\n",
       "</style>\n",
       "<table border=\"1\" class=\"dataframe\">\n",
       "  <thead>\n",
       "    <tr style=\"text-align: right;\">\n",
       "      <th></th>\n",
       "      <th>WAP001</th>\n",
       "      <th>WAP002</th>\n",
       "      <th>WAP003</th>\n",
       "      <th>WAP004</th>\n",
       "      <th>WAP005</th>\n",
       "      <th>WAP006</th>\n",
       "      <th>WAP007</th>\n",
       "      <th>WAP008</th>\n",
       "      <th>WAP009</th>\n",
       "      <th>WAP010</th>\n",
       "      <th>...</th>\n",
       "      <th>WAP509</th>\n",
       "      <th>WAP510</th>\n",
       "      <th>WAP511</th>\n",
       "      <th>WAP512</th>\n",
       "      <th>WAP515</th>\n",
       "      <th>WAP516</th>\n",
       "      <th>WAP517</th>\n",
       "      <th>WAP518</th>\n",
       "      <th>WAP519</th>\n",
       "      <th>WAP520</th>\n",
       "    </tr>\n",
       "  </thead>\n",
       "  <tbody>\n",
       "    <tr>\n",
       "      <th>0</th>\n",
       "      <td>100</td>\n",
       "      <td>100</td>\n",
       "      <td>100</td>\n",
       "      <td>100</td>\n",
       "      <td>100</td>\n",
       "      <td>100</td>\n",
       "      <td>100</td>\n",
       "      <td>100</td>\n",
       "      <td>100</td>\n",
       "      <td>100</td>\n",
       "      <td>...</td>\n",
       "      <td>100</td>\n",
       "      <td>100</td>\n",
       "      <td>100</td>\n",
       "      <td>100</td>\n",
       "      <td>100</td>\n",
       "      <td>100</td>\n",
       "      <td>100</td>\n",
       "      <td>100</td>\n",
       "      <td>100</td>\n",
       "      <td>100</td>\n",
       "    </tr>\n",
       "    <tr>\n",
       "      <th>1</th>\n",
       "      <td>100</td>\n",
       "      <td>100</td>\n",
       "      <td>100</td>\n",
       "      <td>100</td>\n",
       "      <td>100</td>\n",
       "      <td>100</td>\n",
       "      <td>100</td>\n",
       "      <td>100</td>\n",
       "      <td>100</td>\n",
       "      <td>100</td>\n",
       "      <td>...</td>\n",
       "      <td>100</td>\n",
       "      <td>100</td>\n",
       "      <td>100</td>\n",
       "      <td>100</td>\n",
       "      <td>100</td>\n",
       "      <td>100</td>\n",
       "      <td>100</td>\n",
       "      <td>100</td>\n",
       "      <td>100</td>\n",
       "      <td>100</td>\n",
       "    </tr>\n",
       "    <tr>\n",
       "      <th>2</th>\n",
       "      <td>100</td>\n",
       "      <td>100</td>\n",
       "      <td>100</td>\n",
       "      <td>100</td>\n",
       "      <td>100</td>\n",
       "      <td>100</td>\n",
       "      <td>100</td>\n",
       "      <td>100</td>\n",
       "      <td>100</td>\n",
       "      <td>100</td>\n",
       "      <td>...</td>\n",
       "      <td>100</td>\n",
       "      <td>100</td>\n",
       "      <td>100</td>\n",
       "      <td>100</td>\n",
       "      <td>100</td>\n",
       "      <td>100</td>\n",
       "      <td>100</td>\n",
       "      <td>100</td>\n",
       "      <td>100</td>\n",
       "      <td>100</td>\n",
       "    </tr>\n",
       "    <tr>\n",
       "      <th>3</th>\n",
       "      <td>100</td>\n",
       "      <td>100</td>\n",
       "      <td>100</td>\n",
       "      <td>100</td>\n",
       "      <td>100</td>\n",
       "      <td>100</td>\n",
       "      <td>100</td>\n",
       "      <td>100</td>\n",
       "      <td>100</td>\n",
       "      <td>100</td>\n",
       "      <td>...</td>\n",
       "      <td>100</td>\n",
       "      <td>100</td>\n",
       "      <td>100</td>\n",
       "      <td>100</td>\n",
       "      <td>100</td>\n",
       "      <td>-83</td>\n",
       "      <td>-85</td>\n",
       "      <td>100</td>\n",
       "      <td>100</td>\n",
       "      <td>100</td>\n",
       "    </tr>\n",
       "    <tr>\n",
       "      <th>4</th>\n",
       "      <td>100</td>\n",
       "      <td>100</td>\n",
       "      <td>100</td>\n",
       "      <td>100</td>\n",
       "      <td>100</td>\n",
       "      <td>100</td>\n",
       "      <td>100</td>\n",
       "      <td>100</td>\n",
       "      <td>100</td>\n",
       "      <td>100</td>\n",
       "      <td>...</td>\n",
       "      <td>100</td>\n",
       "      <td>100</td>\n",
       "      <td>100</td>\n",
       "      <td>100</td>\n",
       "      <td>100</td>\n",
       "      <td>100</td>\n",
       "      <td>100</td>\n",
       "      <td>100</td>\n",
       "      <td>100</td>\n",
       "      <td>100</td>\n",
       "    </tr>\n",
       "  </tbody>\n",
       "</table>\n",
       "<p>5 rows × 434 columns</p>\n",
       "</div>"
      ],
      "text/plain": [
       "   WAP001  WAP002  WAP003  WAP004  WAP005  WAP006  WAP007  WAP008  WAP009  \\\n",
       "0     100     100     100     100     100     100     100     100     100   \n",
       "1     100     100     100     100     100     100     100     100     100   \n",
       "2     100     100     100     100     100     100     100     100     100   \n",
       "3     100     100     100     100     100     100     100     100     100   \n",
       "4     100     100     100     100     100     100     100     100     100   \n",
       "\n",
       "   WAP010  ...  WAP509  WAP510  WAP511  WAP512  WAP515  WAP516  WAP517  \\\n",
       "0     100  ...     100     100     100     100     100     100     100   \n",
       "1     100  ...     100     100     100     100     100     100     100   \n",
       "2     100  ...     100     100     100     100     100     100     100   \n",
       "3     100  ...     100     100     100     100     100     -83     -85   \n",
       "4     100  ...     100     100     100     100     100     100     100   \n",
       "\n",
       "   WAP518  WAP519  WAP520  \n",
       "0     100     100     100  \n",
       "1     100     100     100  \n",
       "2     100     100     100  \n",
       "3     100     100     100  \n",
       "4     100     100     100  \n",
       "\n",
       "[5 rows x 434 columns]"
      ]
     },
     "execution_count": 5,
     "metadata": {},
     "output_type": "execute_result"
    }
   ],
   "source": [
    "path = '/home/ale/Dropbox/UBIQUM/4.DeepAnalytics&Visualization/T4M3.WiFiLocationing/Data/'\n",
    "file_X = \"2_DataPrepro_Floor_X.csv\"\n",
    "file_y = \"2_DataPrepro_Floor_y.csv\"\n",
    "\n",
    "Saved_X = pd.read_csv(path + file_X)\n",
    "Saved_y = pd.read_csv(path + file_y)\n",
    "\n",
    "print(Saved_y.head())\n",
    "Saved_X.head()\n"
   ]
  },
  {
   "cell_type": "markdown",
   "id": "c8389923-c1a0-4ea4-b823-53a913efb52d",
   "metadata": {},
   "source": [
    "## 1.6 Train/Test Split"
   ]
  },
  {
   "cell_type": "code",
   "execution_count": 6,
   "id": "edc9813c-f182-4b77-a56d-150cc813b4b6",
   "metadata": {
    "jupyter": {
     "source_hidden": true
    },
    "tags": []
   },
   "outputs": [
    {
     "name": "stdout",
     "output_type": "stream",
     "text": [
      "X: (8972, 434) y: (8972, 1)\n",
      "X_train: (6729, 434) y_train: (6729, 1)\n",
      "X_test:  (2243, 434)  y_test:  (2243, 1)\n"
     ]
    }
   ],
   "source": [
    "# define X and y\n",
    "X = Saved_X\n",
    "y = Saved_y\n",
    "\n",
    "# define train/test_ratio\n",
    "train_ratio = 0.75\n",
    "test_ratio = 0.25\n",
    "\n",
    "# split data\n",
    "X_train, X_test, y_train, y_test = train_test_split(X, y, test_size=(1-train_ratio) )\n",
    "\n",
    "# check dimensionsc\n",
    "#print('DF: ', Tdata_Building.shape)\n",
    "print('X:', X.shape,'y:', y.shape)\n",
    "print('X_train:', X_train.shape,'y_train:', y_train.shape)\n",
    "print('X_test: ', X_test.shape,' y_test: ', y_test.shape)"
   ]
  },
  {
   "cell_type": "markdown",
   "id": "e414887f-47be-45e9-a074-f33e27d65df5",
   "metadata": {},
   "source": [
    "### Load k-NN"
   ]
  },
  {
   "cell_type": "code",
   "execution_count": 12,
   "id": "26d858a8-bb23-4ef0-88e7-d91947bfc0b8",
   "metadata": {
    "jupyter": {
     "source_hidden": true
    },
    "tags": []
   },
   "outputs": [
    {
     "name": "stdout",
     "output_type": "stream",
     "text": [
      "0.9768167632634864\n",
      "[[506   3   0   9   0]\n",
      " [  9 532   5   3   0]\n",
      " [  1   3 487   8   0]\n",
      " [  0   0   8 550   1]\n",
      " [  0   0   0   2 116]]\n"
     ]
    }
   ],
   "source": [
    "path = '/home/ale/Dropbox/UBIQUM/4.DeepAnalytics&Visualization/T4M3.WiFiLocationing/'\n",
    "file = 'Floor_KNN.joblib'\n",
    "\n",
    "# Load the model from the file\n",
    "KNN_from_joblib = joblib.load(path + file)\n",
    "\n",
    "# Use the loaded model to make predictions\n",
    "makePredictions(KNN_from_joblib, X_test, y_test)"
   ]
  },
  {
   "cell_type": "markdown",
   "id": "7ddd7743-464b-40aa-aed6-21cb43a90707",
   "metadata": {},
   "source": [
    "### Load RF"
   ]
  },
  {
   "cell_type": "code",
   "execution_count": 13,
   "id": "b048fff1-1e6e-4230-8e0b-2da7b4580de9",
   "metadata": {
    "jupyter": {
     "source_hidden": true
    },
    "tags": []
   },
   "outputs": [
    {
     "name": "stdout",
     "output_type": "stream",
     "text": [
      "0.9772625947391886\n",
      "[[507  10   1   0   0]\n",
      " [  3 542   3   1   0]\n",
      " [  1   8 483   7   0]\n",
      " [ 12   0   3 544   0]\n",
      " [  0   0   0   2 116]]\n"
     ]
    }
   ],
   "source": [
    "path = '/home/ale/Dropbox/UBIQUM/4.DeepAnalytics&Visualization/T4M3.WiFiLocationing/'\n",
    "file = 'Floor_RF.joblib'\n",
    "\n",
    "# Load the model from the file\n",
    "RF_from_joblib = joblib.load(path + file)\n",
    "\n",
    "# Use the loaded model to make predictions\n",
    "makePredictions(RF_from_joblib, X_test, y_test)"
   ]
  },
  {
   "cell_type": "markdown",
   "id": "8ae36df5-8e65-41b1-aabf-7fef3edad38b",
   "metadata": {},
   "source": [
    "### Load LR"
   ]
  },
  {
   "cell_type": "code",
   "execution_count": 14,
   "id": "9011fa14-2e89-4f41-bbf6-6ce8b46b9b7d",
   "metadata": {
    "jupyter": {
     "source_hidden": true
    },
    "tags": []
   },
   "outputs": [
    {
     "name": "stdout",
     "output_type": "stream",
     "text": [
      "0.9121711992866697\n",
      "[[493  24   0   1   0]\n",
      " [ 25 504  15   5   0]\n",
      " [  2  26 427  44   0]\n",
      " [ 13   3  32 507   4]\n",
      " [  0   0   0   3 115]]\n"
     ]
    }
   ],
   "source": [
    "path = '/home/ale/Dropbox/UBIQUM/4.DeepAnalytics&Visualization/T4M3.WiFiLocationing/'\n",
    "file = 'Floor_LR.joblib'\n",
    "\n",
    "#Load the model from the file\n",
    "LR_from_joblib = joblib.load(path + file)\n",
    "\n",
    "# Use the loaded model to make predictions\n",
    "makePredictions(LR_from_joblib, X_test, y_test)"
   ]
  }
 ],
 "metadata": {
  "kernelspec": {
   "display_name": "Python 3",
   "language": "python",
   "name": "python3"
  },
  "language_info": {
   "codemirror_mode": {
    "name": "ipython",
    "version": 3
   },
   "file_extension": ".py",
   "mimetype": "text/x-python",
   "name": "python",
   "nbconvert_exporter": "python",
   "pygments_lexer": "ipython3",
   "version": "3.8.10"
  }
 },
 "nbformat": 4,
 "nbformat_minor": 5
}
