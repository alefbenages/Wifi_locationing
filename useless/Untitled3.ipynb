{
 "cells": [
  {
   "cell_type": "code",
   "execution_count": null,
   "id": "be34d834-4b9a-443e-8f37-26c954236ad7",
   "metadata": {},
   "outputs": [],
   "source": [
    "v"
   ]
  },
  {
   "cell_type": "code",
   "execution_count": 22,
   "id": "4153a62c-1dcb-41f2-91ae-99d8e3fd20c7",
   "metadata": {},
   "outputs": [],
   "source": [
    "model = KNeighborsClassifier() \n",
    "\n",
    "# print the full list of parametrizable parameters\n",
    "# model.get_params(deep=True)"
   ]
  },
  {
   "cell_type": "code",
   "execution_count": 75,
   "id": "c5e15922-6c8c-430b-9047-3981ce8f37d2",
   "metadata": {},
   "outputs": [],
   "source": [
    "#Setup the parameters and distributions to sample from: param_dist\n",
    "cv = 5\n",
    "n_jobs = -1 # uses all the processors\n",
    "param_dist_LR = {'algorithm': [\"auto\"],# \"ball_tree\", \"kd_tree\", \"brute\"], \n",
    "                 'leaf_size': [2,4,6],\n",
    "                 #'metric': 'minkowski',\n",
    "                 #'metric_params': None,\n",
    "                 #'n_jobs': None,\n",
    "                 'n_neighbors': [1,2,4],\n",
    "                 #'p': 2,\n",
    "                 'weights': [\"uniform\", \"distance\"]\n",
    "                }\n",
    "\n",
    "#KNN_RSCV = RandomizedSearchCV(model, param_dist_LR, cv=cv, n_jobs=n_jobs)\n",
    "KNN_GSCV = GridSearchCV(model, param_dist_LR, cv=cv, n_jobs=n_jobs)"
   ]
  },
  {
   "cell_type": "code",
   "execution_count": 76,
   "id": "19983c0b-5ab9-4d42-9ce7-4fa5258b2e11",
   "metadata": {},
   "outputs": [
    {
     "name": "stdout",
     "output_type": "stream",
     "text": [
      "Tuned Decision KNN-CV Parameters: {'algorithm': 'auto', 'leaf_size': 2, 'n_neighbors': 1, 'weights': 'uniform'}\n",
      "Tuned Decision KNN-CV Best Score: 0.9155880842037816\n"
     ]
    }
   ],
   "source": [
    "# Fit it to the data\n",
    "KNN_GSCV.fit(X_train,y_train.values.ravel())\n",
    "\n",
    "# Print the tuned parameters and score\n",
    "print(\"Tuned Decision KNN-CV Parameters: {}\".format(KNN_GSCV.best_params_))\n",
    "#print(\"Tuned Decision KNN-CV Best Score: {}\".format(KNN_GSCV.best_score_))"
   ]
  },
  {
   "cell_type": "code",
   "execution_count": 77,
   "id": "074b71c7-3155-45d9-8113-bcb0a2d8585b",
   "metadata": {},
   "outputs": [
    {
     "name": "stdout",
     "output_type": "stream",
     "text": [
      "Accuracy RF: 0.9500668747213553\n",
      "[[486  17   1   0   0]\n",
      " [ 14 514   8   6   0]\n",
      " [  1  25 464   9   0]\n",
      " [  9   0  12 541   0]\n",
      " [  0   0   0  10 126]]\n",
      "              precision    recall  f1-score   support\n",
      "\n",
      "           0       0.95      0.96      0.96       504\n",
      "           1       0.92      0.95      0.94       542\n",
      "           2       0.96      0.93      0.94       499\n",
      "           3       0.96      0.96      0.96       562\n",
      "           4       1.00      0.93      0.96       136\n",
      "\n",
      "    accuracy                           0.95      2243\n",
      "   macro avg       0.96      0.95      0.95      2243\n",
      "weighted avg       0.95      0.95      0.95      2243\n",
      "\n"
     ]
    }
   ],
   "source": [
    "# Make Predictions\n",
    "RF_predictions = RF_GSCV.predict(X_test)\n",
    "\n",
    "# Evaluate Predictions\n",
    "print(\"Accuracy RF: {}\".format(accuracy_score(y_test, RF_predictions)))\n",
    "print(confusion_matrix(y_test, RF_predictcions))\n",
    "print(classification_report(y_test, RF_predictions))"
   ]
  }
 ],
 "metadata": {
  "kernelspec": {
   "display_name": "Python 3",
   "language": "python",
   "name": "python3"
  },
  "language_info": {
   "codemirror_mode": {
    "name": "ipython",
    "version": 3
   },
   "file_extension": ".py",
   "mimetype": "text/x-python",
   "name": "python",
   "nbconvert_exporter": "python",
   "pygments_lexer": "ipython3",
   "version": "3.8.10"
  }
 },
 "nbformat": 4,
 "nbformat_minor": 5
}
