{
 "cells": [
  {
   "cell_type": "markdown",
   "id": "0b0a5a5f-6f5e-40d4-8665-a36de12e189d",
   "metadata": {},
   "source": [
    "# 1_PRREDICT BUILDING"
   ]
  },
  {
   "cell_type": "markdown",
   "id": "0d66b994-09c2-4ea2-8d7e-adbccab7758b",
   "metadata": {},
   "source": [
    "# Import libraries"
   ]
  },
  {
   "cell_type": "code",
   "execution_count": 27,
   "id": "ce66f0a7-5585-46dd-86aa-95599b1da210",
   "metadata": {},
   "outputs": [],
   "source": [
    "# basic\n",
    "import pandas as pd\n",
    "import numpy as np\n",
    "import matplotlib.pyplot as plt\n",
    "import seaborn as sns\n",
    "\n",
    "# estimators\n",
    "\n",
    "\n",
    "from sklearn.tree import DecisionTreeRegressor\n",
    "from sklearn.svm import SVR\n",
    "from sklearn.ensemble import RandomForestRegressor\n",
    "from sklearn.ensemble import GradientBoostingRegressor\n",
    "#from sklearn.linear_model import LinearRegression, Ridge, Lasso\n",
    "\n",
    "# Classification Models\n",
    "from sklearn.svm import LinearSVC\n",
    "from sklearn.neighbors import NearestNeighbors\n",
    "from sklearn.neighbors import KNeighborsClassifier\n",
    "from sklearn.ensemble import RandomForestClassifier\n",
    "from sklearn.tree import DecisionTreeClassifier\n",
    "from sklearn.linear_model import LogisticRegression\n",
    "\n",
    "# tools\n",
    "from sklearn.model_selection import train_test_split\n",
    "\n",
    "# regression model metrics\n",
    "from sklearn.metrics import mean_squared_error\n",
    "from sklearn.metrics import r2_score\n",
    "from sklearn.model_selection import cross_val_score\n",
    "# classification model metrics\n",
    "from sklearn.metrics import accuracy_score\n",
    "\n",
    "#Hyper parameter tuning\n",
    "from sklearn.model_selection import RandomizedSearchCV, GridSearchCV\n",
    "\n",
    "# To save the ML models\n",
    "import joblib"
   ]
  },
  {
   "cell_type": "markdown",
   "id": "4f7ca99a-a53c-44bb-81d3-71a24dbc1cd3",
   "metadata": {},
   "source": [
    "# Import Data"
   ]
  },
  {
   "cell_type": "code",
   "execution_count": 2,
   "id": "690e7ac6-82ce-4636-af34-8300295573b2",
   "metadata": {},
   "outputs": [
    {
     "data": {
      "text/html": [
       "<div>\n",
       "<style scoped>\n",
       "    .dataframe tbody tr th:only-of-type {\n",
       "        vertical-align: middle;\n",
       "    }\n",
       "\n",
       "    .dataframe tbody tr th {\n",
       "        vertical-align: top;\n",
       "    }\n",
       "\n",
       "    .dataframe thead th {\n",
       "        text-align: right;\n",
       "    }\n",
       "</style>\n",
       "<table border=\"1\" class=\"dataframe\">\n",
       "  <thead>\n",
       "    <tr style=\"text-align: right;\">\n",
       "      <th></th>\n",
       "      <th>WAP001</th>\n",
       "      <th>WAP002</th>\n",
       "      <th>WAP003</th>\n",
       "      <th>WAP004</th>\n",
       "      <th>WAP005</th>\n",
       "      <th>WAP006</th>\n",
       "      <th>WAP007</th>\n",
       "      <th>WAP008</th>\n",
       "      <th>WAP009</th>\n",
       "      <th>WAP010</th>\n",
       "      <th>...</th>\n",
       "      <th>WAP520</th>\n",
       "      <th>LONGITUDE</th>\n",
       "      <th>LATITUDE</th>\n",
       "      <th>FLOOR</th>\n",
       "      <th>BUILDINGID</th>\n",
       "      <th>SPACEID</th>\n",
       "      <th>RELATIVEPOSITION</th>\n",
       "      <th>USERID</th>\n",
       "      <th>PHONEID</th>\n",
       "      <th>TIMESTAMP</th>\n",
       "    </tr>\n",
       "  </thead>\n",
       "  <tbody>\n",
       "    <tr>\n",
       "      <th>0</th>\n",
       "      <td>100</td>\n",
       "      <td>100</td>\n",
       "      <td>100</td>\n",
       "      <td>100</td>\n",
       "      <td>100</td>\n",
       "      <td>100</td>\n",
       "      <td>100</td>\n",
       "      <td>100</td>\n",
       "      <td>100</td>\n",
       "      <td>100</td>\n",
       "      <td>...</td>\n",
       "      <td>100</td>\n",
       "      <td>-7541.2643</td>\n",
       "      <td>4.864921e+06</td>\n",
       "      <td>2</td>\n",
       "      <td>1</td>\n",
       "      <td>106</td>\n",
       "      <td>2</td>\n",
       "      <td>2</td>\n",
       "      <td>23</td>\n",
       "      <td>1371713733</td>\n",
       "    </tr>\n",
       "    <tr>\n",
       "      <th>1</th>\n",
       "      <td>100</td>\n",
       "      <td>100</td>\n",
       "      <td>100</td>\n",
       "      <td>100</td>\n",
       "      <td>100</td>\n",
       "      <td>100</td>\n",
       "      <td>100</td>\n",
       "      <td>100</td>\n",
       "      <td>100</td>\n",
       "      <td>100</td>\n",
       "      <td>...</td>\n",
       "      <td>100</td>\n",
       "      <td>-7536.6212</td>\n",
       "      <td>4.864934e+06</td>\n",
       "      <td>2</td>\n",
       "      <td>1</td>\n",
       "      <td>106</td>\n",
       "      <td>2</td>\n",
       "      <td>2</td>\n",
       "      <td>23</td>\n",
       "      <td>1371713691</td>\n",
       "    </tr>\n",
       "    <tr>\n",
       "      <th>2</th>\n",
       "      <td>100</td>\n",
       "      <td>100</td>\n",
       "      <td>100</td>\n",
       "      <td>100</td>\n",
       "      <td>100</td>\n",
       "      <td>100</td>\n",
       "      <td>100</td>\n",
       "      <td>-97</td>\n",
       "      <td>100</td>\n",
       "      <td>100</td>\n",
       "      <td>...</td>\n",
       "      <td>100</td>\n",
       "      <td>-7519.1524</td>\n",
       "      <td>4.864950e+06</td>\n",
       "      <td>2</td>\n",
       "      <td>1</td>\n",
       "      <td>103</td>\n",
       "      <td>2</td>\n",
       "      <td>2</td>\n",
       "      <td>23</td>\n",
       "      <td>1371714095</td>\n",
       "    </tr>\n",
       "    <tr>\n",
       "      <th>3</th>\n",
       "      <td>100</td>\n",
       "      <td>100</td>\n",
       "      <td>100</td>\n",
       "      <td>100</td>\n",
       "      <td>100</td>\n",
       "      <td>100</td>\n",
       "      <td>100</td>\n",
       "      <td>100</td>\n",
       "      <td>100</td>\n",
       "      <td>100</td>\n",
       "      <td>...</td>\n",
       "      <td>100</td>\n",
       "      <td>-7524.5704</td>\n",
       "      <td>4.864934e+06</td>\n",
       "      <td>2</td>\n",
       "      <td>1</td>\n",
       "      <td>102</td>\n",
       "      <td>2</td>\n",
       "      <td>2</td>\n",
       "      <td>23</td>\n",
       "      <td>1371713807</td>\n",
       "    </tr>\n",
       "    <tr>\n",
       "      <th>4</th>\n",
       "      <td>100</td>\n",
       "      <td>100</td>\n",
       "      <td>100</td>\n",
       "      <td>100</td>\n",
       "      <td>100</td>\n",
       "      <td>100</td>\n",
       "      <td>100</td>\n",
       "      <td>100</td>\n",
       "      <td>100</td>\n",
       "      <td>100</td>\n",
       "      <td>...</td>\n",
       "      <td>100</td>\n",
       "      <td>-7632.1436</td>\n",
       "      <td>4.864982e+06</td>\n",
       "      <td>0</td>\n",
       "      <td>0</td>\n",
       "      <td>122</td>\n",
       "      <td>2</td>\n",
       "      <td>11</td>\n",
       "      <td>13</td>\n",
       "      <td>1369909710</td>\n",
       "    </tr>\n",
       "  </tbody>\n",
       "</table>\n",
       "<p>5 rows × 529 columns</p>\n",
       "</div>"
      ],
      "text/plain": [
       "   WAP001  WAP002  WAP003  WAP004  WAP005  WAP006  WAP007  WAP008  WAP009  \\\n",
       "0     100     100     100     100     100     100     100     100     100   \n",
       "1     100     100     100     100     100     100     100     100     100   \n",
       "2     100     100     100     100     100     100     100     -97     100   \n",
       "3     100     100     100     100     100     100     100     100     100   \n",
       "4     100     100     100     100     100     100     100     100     100   \n",
       "\n",
       "   WAP010  ...  WAP520  LONGITUDE      LATITUDE  FLOOR  BUILDINGID  SPACEID  \\\n",
       "0     100  ...     100 -7541.2643  4.864921e+06      2           1      106   \n",
       "1     100  ...     100 -7536.6212  4.864934e+06      2           1      106   \n",
       "2     100  ...     100 -7519.1524  4.864950e+06      2           1      103   \n",
       "3     100  ...     100 -7524.5704  4.864934e+06      2           1      102   \n",
       "4     100  ...     100 -7632.1436  4.864982e+06      0           0      122   \n",
       "\n",
       "   RELATIVEPOSITION  USERID  PHONEID   TIMESTAMP  \n",
       "0                 2       2       23  1371713733  \n",
       "1                 2       2       23  1371713691  \n",
       "2                 2       2       23  1371714095  \n",
       "3                 2       2       23  1371713807  \n",
       "4                 2      11       13  1369909710  \n",
       "\n",
       "[5 rows x 529 columns]"
      ]
     },
     "execution_count": 2,
     "metadata": {},
     "output_type": "execute_result"
    }
   ],
   "source": [
    "path = '/home/ale/Dropbox/UBIQUM/4.DeepAnalytics&Visualization/T4M3.WiFiLocationing/Data/'\n",
    " \n",
    "file = \"0_DataPrepro.csv\"\n",
    "\n",
    "Tdata = pd.read_csv(path + file)\n",
    "\n",
    "Tdata.head()\n",
    "\n",
    "\n"
   ]
  },
  {
   "cell_type": "markdown",
   "id": "9b4161c0-12c4-40e1-8138-e77d8270567f",
   "metadata": {},
   "source": [
    "# Cascade Model\n",
    "\n",
    "Also remember the cascade model thing. Predict first one thing, then another, then another etc.. in every iteration we add the features we want to predict. "
   ]
  },
  {
   "cell_type": "markdown",
   "id": "b32e168b-9a71-43d8-9233-0c63bc159d51",
   "metadata": {},
   "source": [
    "Steps\n",
    "1. remove uselsss features\n",
    "2. dummify\n",
    "3. sample to iterate, but just to trial error \n",
    "4. divide train/test\n",
    "5. apply the model\n",
    "6. performace metrics"
   ]
  },
  {
   "cell_type": "markdown",
   "id": "5315db1a-97da-4631-b1e3-45b2a15074e6",
   "metadata": {
    "tags": []
   },
   "source": [
    "# 1. Predict Building\n",
    "\n",
    "start by predicting the building beacuse it's the easiest one, just 3 possibilities: 0, 1, 2. \n",
    "\n",
    "- Predictors: all the WAP Features\n",
    "- Predicted: BUILDINGid"
   ]
  },
  {
   "cell_type": "markdown",
   "id": "6e3ecad6-cf00-4f56-a237-ff5e599373af",
   "metadata": {},
   "source": [
    "## 1.1 Keep Usefull features"
   ]
  },
  {
   "cell_type": "code",
   "execution_count": 3,
   "id": "e08231bc-aee4-4426-81a8-4d830258d57a",
   "metadata": {},
   "outputs": [
    {
     "data": {
      "text/html": [
       "<div>\n",
       "<style scoped>\n",
       "    .dataframe tbody tr th:only-of-type {\n",
       "        vertical-align: middle;\n",
       "    }\n",
       "\n",
       "    .dataframe tbody tr th {\n",
       "        vertical-align: top;\n",
       "    }\n",
       "\n",
       "    .dataframe thead th {\n",
       "        text-align: right;\n",
       "    }\n",
       "</style>\n",
       "<table border=\"1\" class=\"dataframe\">\n",
       "  <thead>\n",
       "    <tr style=\"text-align: right;\">\n",
       "      <th></th>\n",
       "      <th>WAP001</th>\n",
       "      <th>WAP002</th>\n",
       "      <th>WAP003</th>\n",
       "      <th>WAP004</th>\n",
       "      <th>WAP005</th>\n",
       "      <th>WAP006</th>\n",
       "      <th>WAP007</th>\n",
       "      <th>WAP008</th>\n",
       "      <th>WAP009</th>\n",
       "      <th>WAP010</th>\n",
       "      <th>...</th>\n",
       "      <th>WAP512</th>\n",
       "      <th>WAP513</th>\n",
       "      <th>WAP514</th>\n",
       "      <th>WAP515</th>\n",
       "      <th>WAP516</th>\n",
       "      <th>WAP517</th>\n",
       "      <th>WAP518</th>\n",
       "      <th>WAP519</th>\n",
       "      <th>WAP520</th>\n",
       "      <th>BUILDINGID</th>\n",
       "    </tr>\n",
       "  </thead>\n",
       "  <tbody>\n",
       "    <tr>\n",
       "      <th>0</th>\n",
       "      <td>100</td>\n",
       "      <td>100</td>\n",
       "      <td>100</td>\n",
       "      <td>100</td>\n",
       "      <td>100</td>\n",
       "      <td>100</td>\n",
       "      <td>100</td>\n",
       "      <td>100</td>\n",
       "      <td>100</td>\n",
       "      <td>100</td>\n",
       "      <td>...</td>\n",
       "      <td>100</td>\n",
       "      <td>100</td>\n",
       "      <td>100</td>\n",
       "      <td>100</td>\n",
       "      <td>100</td>\n",
       "      <td>100</td>\n",
       "      <td>100</td>\n",
       "      <td>100</td>\n",
       "      <td>100</td>\n",
       "      <td>1</td>\n",
       "    </tr>\n",
       "    <tr>\n",
       "      <th>1</th>\n",
       "      <td>100</td>\n",
       "      <td>100</td>\n",
       "      <td>100</td>\n",
       "      <td>100</td>\n",
       "      <td>100</td>\n",
       "      <td>100</td>\n",
       "      <td>100</td>\n",
       "      <td>100</td>\n",
       "      <td>100</td>\n",
       "      <td>100</td>\n",
       "      <td>...</td>\n",
       "      <td>100</td>\n",
       "      <td>100</td>\n",
       "      <td>100</td>\n",
       "      <td>100</td>\n",
       "      <td>100</td>\n",
       "      <td>100</td>\n",
       "      <td>100</td>\n",
       "      <td>100</td>\n",
       "      <td>100</td>\n",
       "      <td>1</td>\n",
       "    </tr>\n",
       "    <tr>\n",
       "      <th>2</th>\n",
       "      <td>100</td>\n",
       "      <td>100</td>\n",
       "      <td>100</td>\n",
       "      <td>100</td>\n",
       "      <td>100</td>\n",
       "      <td>100</td>\n",
       "      <td>100</td>\n",
       "      <td>-97</td>\n",
       "      <td>100</td>\n",
       "      <td>100</td>\n",
       "      <td>...</td>\n",
       "      <td>100</td>\n",
       "      <td>100</td>\n",
       "      <td>100</td>\n",
       "      <td>100</td>\n",
       "      <td>100</td>\n",
       "      <td>100</td>\n",
       "      <td>100</td>\n",
       "      <td>100</td>\n",
       "      <td>100</td>\n",
       "      <td>1</td>\n",
       "    </tr>\n",
       "    <tr>\n",
       "      <th>3</th>\n",
       "      <td>100</td>\n",
       "      <td>100</td>\n",
       "      <td>100</td>\n",
       "      <td>100</td>\n",
       "      <td>100</td>\n",
       "      <td>100</td>\n",
       "      <td>100</td>\n",
       "      <td>100</td>\n",
       "      <td>100</td>\n",
       "      <td>100</td>\n",
       "      <td>...</td>\n",
       "      <td>100</td>\n",
       "      <td>100</td>\n",
       "      <td>100</td>\n",
       "      <td>100</td>\n",
       "      <td>100</td>\n",
       "      <td>100</td>\n",
       "      <td>100</td>\n",
       "      <td>100</td>\n",
       "      <td>100</td>\n",
       "      <td>1</td>\n",
       "    </tr>\n",
       "    <tr>\n",
       "      <th>4</th>\n",
       "      <td>100</td>\n",
       "      <td>100</td>\n",
       "      <td>100</td>\n",
       "      <td>100</td>\n",
       "      <td>100</td>\n",
       "      <td>100</td>\n",
       "      <td>100</td>\n",
       "      <td>100</td>\n",
       "      <td>100</td>\n",
       "      <td>100</td>\n",
       "      <td>...</td>\n",
       "      <td>100</td>\n",
       "      <td>100</td>\n",
       "      <td>100</td>\n",
       "      <td>100</td>\n",
       "      <td>100</td>\n",
       "      <td>100</td>\n",
       "      <td>100</td>\n",
       "      <td>100</td>\n",
       "      <td>100</td>\n",
       "      <td>0</td>\n",
       "    </tr>\n",
       "  </tbody>\n",
       "</table>\n",
       "<p>5 rows × 521 columns</p>\n",
       "</div>"
      ],
      "text/plain": [
       "   WAP001  WAP002  WAP003  WAP004  WAP005  WAP006  WAP007  WAP008  WAP009  \\\n",
       "0     100     100     100     100     100     100     100     100     100   \n",
       "1     100     100     100     100     100     100     100     100     100   \n",
       "2     100     100     100     100     100     100     100     -97     100   \n",
       "3     100     100     100     100     100     100     100     100     100   \n",
       "4     100     100     100     100     100     100     100     100     100   \n",
       "\n",
       "   WAP010  ...  WAP512  WAP513  WAP514  WAP515  WAP516  WAP517  WAP518  \\\n",
       "0     100  ...     100     100     100     100     100     100     100   \n",
       "1     100  ...     100     100     100     100     100     100     100   \n",
       "2     100  ...     100     100     100     100     100     100     100   \n",
       "3     100  ...     100     100     100     100     100     100     100   \n",
       "4     100  ...     100     100     100     100     100     100     100   \n",
       "\n",
       "   WAP519  WAP520  BUILDINGID  \n",
       "0     100     100           1  \n",
       "1     100     100           1  \n",
       "2     100     100           1  \n",
       "3     100     100           1  \n",
       "4     100     100           0  \n",
       "\n",
       "[5 rows x 521 columns]"
      ]
     },
     "execution_count": 3,
     "metadata": {},
     "output_type": "execute_result"
    }
   ],
   "source": [
    "# make a copy of the dataset, keeping only the predictor/predicted features\n",
    "Tdata_Building = Tdata.drop(columns = ['LONGITUDE', 'LATITUDE', 'FLOOR', 'SPACEID','RELATIVEPOSITION', 'USERID', 'PHONEID', 'TIMESTAMP'])\n",
    "\n",
    "Tdata_Building.head()"
   ]
  },
  {
   "cell_type": "markdown",
   "id": "cfd521f7-00f3-46bb-adf9-6701217908a0",
   "metadata": {},
   "source": [
    "## 1.2 Dummify\n",
    "\n",
    "In this case it's not needed, because i'm using all numerical variables to predict a categorical variable. "
   ]
  },
  {
   "cell_type": "markdown",
   "id": "26850914-96de-46fd-8166-2cc317eb8f1c",
   "metadata": {},
   "source": [
    "## 1.3 Sample Data\n",
    "\n",
    "As there is a lot of data, is a good idea to fail faster with a reduced proportion of the data"
   ]
  },
  {
   "cell_type": "code",
   "execution_count": 4,
   "id": "f9918d52-a334-4b8f-9ad5-73efaaa1901f",
   "metadata": {},
   "outputs": [],
   "source": [
    "sample =  Tdata_Building"
   ]
  },
  {
   "cell_type": "code",
   "execution_count": 5,
   "id": "bb68b1fc-7517-44b7-ad4e-70fd5da3d438",
   "metadata": {},
   "outputs": [
    {
     "name": "stdout",
     "output_type": "stream",
     "text": [
      "Len of the DF :8972\n"
     ]
    }
   ],
   "source": [
    "Tdata_Building = sample.sample(frac =.45, random_state= 200)\n",
    "\n",
    "print(\"Len of the DF :\" + str(len(Tdata_Building)))\n",
    "\n",
    "#Tdata_Building.head()"
   ]
  },
  {
   "cell_type": "markdown",
   "id": "7849d055-de5b-46ce-b620-6658a93ff608",
   "metadata": {},
   "source": [
    "## 1.4 X/y Split"
   ]
  },
  {
   "cell_type": "code",
   "execution_count": 6,
   "id": "03950ecd-44c0-4aa8-bba0-4c4dbb5a7540",
   "metadata": {},
   "outputs": [
    {
     "data": {
      "text/html": [
       "<div>\n",
       "<style scoped>\n",
       "    .dataframe tbody tr th:only-of-type {\n",
       "        vertical-align: middle;\n",
       "    }\n",
       "\n",
       "    .dataframe tbody tr th {\n",
       "        vertical-align: top;\n",
       "    }\n",
       "\n",
       "    .dataframe thead th {\n",
       "        text-align: right;\n",
       "    }\n",
       "</style>\n",
       "<table border=\"1\" class=\"dataframe\">\n",
       "  <thead>\n",
       "    <tr style=\"text-align: right;\">\n",
       "      <th></th>\n",
       "      <th>WAP001</th>\n",
       "      <th>WAP002</th>\n",
       "      <th>WAP003</th>\n",
       "      <th>WAP004</th>\n",
       "      <th>WAP005</th>\n",
       "      <th>WAP006</th>\n",
       "      <th>WAP007</th>\n",
       "      <th>WAP008</th>\n",
       "      <th>WAP009</th>\n",
       "      <th>WAP010</th>\n",
       "      <th>...</th>\n",
       "      <th>WAP511</th>\n",
       "      <th>WAP512</th>\n",
       "      <th>WAP513</th>\n",
       "      <th>WAP514</th>\n",
       "      <th>WAP515</th>\n",
       "      <th>WAP516</th>\n",
       "      <th>WAP517</th>\n",
       "      <th>WAP518</th>\n",
       "      <th>WAP519</th>\n",
       "      <th>WAP520</th>\n",
       "    </tr>\n",
       "  </thead>\n",
       "  <tbody>\n",
       "    <tr>\n",
       "      <th>998</th>\n",
       "      <td>100</td>\n",
       "      <td>100</td>\n",
       "      <td>100</td>\n",
       "      <td>100</td>\n",
       "      <td>100</td>\n",
       "      <td>100</td>\n",
       "      <td>100</td>\n",
       "      <td>100</td>\n",
       "      <td>100</td>\n",
       "      <td>100</td>\n",
       "      <td>...</td>\n",
       "      <td>100</td>\n",
       "      <td>100</td>\n",
       "      <td>100</td>\n",
       "      <td>100</td>\n",
       "      <td>100</td>\n",
       "      <td>100</td>\n",
       "      <td>100</td>\n",
       "      <td>100</td>\n",
       "      <td>100</td>\n",
       "      <td>100</td>\n",
       "    </tr>\n",
       "    <tr>\n",
       "      <th>2013</th>\n",
       "      <td>100</td>\n",
       "      <td>100</td>\n",
       "      <td>100</td>\n",
       "      <td>100</td>\n",
       "      <td>100</td>\n",
       "      <td>100</td>\n",
       "      <td>100</td>\n",
       "      <td>100</td>\n",
       "      <td>100</td>\n",
       "      <td>100</td>\n",
       "      <td>...</td>\n",
       "      <td>100</td>\n",
       "      <td>100</td>\n",
       "      <td>100</td>\n",
       "      <td>100</td>\n",
       "      <td>100</td>\n",
       "      <td>100</td>\n",
       "      <td>100</td>\n",
       "      <td>100</td>\n",
       "      <td>100</td>\n",
       "      <td>100</td>\n",
       "    </tr>\n",
       "    <tr>\n",
       "      <th>1665</th>\n",
       "      <td>100</td>\n",
       "      <td>100</td>\n",
       "      <td>100</td>\n",
       "      <td>100</td>\n",
       "      <td>100</td>\n",
       "      <td>100</td>\n",
       "      <td>100</td>\n",
       "      <td>100</td>\n",
       "      <td>100</td>\n",
       "      <td>100</td>\n",
       "      <td>...</td>\n",
       "      <td>100</td>\n",
       "      <td>100</td>\n",
       "      <td>100</td>\n",
       "      <td>100</td>\n",
       "      <td>100</td>\n",
       "      <td>100</td>\n",
       "      <td>100</td>\n",
       "      <td>100</td>\n",
       "      <td>100</td>\n",
       "      <td>100</td>\n",
       "    </tr>\n",
       "    <tr>\n",
       "      <th>6188</th>\n",
       "      <td>100</td>\n",
       "      <td>100</td>\n",
       "      <td>100</td>\n",
       "      <td>100</td>\n",
       "      <td>100</td>\n",
       "      <td>100</td>\n",
       "      <td>100</td>\n",
       "      <td>100</td>\n",
       "      <td>100</td>\n",
       "      <td>100</td>\n",
       "      <td>...</td>\n",
       "      <td>100</td>\n",
       "      <td>100</td>\n",
       "      <td>100</td>\n",
       "      <td>100</td>\n",
       "      <td>100</td>\n",
       "      <td>-83</td>\n",
       "      <td>-85</td>\n",
       "      <td>100</td>\n",
       "      <td>100</td>\n",
       "      <td>100</td>\n",
       "    </tr>\n",
       "    <tr>\n",
       "      <th>2671</th>\n",
       "      <td>100</td>\n",
       "      <td>100</td>\n",
       "      <td>100</td>\n",
       "      <td>100</td>\n",
       "      <td>100</td>\n",
       "      <td>100</td>\n",
       "      <td>100</td>\n",
       "      <td>100</td>\n",
       "      <td>100</td>\n",
       "      <td>100</td>\n",
       "      <td>...</td>\n",
       "      <td>100</td>\n",
       "      <td>100</td>\n",
       "      <td>100</td>\n",
       "      <td>100</td>\n",
       "      <td>100</td>\n",
       "      <td>100</td>\n",
       "      <td>100</td>\n",
       "      <td>100</td>\n",
       "      <td>100</td>\n",
       "      <td>100</td>\n",
       "    </tr>\n",
       "  </tbody>\n",
       "</table>\n",
       "<p>5 rows × 520 columns</p>\n",
       "</div>"
      ],
      "text/plain": [
       "      WAP001  WAP002  WAP003  WAP004  WAP005  WAP006  WAP007  WAP008  WAP009  \\\n",
       "998      100     100     100     100     100     100     100     100     100   \n",
       "2013     100     100     100     100     100     100     100     100     100   \n",
       "1665     100     100     100     100     100     100     100     100     100   \n",
       "6188     100     100     100     100     100     100     100     100     100   \n",
       "2671     100     100     100     100     100     100     100     100     100   \n",
       "\n",
       "      WAP010  ...  WAP511  WAP512  WAP513  WAP514  WAP515  WAP516  WAP517  \\\n",
       "998      100  ...     100     100     100     100     100     100     100   \n",
       "2013     100  ...     100     100     100     100     100     100     100   \n",
       "1665     100  ...     100     100     100     100     100     100     100   \n",
       "6188     100  ...     100     100     100     100     100     -83     -85   \n",
       "2671     100  ...     100     100     100     100     100     100     100   \n",
       "\n",
       "      WAP518  WAP519  WAP520  \n",
       "998      100     100     100  \n",
       "2013     100     100     100  \n",
       "1665     100     100     100  \n",
       "6188     100     100     100  \n",
       "2671     100     100     100  \n",
       "\n",
       "[5 rows x 520 columns]"
      ]
     },
     "execution_count": 6,
     "metadata": {},
     "output_type": "execute_result"
    }
   ],
   "source": [
    "X_building = Tdata_Building.iloc[:,0:520]\n",
    "y_building = Tdata_Building.iloc[:,520:521]\n",
    "\n",
    "X_building.head() # check predictors"
   ]
  },
  {
   "cell_type": "code",
   "execution_count": 7,
   "id": "1256a065-af33-4804-9882-f7c0a36128de",
   "metadata": {},
   "outputs": [
    {
     "data": {
      "text/html": [
       "<div>\n",
       "<style scoped>\n",
       "    .dataframe tbody tr th:only-of-type {\n",
       "        vertical-align: middle;\n",
       "    }\n",
       "\n",
       "    .dataframe tbody tr th {\n",
       "        vertical-align: top;\n",
       "    }\n",
       "\n",
       "    .dataframe thead th {\n",
       "        text-align: right;\n",
       "    }\n",
       "</style>\n",
       "<table border=\"1\" class=\"dataframe\">\n",
       "  <thead>\n",
       "    <tr style=\"text-align: right;\">\n",
       "      <th></th>\n",
       "      <th>BUILDINGID</th>\n",
       "    </tr>\n",
       "  </thead>\n",
       "  <tbody>\n",
       "    <tr>\n",
       "      <th>998</th>\n",
       "      <td>1</td>\n",
       "    </tr>\n",
       "    <tr>\n",
       "      <th>2013</th>\n",
       "      <td>2</td>\n",
       "    </tr>\n",
       "    <tr>\n",
       "      <th>1665</th>\n",
       "      <td>2</td>\n",
       "    </tr>\n",
       "    <tr>\n",
       "      <th>6188</th>\n",
       "      <td>2</td>\n",
       "    </tr>\n",
       "    <tr>\n",
       "      <th>2671</th>\n",
       "      <td>2</td>\n",
       "    </tr>\n",
       "  </tbody>\n",
       "</table>\n",
       "</div>"
      ],
      "text/plain": [
       "      BUILDINGID\n",
       "998            1\n",
       "2013           2\n",
       "1665           2\n",
       "6188           2\n",
       "2671           2"
      ]
     },
     "execution_count": 7,
     "metadata": {},
     "output_type": "execute_result"
    }
   ],
   "source": [
    "y_building.head() # check predicted"
   ]
  },
  {
   "cell_type": "markdown",
   "id": "46950201-e87e-4ede-ad16-412e984be627",
   "metadata": {},
   "source": [
    "## 1.5 Multicolinearity\n",
    "\n",
    "For reference, the goal of regression is to isolate the relationship between each independent variable and the dependent variable. Multicollinearity weakens the statistical power of your model, thus leaving you unable to trust the p-values identifying which independent variables are statistically significant. In summary, multicollinearity won’t let you know the true effect of each variable."
   ]
  },
  {
   "cell_type": "markdown",
   "id": "b5a29263-32c2-4ac9-9d58-9bd78e925804",
   "metadata": {},
   "source": [
    "### Calculate the Variance Inflation Factor (VIF).\n",
    "VIF measures the collinearity among independent variables within a regression model. Then remove the multicorrelated features. \n",
    "\n",
    "https://kaiserm.medium.com/how-to-tackle-multicollinearity-79afe58e9479"
   ]
  },
  {
   "cell_type": "code",
   "execution_count": 8,
   "id": "ec00cca0-388c-41a4-b136-d5210e2c3d7d",
   "metadata": {},
   "outputs": [
    {
     "name": "stderr",
     "output_type": "stream",
     "text": [
      "/home/ale/anaconda3/lib/python3.8/site-packages/statsmodels/regression/linear_model.py:1715: RuntimeWarning: divide by zero encountered in double_scalars\n",
      "  return 1 - self.ssr/self.centered_tss\n",
      "/home/ale/anaconda3/lib/python3.8/site-packages/statsmodels/stats/outliers_influence.py:193: RuntimeWarning: divide by zero encountered in double_scalars\n",
      "  vif = 1. / (1. - r_squared_i)\n"
     ]
    },
    {
     "data": {
      "text/html": [
       "<div>\n",
       "<style scoped>\n",
       "    .dataframe tbody tr th:only-of-type {\n",
       "        vertical-align: middle;\n",
       "    }\n",
       "\n",
       "    .dataframe tbody tr th {\n",
       "        vertical-align: top;\n",
       "    }\n",
       "\n",
       "    .dataframe thead th {\n",
       "        text-align: right;\n",
       "    }\n",
       "</style>\n",
       "<table border=\"1\" class=\"dataframe\">\n",
       "  <thead>\n",
       "    <tr style=\"text-align: right;\">\n",
       "      <th></th>\n",
       "      <th>variables</th>\n",
       "      <th>VIF</th>\n",
       "    </tr>\n",
       "  </thead>\n",
       "  <tbody>\n",
       "    <tr>\n",
       "      <th>0</th>\n",
       "      <td>WAP001</td>\n",
       "      <td>1.238410</td>\n",
       "    </tr>\n",
       "    <tr>\n",
       "      <th>1</th>\n",
       "      <td>WAP002</td>\n",
       "      <td>1.593780</td>\n",
       "    </tr>\n",
       "    <tr>\n",
       "      <th>2</th>\n",
       "      <td>WAP003</td>\n",
       "      <td>0.000000</td>\n",
       "    </tr>\n",
       "    <tr>\n",
       "      <th>3</th>\n",
       "      <td>WAP004</td>\n",
       "      <td>0.000000</td>\n",
       "    </tr>\n",
       "    <tr>\n",
       "      <th>4</th>\n",
       "      <td>WAP005</td>\n",
       "      <td>1.471728</td>\n",
       "    </tr>\n",
       "    <tr>\n",
       "      <th>...</th>\n",
       "      <td>...</td>\n",
       "      <td>...</td>\n",
       "    </tr>\n",
       "    <tr>\n",
       "      <th>515</th>\n",
       "      <td>WAP516</td>\n",
       "      <td>3.302083</td>\n",
       "    </tr>\n",
       "    <tr>\n",
       "      <th>516</th>\n",
       "      <td>WAP517</td>\n",
       "      <td>2.455898</td>\n",
       "    </tr>\n",
       "    <tr>\n",
       "      <th>517</th>\n",
       "      <td>WAP518</td>\n",
       "      <td>2.079820</td>\n",
       "    </tr>\n",
       "    <tr>\n",
       "      <th>518</th>\n",
       "      <td>WAP519</td>\n",
       "      <td>1.134106</td>\n",
       "    </tr>\n",
       "    <tr>\n",
       "      <th>519</th>\n",
       "      <td>WAP520</td>\n",
       "      <td>0.000000</td>\n",
       "    </tr>\n",
       "  </tbody>\n",
       "</table>\n",
       "<p>520 rows × 2 columns</p>\n",
       "</div>"
      ],
      "text/plain": [
       "    variables       VIF\n",
       "0      WAP001  1.238410\n",
       "1      WAP002  1.593780\n",
       "2      WAP003  0.000000\n",
       "3      WAP004  0.000000\n",
       "4      WAP005  1.471728\n",
       "..        ...       ...\n",
       "515    WAP516  3.302083\n",
       "516    WAP517  2.455898\n",
       "517    WAP518  2.079820\n",
       "518    WAP519  1.134106\n",
       "519    WAP520  0.000000\n",
       "\n",
       "[520 rows x 2 columns]"
      ]
     },
     "execution_count": 8,
     "metadata": {},
     "output_type": "execute_result"
    }
   ],
   "source": [
    "from statsmodels.stats.outliers_influence import variance_inflation_factor\n",
    "\n",
    "\n",
    "# Compute VIF\n",
    "vif = pd.DataFrame()\n",
    "vif[\"variables\"] = X_building.columns\n",
    "vif[\"VIF\"] = [variance_inflation_factor(X_building.values, i) for i in range(X_building.shape[1])]\n",
    "\n",
    "vif\n"
   ]
  },
  {
   "cell_type": "markdown",
   "id": "31fd0933-8c1a-463f-9701-7e03c905a946",
   "metadata": {},
   "source": [
    "### create a list with the features that exceeds the VIF treshold value\n",
    "The [documentation](https://www.statsmodels.org/stable/generated/statsmodels.stats.outliers_influence.variance_inflation_factor.html) states that an independent variable is highly collinear with other independent variables when VIF > 5, and the parameter estimates will have large standard errors because of this."
   ]
  },
  {
   "cell_type": "code",
   "execution_count": 9,
   "id": "b77a7a7c-a416-4d20-8b18-be0a51afd310",
   "metadata": {},
   "outputs": [
    {
     "name": "stdout",
     "output_type": "stream",
     "text": [
      "Wap's with a VIF >= 5  -> 85\n"
     ]
    }
   ],
   "source": [
    "count = 0\n",
    "VIF_blackList = []\n",
    "\n",
    "correlated_columns = []\n",
    "for i in range(len(vif)):\n",
    "    if vif.loc[i,\"VIF\"] >= 5:\n",
    "        VIF_blackList.append(vif.loc[i,'variables'])\n",
    "#        print(vif.loc[i,'variables'],vif.loc[i,'VIF'] )\n",
    "        count += 1\n",
    "print(\"Wap's with a VIF >= 5  -> \" + str(count))\n",
    "\n",
    "# uncomment to see the list of features to remove\n",
    "#VIF_blackList"
   ]
  },
  {
   "cell_type": "markdown",
   "id": "5517365c-16ee-4112-9304-483d899ddda6",
   "metadata": {},
   "source": [
    "### remove from the VIF_blackList"
   ]
  },
  {
   "cell_type": "code",
   "execution_count": 10,
   "id": "baf56b8d-05c2-48dc-8629-6cf540ebdcaf",
   "metadata": {},
   "outputs": [
    {
     "data": {
      "text/html": [
       "<div>\n",
       "<style scoped>\n",
       "    .dataframe tbody tr th:only-of-type {\n",
       "        vertical-align: middle;\n",
       "    }\n",
       "\n",
       "    .dataframe tbody tr th {\n",
       "        vertical-align: top;\n",
       "    }\n",
       "\n",
       "    .dataframe thead th {\n",
       "        text-align: right;\n",
       "    }\n",
       "</style>\n",
       "<table border=\"1\" class=\"dataframe\">\n",
       "  <thead>\n",
       "    <tr style=\"text-align: right;\">\n",
       "      <th></th>\n",
       "      <th>WAP001</th>\n",
       "      <th>WAP002</th>\n",
       "      <th>WAP003</th>\n",
       "      <th>WAP004</th>\n",
       "      <th>WAP005</th>\n",
       "      <th>WAP006</th>\n",
       "      <th>WAP007</th>\n",
       "      <th>WAP008</th>\n",
       "      <th>WAP009</th>\n",
       "      <th>WAP010</th>\n",
       "      <th>...</th>\n",
       "      <th>WAP509</th>\n",
       "      <th>WAP510</th>\n",
       "      <th>WAP511</th>\n",
       "      <th>WAP512</th>\n",
       "      <th>WAP515</th>\n",
       "      <th>WAP516</th>\n",
       "      <th>WAP517</th>\n",
       "      <th>WAP518</th>\n",
       "      <th>WAP519</th>\n",
       "      <th>WAP520</th>\n",
       "    </tr>\n",
       "  </thead>\n",
       "  <tbody>\n",
       "    <tr>\n",
       "      <th>998</th>\n",
       "      <td>100</td>\n",
       "      <td>100</td>\n",
       "      <td>100</td>\n",
       "      <td>100</td>\n",
       "      <td>100</td>\n",
       "      <td>100</td>\n",
       "      <td>100</td>\n",
       "      <td>100</td>\n",
       "      <td>100</td>\n",
       "      <td>100</td>\n",
       "      <td>...</td>\n",
       "      <td>100</td>\n",
       "      <td>100</td>\n",
       "      <td>100</td>\n",
       "      <td>100</td>\n",
       "      <td>100</td>\n",
       "      <td>100</td>\n",
       "      <td>100</td>\n",
       "      <td>100</td>\n",
       "      <td>100</td>\n",
       "      <td>100</td>\n",
       "    </tr>\n",
       "    <tr>\n",
       "      <th>2013</th>\n",
       "      <td>100</td>\n",
       "      <td>100</td>\n",
       "      <td>100</td>\n",
       "      <td>100</td>\n",
       "      <td>100</td>\n",
       "      <td>100</td>\n",
       "      <td>100</td>\n",
       "      <td>100</td>\n",
       "      <td>100</td>\n",
       "      <td>100</td>\n",
       "      <td>...</td>\n",
       "      <td>100</td>\n",
       "      <td>100</td>\n",
       "      <td>100</td>\n",
       "      <td>100</td>\n",
       "      <td>100</td>\n",
       "      <td>100</td>\n",
       "      <td>100</td>\n",
       "      <td>100</td>\n",
       "      <td>100</td>\n",
       "      <td>100</td>\n",
       "    </tr>\n",
       "    <tr>\n",
       "      <th>1665</th>\n",
       "      <td>100</td>\n",
       "      <td>100</td>\n",
       "      <td>100</td>\n",
       "      <td>100</td>\n",
       "      <td>100</td>\n",
       "      <td>100</td>\n",
       "      <td>100</td>\n",
       "      <td>100</td>\n",
       "      <td>100</td>\n",
       "      <td>100</td>\n",
       "      <td>...</td>\n",
       "      <td>100</td>\n",
       "      <td>100</td>\n",
       "      <td>100</td>\n",
       "      <td>100</td>\n",
       "      <td>100</td>\n",
       "      <td>100</td>\n",
       "      <td>100</td>\n",
       "      <td>100</td>\n",
       "      <td>100</td>\n",
       "      <td>100</td>\n",
       "    </tr>\n",
       "    <tr>\n",
       "      <th>6188</th>\n",
       "      <td>100</td>\n",
       "      <td>100</td>\n",
       "      <td>100</td>\n",
       "      <td>100</td>\n",
       "      <td>100</td>\n",
       "      <td>100</td>\n",
       "      <td>100</td>\n",
       "      <td>100</td>\n",
       "      <td>100</td>\n",
       "      <td>100</td>\n",
       "      <td>...</td>\n",
       "      <td>100</td>\n",
       "      <td>100</td>\n",
       "      <td>100</td>\n",
       "      <td>100</td>\n",
       "      <td>100</td>\n",
       "      <td>-83</td>\n",
       "      <td>-85</td>\n",
       "      <td>100</td>\n",
       "      <td>100</td>\n",
       "      <td>100</td>\n",
       "    </tr>\n",
       "    <tr>\n",
       "      <th>2671</th>\n",
       "      <td>100</td>\n",
       "      <td>100</td>\n",
       "      <td>100</td>\n",
       "      <td>100</td>\n",
       "      <td>100</td>\n",
       "      <td>100</td>\n",
       "      <td>100</td>\n",
       "      <td>100</td>\n",
       "      <td>100</td>\n",
       "      <td>100</td>\n",
       "      <td>...</td>\n",
       "      <td>100</td>\n",
       "      <td>100</td>\n",
       "      <td>100</td>\n",
       "      <td>100</td>\n",
       "      <td>100</td>\n",
       "      <td>100</td>\n",
       "      <td>100</td>\n",
       "      <td>100</td>\n",
       "      <td>100</td>\n",
       "      <td>100</td>\n",
       "    </tr>\n",
       "  </tbody>\n",
       "</table>\n",
       "<p>5 rows × 435 columns</p>\n",
       "</div>"
      ],
      "text/plain": [
       "      WAP001  WAP002  WAP003  WAP004  WAP005  WAP006  WAP007  WAP008  WAP009  \\\n",
       "998      100     100     100     100     100     100     100     100     100   \n",
       "2013     100     100     100     100     100     100     100     100     100   \n",
       "1665     100     100     100     100     100     100     100     100     100   \n",
       "6188     100     100     100     100     100     100     100     100     100   \n",
       "2671     100     100     100     100     100     100     100     100     100   \n",
       "\n",
       "      WAP010  ...  WAP509  WAP510  WAP511  WAP512  WAP515  WAP516  WAP517  \\\n",
       "998      100  ...     100     100     100     100     100     100     100   \n",
       "2013     100  ...     100     100     100     100     100     100     100   \n",
       "1665     100  ...     100     100     100     100     100     100     100   \n",
       "6188     100  ...     100     100     100     100     100     -83     -85   \n",
       "2671     100  ...     100     100     100     100     100     100     100   \n",
       "\n",
       "      WAP518  WAP519  WAP520  \n",
       "998      100     100     100  \n",
       "2013     100     100     100  \n",
       "1665     100     100     100  \n",
       "6188     100     100     100  \n",
       "2671     100     100     100  \n",
       "\n",
       "[5 rows x 435 columns]"
      ]
     },
     "execution_count": 10,
     "metadata": {},
     "output_type": "execute_result"
    }
   ],
   "source": [
    "X_building = X_building.drop(columns = VIF_blackList)\n",
    "X_building.head()"
   ]
  },
  {
   "cell_type": "markdown",
   "id": "fed382f0-8cd4-464c-9a02-070bc9d9e10d",
   "metadata": {},
   "source": [
    "## 1.6 Train/Test Split"
   ]
  },
  {
   "cell_type": "code",
   "execution_count": 11,
   "id": "7270f186-36c1-40d3-8207-2d8f53191e72",
   "metadata": {},
   "outputs": [
    {
     "name": "stdout",
     "output_type": "stream",
     "text": [
      "DF:  (8972, 521)\n",
      "X: (8972, 435) y: (8972, 1)\n",
      "X_train: (6729, 435) y_train: (6729, 1)\n",
      "X_test:  (2243, 435)  y_test:  (2243, 1)\n"
     ]
    }
   ],
   "source": [
    "# define X and y\n",
    "X = X_building\n",
    "y = y_building\n",
    "\n",
    "# define train/test_ratio\n",
    "train_ratio = 0.75\n",
    "test_ratio = 0.25\n",
    "\n",
    "# split data\n",
    "X_train, X_test, y_train, y_test = train_test_split(X, y, test_size=(1-train_ratio) )\n",
    "\n",
    "# check dimensions\n",
    "print('DF: ', Tdata_Building.shape)\n",
    "print('X:', X.shape,'y:', y.shape)\n",
    "print('X_train:', X_train.shape,'y_train:', y_train.shape)\n",
    "print('X_test: ', X_test.shape,' y_test: ', y_test.shape)"
   ]
  },
  {
   "cell_type": "markdown",
   "id": "90bfc765-1ae8-4a8a-9173-066982a4405c",
   "metadata": {},
   "source": [
    "## 1.6 Models"
   ]
  },
  {
   "cell_type": "markdown",
   "id": "999a4552-d5e0-4bad-8da9-bdfd8d9c317c",
   "metadata": {},
   "source": [
    "### 1.6.1 k-NN Classifier"
   ]
  },
  {
   "cell_type": "markdown",
   "id": "371a6351-93a1-43bc-93b6-1aaaa0fa3221",
   "metadata": {},
   "source": [
    "also check radiusKnn, says it's better for large datasets https://scikit-learn.org/stable/modules/generated/sklearn.neighbors.RadiusNeighborsClassifier.html#sklearn.neighbors.RadiusNeighborsClassifier"
   ]
  },
  {
   "cell_type": "code",
   "execution_count": 12,
   "id": "145f411a-3e47-43d2-8bc4-0a2a545609f9",
   "metadata": {},
   "outputs": [
    {
     "name": "stdout",
     "output_type": "stream",
     "text": [
      "k = 4 , accuracy (on test set): 0.9955\n"
     ]
    }
   ],
   "source": [
    "# define an empty dict to store the performance of different values of K\n",
    "knn_performance = {}\n",
    "\n",
    "for k in range(1,10):\n",
    "    knn = KNeighborsClassifier(k, weights='distance')\n",
    "    # train\n",
    "    knn.fit(X_train, y_train.values.ravel())\n",
    "    #get predictions\n",
    "    knn_pred = knn.predict(X_test)\n",
    "    # calculate the performance\n",
    "    knn_accuracy = round(accuracy_score(y_test, knn_pred), 4)\n",
    "    # store the performance in a dict\n",
    "    knn_performance[k] = knn_accuracy\n",
    "\n",
    "    \n",
    "knn_performance_sorted = sorted(knn_performance.items(), key=lambda item:item[1], reverse=True)\n",
    "\n",
    "# shows the full list sorted\n",
    "#for i in knn_performance_sorted: print(\"k = \" + str(i[0]) + \" , accuracy: \" + str(i[1]))\n",
    "\n",
    "# shows only the best result\n",
    "print(\"k = \" + str(knn_performance_sorted[0][0]) + \" , accuracy (on test set): \" + str(knn_performance_sorted[0][1]))"
   ]
  },
  {
   "cell_type": "code",
   "execution_count": 13,
   "id": "7efca932-cac7-4c17-a023-44446b841c96",
   "metadata": {},
   "outputs": [
    {
     "data": {
      "text/plain": [
       "'              precision    recall  f1-score   support\\n\\n           0       1.00      0.99      1.00       588\\n           1       0.98      1.00      0.99       571\\n           2       1.00      0.99      0.99      1084\\n\\n    accuracy                           0.99      2243\\n   macro avg       0.99      0.99      0.99      2243\\nweighted avg       0.99      0.99      0.99      2243\\n'"
      ]
     },
     "execution_count": 13,
     "metadata": {},
     "output_type": "execute_result"
    }
   ],
   "source": [
    "from sklearn.metrics import classification_report\n",
    "\n",
    "classification_report(y_test, knn_pred)"
   ]
  },
  {
   "cell_type": "code",
   "execution_count": 14,
   "id": "557b60d5-5c8f-4b91-9972-c57a6959b100",
   "metadata": {},
   "outputs": [
    {
     "data": {
      "text/plain": [
       "array([[ 585,    3,    0],\n",
       "       [   0,  571,    0],\n",
       "       [   0,   11, 1073]])"
      ]
     },
     "execution_count": 14,
     "metadata": {},
     "output_type": "execute_result"
    }
   ],
   "source": [
    "from sklearn.metrics import confusion_matrix\n",
    "\n",
    "confusion_matrix(y_test, knn_pred)"
   ]
  },
  {
   "cell_type": "markdown",
   "id": "c0c10c5c-7cc1-4eb2-9bb2-bdd75dc9262e",
   "metadata": {},
   "source": [
    "### save k-NN\n",
    "In machine learning, while working with scikit learn library, we need to save the trained models in a file and restore them in order to reuse it to compare the model with other models, to test the model on a new data. The saving of data is called **Serialization**, while restoring the data is called **Deserialization**.\n",
    "Also, we deal with different types and sizes of data. Some datasets are easily trained i.e- they take less time to train but the datasets whose size is large (more than 1GB) can take very large time to train on a local machine even with GPU. When we need the same trained data in some different project or later sometime, to avoid the wastage of the training time, store trained model so that it can be used anytime in the future. \n",
    "There are two ways we can save a model in scikit learn:\n",
    " \n",
    "**Pickled** model as a file using joblib: Joblib is the replacement of pickle as it is more efficient on objects that carry large numpy arrays. These functions also accept file-like object instead of filenames.\n",
    "     \n",
    "\n",
    "- joblib.dump to serialize an object hierarchy \n",
    "- joblib.load to deserialize a data stream"
   ]
  },
  {
   "cell_type": "code",
   "execution_count": 36,
   "id": "c53a9b51-bb20-43ca-a72c-8c3e9e4e7404",
   "metadata": {
    "tags": []
   },
   "outputs": [
    {
     "data": {
      "text/plain": [
       "['/home/ale/Dropbox/UBIQUM/4.DeepAnalytics&Visualization/T4M3.WiFiLocationing/Building_KNN.pkl']"
      ]
     },
     "execution_count": 36,
     "metadata": {},
     "output_type": "execute_result"
    }
   ],
   "source": [
    "path = '/home/ale/Dropbox/UBIQUM/4.DeepAnalytics&Visualization/T4M3.WiFiLocationing/'\n",
    "file = \"Building_KNN.pkl\"\n",
    "model = knn\n",
    " \n",
    "# Save the model as a pickle in a file\n",
    "joblib.dump(model, path+file)\n",
    " "
   ]
  },
  {
   "cell_type": "markdown",
   "id": "06d973c0-92a8-46d3-84af-d95783727fa6",
   "metadata": {},
   "source": [
    "### Load k-NN"
   ]
  },
  {
   "cell_type": "code",
   "execution_count": 35,
   "id": "910f918e-4cad-49ac-b84d-f02bfdd762d3",
   "metadata": {},
   "outputs": [
    {
     "name": "stdout",
     "output_type": "stream",
     "text": [
      "0.9938\n"
     ]
    }
   ],
   "source": [
    "# Load the model from the file\n",
    "knn_from_joblib = joblib.load('/home/ale/Dropbox/UBIQUM/4.DeepAnalytics&Visualization/T4M3.WiFiLocationing/Building_KNN.pkl')\n",
    " \n",
    "# Use the loaded model to make predictions\n",
    "print(round(accuracy_score(y_test, knn_from_joblib.predict(X_test)), 4))\n"
   ]
  },
  {
   "cell_type": "markdown",
   "id": "6a0f72f9-febe-4179-bcc6-c822bd1918be",
   "metadata": {},
   "source": [
    "### 1.6.2 Random Forest Classifier"
   ]
  },
  {
   "cell_type": "code",
   "execution_count": 17,
   "id": "7444af48-7a43-4c30-9406-8130fcc7f8f7",
   "metadata": {},
   "outputs": [
    {
     "name": "stdout",
     "output_type": "stream",
     "text": [
      "Tuned Decision Tree Parameters: {'n_estimators': 5, 'min_samples_split': 20, 'min_samples_leaf': 2, 'max_features': 'log2', 'max_depth': 30}\n",
      "Random Forest Accuracy (on test set) : 0.99287\n"
     ]
    }
   ],
   "source": [
    "RF = RandomForestClassifier()\n",
    "\n",
    "# print the full list of parametrizable parameters\n",
    "#RF.get_params(deep=True)\n",
    "\n",
    "\n",
    "#Setup the parameters and distributions to sample from: param_dist\n",
    "\n",
    "cv = 3\n",
    "n_jobs = -1\n",
    "\n",
    "# numers of trees\n",
    "n_estimators = [2,5,8,10,12]\n",
    "# max number of features to consider at every split\n",
    "max_features = ['auto', 'sqrt', 'log2']\n",
    "# max number of levels in tree\n",
    "max_depth = [5, 10, 15, 20, 30, 40, 50]\n",
    "#max_depth.append(None)\n",
    "# min number of samples required to split a node\n",
    "min_samples_split = [2,5,10,20,30]\n",
    "# min number of samples required at each leaf node\n",
    "min_samples_leaf = [2,5,10,15]\n",
    "\n",
    "\n",
    "param_dist = {#'bootstrap': True, \n",
    "              #'ccp_alpha': 0.0,\n",
    "              #'criterion': 'mse',\n",
    "              'n_estimators': n_estimators, \n",
    "              'max_features': max_features,\n",
    "              'max_depth':max_depth,\n",
    "              'min_samples_split':min_samples_split,\n",
    "              'min_samples_leaf':min_samples_leaf\n",
    "              #'max_leaf_nodes': None,\n",
    "              #'max_samples': None,\n",
    "              #'min_impurity_decrease': 0.0, \n",
    "              #'min_impurity_split': None, \n",
    "              #'min_weight_fraction_leaf': 0.0,           \n",
    "              #'n_jobs': None, \n",
    "              #'oob_score': False, \n",
    "              #'random_state': None,\n",
    "              #'verbose': 0, \n",
    "              #'warm_start': False\n",
    "             }\n",
    "\n",
    "# instantiate the RandomizedSearchCV object: model_cv\n",
    "RF_RSCV1 = RandomizedSearchCV(RF, param_dist, cv=cv, n_jobs = n_jobs)\n",
    "\n",
    "# Fit it to the data\n",
    "RF_RSCV1.fit(X_train,y_train.values.ravel())\n",
    "\n",
    "# Print the tuned parameters and score\n",
    "print(\"Tuned Decision Tree Parameters: {}\".format(RF_RSCV1.best_params_))\n",
    "\n",
    "# evaulate a CV=3 using the parameters estimated with Randomized search\n",
    "RF_result_CV1 = cross_val_score(RF_RSCV1, X_test, y_test.values.ravel(), cv=5, scoring='accuracy')\n",
    "\n",
    "# prints all the cv=x results\n",
    "#print(RF_result_CV1)\n",
    "\n",
    "RF_accuracy = RF_RSCV1.score(X_test, y_test.values.ravel())\n",
    "print (f'Random Forest Accuracy (on test set) : {RF_RSCV1.score(X_test, y_test.values.ravel()):.5f}')"
   ]
  },
  {
   "cell_type": "markdown",
   "id": "181dd027-2c31-487d-84fa-9dba53bd156b",
   "metadata": {},
   "source": [
    "### save RF\n",
    "\n",
    "Joblib is an efficient object operator that carry large numpy arrays. These functions also accept file-like object instead of filenames.\n",
    "     \n",
    "\n",
    "    joblib.dump to serialize an object hierarchy \n",
    "    joblib.load to deserialize a data stream"
   ]
  },
  {
   "cell_type": "code",
   "execution_count": 37,
   "id": "dc87843a-0b7e-410f-bfe4-31c82ce69373",
   "metadata": {
    "tags": []
   },
   "outputs": [
    {
     "data": {
      "text/plain": [
       "['/home/ale/Dropbox/UBIQUM/4.DeepAnalytics&Visualization/T4M3.WiFiLocationing/Building_RF.pkl']"
      ]
     },
     "execution_count": 37,
     "metadata": {},
     "output_type": "execute_result"
    }
   ],
   "source": [
    "path = '/home/ale/Dropbox/UBIQUM/4.DeepAnalytics&Visualization/T4M3.WiFiLocationing/'\n",
    "file = 'Building_RF.pkl'\n",
    "model = RF_RSCV1\n",
    " \n",
    "# Save the model as a pickle in a file\n",
    "joblib.dump(model, path+file)\n",
    " "
   ]
  },
  {
   "cell_type": "markdown",
   "id": "cd1dee59-dd24-4fe5-a36b-19e8371f3968",
   "metadata": {},
   "source": [
    "### Load k-NN"
   ]
  },
  {
   "cell_type": "code",
   "execution_count": 39,
   "id": "b4a46756-59a4-452a-b2ba-f19d70001d63",
   "metadata": {},
   "outputs": [
    {
     "name": "stdout",
     "output_type": "stream",
     "text": [
      "0.9929\n"
     ]
    }
   ],
   "source": [
    "# Load the model from the file\n",
    "RF_from_joblib = joblib.load('/home/ale/Dropbox/UBIQUM/4.DeepAnalytics&Visualization/T4M3.WiFiLocationing/Building_RF.pkl')\n",
    "\n",
    "# Use the loaded model to make predictions\n",
    "print(round(accuracy_score(y_test, RF_from_joblib.predict(X_test)), 4))\n"
   ]
  },
  {
   "cell_type": "markdown",
   "id": "a8af1a12-a773-4b7e-b566-4ee96f9d4471",
   "metadata": {},
   "source": [
    "### 1.6.3 Log Regression"
   ]
  },
  {
   "cell_type": "code",
   "execution_count": 21,
   "id": "22a143d6-5f5d-4441-a677-d1f1fea0947f",
   "metadata": {},
   "outputs": [
    {
     "name": "stderr",
     "output_type": "stream",
     "text": [
      "/home/ale/anaconda3/lib/python3.8/site-packages/sklearn/model_selection/_search.py:922: UserWarning: One or more of the test scores are non-finite: [0.99643335        nan 0.99643335 0.99643335 0.99643335 0.99643335\n",
      " 0.99643335 0.99643335        nan 0.99643335]\n",
      "  warnings.warn(\n",
      "/home/ale/anaconda3/lib/python3.8/site-packages/sklearn/linear_model/_sag.py:328: ConvergenceWarning: The max_iter was reached which means the coef_ did not converge\n",
      "  warnings.warn(\"The max_iter was reached which means \"\n"
     ]
    },
    {
     "name": "stdout",
     "output_type": "stream",
     "text": [
      "Tuned Decision LogReg Parameters: {'warm_start': 'True', 'solver': 'sag', 'penalty': 'none', 'max_iter': 600}\n"
     ]
    },
    {
     "name": "stderr",
     "output_type": "stream",
     "text": [
      "/home/ale/anaconda3/lib/python3.8/site-packages/sklearn/model_selection/_search.py:922: UserWarning: One or more of the test scores are non-finite: [0.99397724 0.9933079  0.99397724 0.99397724 0.9933079  0.99397724\n",
      " 0.9933079  0.99397724 0.9933079         nan]\n",
      "  warnings.warn(\n",
      "/home/ale/anaconda3/lib/python3.8/site-packages/sklearn/model_selection/_search.py:922: UserWarning: One or more of the test scores are non-finite: [0.99531996 0.9959893         nan 0.99465195 0.9959893  0.9959893\n",
      " 0.9953213  0.9953213         nan 0.9959893 ]\n",
      "  warnings.warn(\n",
      "/home/ale/anaconda3/lib/python3.8/site-packages/sklearn/model_selection/_search.py:922: UserWarning: One or more of the test scores are non-finite: [0.99531862 0.99464927 0.99598796        nan 0.99665596 0.99598796\n",
      " 0.99531996 0.99531996 0.99598796 0.99598796]\n",
      "  warnings.warn(\n"
     ]
    },
    {
     "name": "stdout",
     "output_type": "stream",
     "text": [
      "Logistic Regression Accuracy CV (on test set):0.9973\n"
     ]
    },
    {
     "name": "stderr",
     "output_type": "stream",
     "text": [
      "/home/ale/anaconda3/lib/python3.8/site-packages/sklearn/linear_model/_sag.py:328: ConvergenceWarning: The max_iter was reached which means the coef_ did not converge\n",
      "  warnings.warn(\"The max_iter was reached which means \"\n"
     ]
    }
   ],
   "source": [
    "model = LogisticRegression()\n",
    "\n",
    "# print the full list of parametrizable parameters\n",
    "# LogReg.get_params(deep=True)\n",
    "\n",
    "#Setup the parameters and distributions to sample from: param_dist\n",
    "cv = 3\n",
    "n_jobs = -1 # uses all the processors\n",
    "param_dist_LR = {#'C': 1.0,\n",
    "              #'class_weight': None,\n",
    "              #'dual': False,\n",
    "              #'fit_intercept': True,\n",
    "              #'intercept_scaling': 1,\n",
    "              #'l1_ratio': None,\n",
    "              'max_iter' : [600, 800, 1500, 3000],\n",
    "              #'multi_class': 'auto',\n",
    "              #'n_jobs': n_jobs,\n",
    "              'penalty': ['l1', 'l2', 'none'], #'elasticnet', \n",
    "              #'random_state': random_state,\n",
    "              'solver': ['sag', 'saga'],\n",
    "              #'tol': 0.0001,\n",
    "              #'verbose': 0,\n",
    "              'warm_start': [\"True\", \"False\"]\n",
    "}\n",
    "\n",
    "LR_CV = RandomizedSearchCV(model, param_dist_LR, cv=cv, n_jobs=n_jobs)\n",
    "\n",
    "# Fit it to the data\n",
    "LR_CV.fit(X_train,y_train.values.ravel())\n",
    "\n",
    "# Print the tuned parameters and score\n",
    "print(\"Tuned Decision LogReg Parameters: {}\".format(LR_CV.best_params_))\n",
    "\n",
    "\n",
    "\n",
    "# evaulate a CV=x using the parameters estimated with Randomized search\n",
    "LR_results_CV = cross_val_score(LR_CV, X_test, y_test.values.ravel(), cv=cv, scoring='accuracy')\n",
    "\n",
    "RF_result_CV1_sorted = np.sort(RF_result_CV1)\n",
    "print(\"Logistic Regression Accuracy CV (on test set):\" + str(round(LR_results_CV[::-1][0], 4)))\n"
   ]
  },
  {
   "cell_type": "code",
   "execution_count": 22,
   "id": "ec8dff05-9129-4d85-8e7e-0e2a40507197",
   "metadata": {},
   "outputs": [
    {
     "ename": "NameError",
     "evalue": "name 'LR_Result' is not defined",
     "output_type": "error",
     "traceback": [
      "\u001b[0;31m---------------------------------------------------------------------------\u001b[0m",
      "\u001b[0;31mNameError\u001b[0m                                 Traceback (most recent call last)",
      "\u001b[0;32m<ipython-input-22-79255cf3b3d5>\u001b[0m in \u001b[0;36m<module>\u001b[0;34m\u001b[0m\n\u001b[0;32m----> 1\u001b[0;31m \u001b[0mprint\u001b[0m\u001b[0;34m(\u001b[0m\u001b[0mLR_Result\u001b[0m\u001b[0;34m)\u001b[0m\u001b[0;34m\u001b[0m\u001b[0;34m\u001b[0m\u001b[0m\n\u001b[0m",
      "\u001b[0;31mNameError\u001b[0m: name 'LR_Result' is not defined"
     ]
    }
   ],
   "source": [
    "print(LR_Result)"
   ]
  },
  {
   "cell_type": "code",
   "execution_count": null,
   "id": "5d612008-cea0-475b-a344-9d012093d3a2",
   "metadata": {},
   "outputs": [],
   "source": [
    "print (f'Accuracy - : {LR_CV.score(X,y):.3f}')"
   ]
  },
  {
   "cell_type": "markdown",
   "id": "e76ae66c-5f63-47e9-ba62-9b06ad4a17d8",
   "metadata": {},
   "source": [
    "### save LR\n",
    "\n",
    "Joblib is an efficient object operator that carry large numpy arrays. These functions also accept file-like object instead of filenames.\n",
    "     \n",
    "\n",
    "    joblib.dump to serialize an object hierarchy \n",
    "    joblib.load to deserialize a data stream"
   ]
  },
  {
   "cell_type": "code",
   "execution_count": 43,
   "id": "5a7c362d-1eeb-4c60-8307-9aa21f08d5e7",
   "metadata": {
    "tags": []
   },
   "outputs": [
    {
     "data": {
      "text/plain": [
       "['/home/ale/Dropbox/UBIQUM/4.DeepAnalytics&Visualization/T4M3.WiFiLocationing/Building_LR.pkl']"
      ]
     },
     "execution_count": 43,
     "metadata": {},
     "output_type": "execute_result"
    }
   ],
   "source": [
    "path = '/home/ale/Dropbox/UBIQUM/4.DeepAnalytics&Visualization/T4M3.WiFiLocationing/'\n",
    "file = 'Building_LR.pkl'\n",
    "model = LR_results_CV\n",
    " \n",
    "# Save the model as a pickle in a file\n",
    "joblib.dump(model, path+file)\n",
    " "
   ]
  },
  {
   "cell_type": "markdown",
   "id": "bb464a36-52e6-46d6-a457-04a039762286",
   "metadata": {},
   "source": [
    "### Load k-NN"
   ]
  },
  {
   "cell_type": "code",
   "execution_count": 45,
   "id": "fb0858c2-feb6-4b65-98e9-98d78cfec282",
   "metadata": {},
   "outputs": [
    {
     "ename": "AttributeError",
     "evalue": "'numpy.ndarray' object has no attribute 'predict'",
     "output_type": "error",
     "traceback": [
      "\u001b[0;31m---------------------------------------------------------------------------\u001b[0m",
      "\u001b[0;31mAttributeError\u001b[0m                            Traceback (most recent call last)",
      "\u001b[0;32m<ipython-input-45-0c63040f3d38>\u001b[0m in \u001b[0;36m<module>\u001b[0;34m\u001b[0m\n\u001b[1;32m      3\u001b[0m \u001b[0;34m\u001b[0m\u001b[0m\n\u001b[1;32m      4\u001b[0m \u001b[0;31m# Use the loaded model to make predictions\u001b[0m\u001b[0;34m\u001b[0m\u001b[0;34m\u001b[0m\u001b[0;34m\u001b[0m\u001b[0m\n\u001b[0;32m----> 5\u001b[0;31m \u001b[0mprint\u001b[0m\u001b[0;34m(\u001b[0m\u001b[0mround\u001b[0m\u001b[0;34m(\u001b[0m\u001b[0maccuracy_score\u001b[0m\u001b[0;34m(\u001b[0m\u001b[0my_test\u001b[0m\u001b[0;34m,\u001b[0m \u001b[0mLR_from_joblib\u001b[0m\u001b[0;34m.\u001b[0m\u001b[0mpredict\u001b[0m\u001b[0;34m(\u001b[0m\u001b[0mX_test\u001b[0m\u001b[0;34m)\u001b[0m\u001b[0;34m)\u001b[0m\u001b[0;34m,\u001b[0m \u001b[0;36m4\u001b[0m\u001b[0;34m)\u001b[0m\u001b[0;34m)\u001b[0m\u001b[0;34m\u001b[0m\u001b[0;34m\u001b[0m\u001b[0m\n\u001b[0m",
      "\u001b[0;31mAttributeError\u001b[0m: 'numpy.ndarray' object has no attribute 'predict'"
     ]
    }
   ],
   "source": [
    "# Load the model from the file\n",
    "LR_from_joblib = joblib.load('/home/ale/Dropbox/UBIQUM/4.DeepAnalytics&Visualization/T4M3.WiFiLocationing/Building_LR.pkl')\n",
    "\n",
    "# Use the loaded model to make predictions\n",
    "print(round(accuracy_score(y_test, LR_from_joblib.predict(X_test)), 4))\n"
   ]
  },
  {
   "cell_type": "markdown",
   "id": "ab8b7217-a78c-48ae-8fe0-f2fe46577216",
   "metadata": {},
   "source": [
    "# Save Data"
   ]
  },
  {
   "cell_type": "code",
   "execution_count": null,
   "id": "8c125eea-508a-469b-9e7c-4de9e466bda1",
   "metadata": {},
   "outputs": [],
   "source": [
    "path = '/home/ale/Dropbox/UBIQUM/4.DeepAnalytics&Visualization/T4M3.WiFiLocationing/'\n",
    "\n",
    "Tdata.to_csv(path + 'Data/0_DataPrepro.csv')\n",
    "\n",
    "Tdata.head()"
   ]
  }
 ],
 "metadata": {
  "kernelspec": {
   "display_name": "Python 3",
   "language": "python",
   "name": "python3"
  },
  "language_info": {
   "codemirror_mode": {
    "name": "ipython",
    "version": 3
   },
   "file_extension": ".py",
   "mimetype": "text/x-python",
   "name": "python",
   "nbconvert_exporter": "python",
   "pygments_lexer": "ipython3",
   "version": "3.8.10"
  }
 },
 "nbformat": 4,
 "nbformat_minor": 5
}
