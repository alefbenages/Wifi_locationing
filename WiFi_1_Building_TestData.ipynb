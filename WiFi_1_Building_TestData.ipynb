{
 "cells": [
  {
   "cell_type": "markdown",
   "id": "01ef0829-cb37-440f-9f2e-42bdb24991b8",
   "metadata": {},
   "source": [
    "# Guessing BUILDING. MODELS"
   ]
  },
  {
   "cell_type": "markdown",
   "id": "7deb3f90-3d0c-4942-ab0e-4aef1106806e",
   "metadata": {},
   "source": [
    "# Libraries"
   ]
  },
  {
   "cell_type": "code",
   "execution_count": 1,
   "id": "be5f1abc-c3d5-4d26-8521-30e5e5a65b03",
   "metadata": {
    "tags": []
   },
   "outputs": [],
   "source": [
    "# basic\n",
    "import pandas as pd\n",
    "import numpy as np\n",
    "import matplotlib.pyplot as plt\n",
    "#import seaborn as sns\n",
    "\n",
    "# Classification Models\n",
    "from sklearn.svm import LinearSVC\n",
    "from sklearn.neighbors import NearestNeighbors\n",
    "from sklearn.neighbors import KNeighborsClassifier\n",
    "from sklearn.ensemble import RandomForestClassifier\n",
    "from sklearn.tree import DecisionTreeClassifier\n",
    "from sklearn.linear_model import LogisticRegression\n",
    "\n",
    "# tools\n",
    "from sklearn.model_selection import train_test_split\n",
    "\n",
    "# classification model metrics\n",
    "from sklearn.metrics import accuracy_score\n",
    "from sklearn.metrics import confusion_matrix\n",
    "from sklearn.metrics import classification_report\n",
    "from sklearn.metrics import plot_confusion_matrix\n",
    "from sklearn.metrics import f1_score\n",
    "\n",
    "# To save/load the ML models\n",
    "import joblib"
   ]
  },
  {
   "cell_type": "markdown",
   "id": "ea623393-644d-49a0-b573-2f6a99eb7e97",
   "metadata": {},
   "source": [
    "# Functions"
   ]
  },
  {
   "cell_type": "code",
   "execution_count": 2,
   "id": "b843afee-6b59-45e0-8299-8091b5f64c73",
   "metadata": {
    "slideshow": {
     "slide_type": "subslide"
    },
    "tags": []
   },
   "outputs": [],
   "source": [
    "def makePredictions(loaded_model, X_test, y_test, name, output_file):\n",
    "    # make predictions\n",
    "    model_predictions = loaded_model.predict(X_test)\n",
    "    \n",
    "    # Accuracy \n",
    "    accuracy = accuracy_score(y_test, model_predictions) \n",
    "    #  print(\"Accuracy: \", round(accuracy, 3))\n",
    "        \n",
    "    # Confussion Matrix\n",
    "    plot_confusion_matrix(loaded_model, X_test, y_test, cmap = 'Oranges') \n",
    "    \n",
    "    plt.title('Guessing Building. Confusion matrix model :'+ str(name))\n",
    "\n",
    "    plt.rcParams['figure.figsize'] = [10,5]\n",
    "    #plt.rcParams['figure.figsize'] = [20, 10]\n",
    "    \n",
    "    plt.ylabel('Actual Building')\n",
    "    plt.xlabel('Predicted Building\\naccuracy={:0.4f}'.format(accuracy))\n",
    "    \n",
    "#    plt.savefig(output_file, format= \"png\",bbox_inches='tight' )\n",
    "    \n",
    "    plt.show()  \n",
    "    \n",
    "    \n",
    "    f1 = f1_score(y_test, model_predictions, average=\"macro\")\n",
    "    print(\"f1 Score: \", f1)\n",
    "    \n",
    "    \n",
    "    return accuracy, name"
   ]
  },
  {
   "cell_type": "code",
   "execution_count": 3,
   "id": "d061fda4-ddbe-411e-8a36-0a742ce71c39",
   "metadata": {
    "tags": []
   },
   "outputs": [],
   "source": [
    "def lolipop (values, group, xmin, title, xlabel, ylabel, color, output_file):\n",
    "# Create a dataframe of r2\n",
    "    df = pd.DataFrame({'values': values,\n",
    "                       'group': group })\n",
    "\n",
    "    # Reorder it based on the valuesc\n",
    "    ordered_df = df.sort_values(by='values')\n",
    "    my_range=range(1,len(df.index)+1)\n",
    "\n",
    "    plt.style.use('fivethirtyeight')\n",
    "    \n",
    "    # The horizontal plot is made using the hline function\n",
    "    plt.hlines(y=my_range, xmin=xmin, xmax=ordered_df['values'], color=color)\n",
    "    \n",
    "    \n",
    "    plt.plot(ordered_df['values'], my_range, \"o\")\n",
    "\n",
    "    # Add titles and axis names\n",
    "    plt.yticks(my_range, ordered_df['group'])\n",
    "    plt.title(title, loc='left')\n",
    "    plt.xlabel(xlabel)\n",
    "    plt.ylabel(ylabel)\n",
    "    \n",
    "    plt.rcParams['figure.figsize'] = [8,2]\n",
    "    #plt.rcParams['figure.figsize'] = [15, 6]\n",
    "    \n",
    "    plt.savefig(output_file, format= \"png\",bbox_inches='tight' )\n",
    "    # Show the plot\n",
    "    plt.show()"
   ]
  },
  {
   "cell_type": "code",
   "execution_count": 4,
   "id": "39dc213e-f748-4ce2-ab4f-d6b61b1e4a35",
   "metadata": {},
   "outputs": [],
   "source": [
    "def load_model (file_name):\n",
    "    path = '/home/ale/Dropbox/UBIQUM/4.DeepAnalytics&Visualization/T4M3.WiFiLocationing/MLmodels/'\n",
    " \n",
    "    # Load the model from the file\n",
    "    model_from_joblib = joblib.load(path + file_name)\n",
    "    \n",
    "    return model_from_joblib"
   ]
  },
  {
   "cell_type": "markdown",
   "id": "276ae815-9efe-4d72-bad2-b71cef733250",
   "metadata": {
    "tags": []
   },
   "source": [
    "# Load Data"
   ]
  },
  {
   "cell_type": "code",
   "execution_count": 5,
   "id": "73cef1c4-5a6b-4aee-b7ee-4076992ab340",
   "metadata": {
    "tags": []
   },
   "outputs": [
    {
     "name": "stdout",
     "output_type": "stream",
     "text": [
      "   BUILDINGID\n",
      "0           1\n",
      "1           2\n",
      "2           2\n",
      "3           2\n",
      "4           0\n"
     ]
    },
    {
     "data": {
      "text/html": [
       "<div>\n",
       "<style scoped>\n",
       "    .dataframe tbody tr th:only-of-type {\n",
       "        vertical-align: middle;\n",
       "    }\n",
       "\n",
       "    .dataframe tbody tr th {\n",
       "        vertical-align: top;\n",
       "    }\n",
       "\n",
       "    .dataframe thead th {\n",
       "        text-align: right;\n",
       "    }\n",
       "</style>\n",
       "<table border=\"1\" class=\"dataframe\">\n",
       "  <thead>\n",
       "    <tr style=\"text-align: right;\">\n",
       "      <th></th>\n",
       "      <th>WAP001</th>\n",
       "      <th>WAP002</th>\n",
       "      <th>WAP003</th>\n",
       "      <th>WAP004</th>\n",
       "      <th>WAP005</th>\n",
       "      <th>WAP006</th>\n",
       "      <th>WAP007</th>\n",
       "      <th>WAP008</th>\n",
       "      <th>WAP009</th>\n",
       "      <th>WAP010</th>\n",
       "      <th>...</th>\n",
       "      <th>WAP509</th>\n",
       "      <th>WAP510</th>\n",
       "      <th>WAP511</th>\n",
       "      <th>WAP512</th>\n",
       "      <th>WAP515</th>\n",
       "      <th>WAP516</th>\n",
       "      <th>WAP517</th>\n",
       "      <th>WAP518</th>\n",
       "      <th>WAP519</th>\n",
       "      <th>WAP520</th>\n",
       "    </tr>\n",
       "  </thead>\n",
       "  <tbody>\n",
       "    <tr>\n",
       "      <th>0</th>\n",
       "      <td>100</td>\n",
       "      <td>100</td>\n",
       "      <td>100</td>\n",
       "      <td>100</td>\n",
       "      <td>100</td>\n",
       "      <td>100</td>\n",
       "      <td>100</td>\n",
       "      <td>100</td>\n",
       "      <td>100</td>\n",
       "      <td>100</td>\n",
       "      <td>...</td>\n",
       "      <td>100</td>\n",
       "      <td>100</td>\n",
       "      <td>100</td>\n",
       "      <td>100</td>\n",
       "      <td>100</td>\n",
       "      <td>100</td>\n",
       "      <td>100</td>\n",
       "      <td>100</td>\n",
       "      <td>100</td>\n",
       "      <td>100</td>\n",
       "    </tr>\n",
       "    <tr>\n",
       "      <th>1</th>\n",
       "      <td>100</td>\n",
       "      <td>100</td>\n",
       "      <td>100</td>\n",
       "      <td>100</td>\n",
       "      <td>100</td>\n",
       "      <td>100</td>\n",
       "      <td>100</td>\n",
       "      <td>100</td>\n",
       "      <td>100</td>\n",
       "      <td>100</td>\n",
       "      <td>...</td>\n",
       "      <td>100</td>\n",
       "      <td>100</td>\n",
       "      <td>100</td>\n",
       "      <td>100</td>\n",
       "      <td>100</td>\n",
       "      <td>100</td>\n",
       "      <td>100</td>\n",
       "      <td>100</td>\n",
       "      <td>100</td>\n",
       "      <td>100</td>\n",
       "    </tr>\n",
       "    <tr>\n",
       "      <th>2</th>\n",
       "      <td>100</td>\n",
       "      <td>100</td>\n",
       "      <td>100</td>\n",
       "      <td>100</td>\n",
       "      <td>100</td>\n",
       "      <td>100</td>\n",
       "      <td>100</td>\n",
       "      <td>100</td>\n",
       "      <td>100</td>\n",
       "      <td>100</td>\n",
       "      <td>...</td>\n",
       "      <td>100</td>\n",
       "      <td>100</td>\n",
       "      <td>100</td>\n",
       "      <td>100</td>\n",
       "      <td>100</td>\n",
       "      <td>100</td>\n",
       "      <td>100</td>\n",
       "      <td>100</td>\n",
       "      <td>100</td>\n",
       "      <td>100</td>\n",
       "    </tr>\n",
       "    <tr>\n",
       "      <th>3</th>\n",
       "      <td>100</td>\n",
       "      <td>100</td>\n",
       "      <td>100</td>\n",
       "      <td>100</td>\n",
       "      <td>100</td>\n",
       "      <td>100</td>\n",
       "      <td>100</td>\n",
       "      <td>100</td>\n",
       "      <td>100</td>\n",
       "      <td>100</td>\n",
       "      <td>...</td>\n",
       "      <td>100</td>\n",
       "      <td>100</td>\n",
       "      <td>100</td>\n",
       "      <td>100</td>\n",
       "      <td>100</td>\n",
       "      <td>100</td>\n",
       "      <td>100</td>\n",
       "      <td>100</td>\n",
       "      <td>100</td>\n",
       "      <td>100</td>\n",
       "    </tr>\n",
       "    <tr>\n",
       "      <th>4</th>\n",
       "      <td>100</td>\n",
       "      <td>100</td>\n",
       "      <td>100</td>\n",
       "      <td>100</td>\n",
       "      <td>100</td>\n",
       "      <td>100</td>\n",
       "      <td>100</td>\n",
       "      <td>100</td>\n",
       "      <td>100</td>\n",
       "      <td>100</td>\n",
       "      <td>...</td>\n",
       "      <td>100</td>\n",
       "      <td>100</td>\n",
       "      <td>100</td>\n",
       "      <td>100</td>\n",
       "      <td>100</td>\n",
       "      <td>100</td>\n",
       "      <td>100</td>\n",
       "      <td>100</td>\n",
       "      <td>100</td>\n",
       "      <td>100</td>\n",
       "    </tr>\n",
       "  </tbody>\n",
       "</table>\n",
       "<p>5 rows × 435 columns</p>\n",
       "</div>"
      ],
      "text/plain": [
       "   WAP001  WAP002  WAP003  WAP004  WAP005  WAP006  WAP007  WAP008  WAP009  \\\n",
       "0     100     100     100     100     100     100     100     100     100   \n",
       "1     100     100     100     100     100     100     100     100     100   \n",
       "2     100     100     100     100     100     100     100     100     100   \n",
       "3     100     100     100     100     100     100     100     100     100   \n",
       "4     100     100     100     100     100     100     100     100     100   \n",
       "\n",
       "   WAP010  ...  WAP509  WAP510  WAP511  WAP512  WAP515  WAP516  WAP517  \\\n",
       "0     100  ...     100     100     100     100     100     100     100   \n",
       "1     100  ...     100     100     100     100     100     100     100   \n",
       "2     100  ...     100     100     100     100     100     100     100   \n",
       "3     100  ...     100     100     100     100     100     100     100   \n",
       "4     100  ...     100     100     100     100     100     100     100   \n",
       "\n",
       "   WAP518  WAP519  WAP520  \n",
       "0     100     100     100  \n",
       "1     100     100     100  \n",
       "2     100     100     100  \n",
       "3     100     100     100  \n",
       "4     100     100     100  \n",
       "\n",
       "[5 rows x 435 columns]"
      ]
     },
     "execution_count": 5,
     "metadata": {},
     "output_type": "execute_result"
    }
   ],
   "source": [
    "path = '/home/ale/Dropbox/UBIQUM/4.DeepAnalytics&Visualization/T4M3.WiFiLocationing/Data/'\n",
    "file_X = \"1_Val_DataPrepro_Building_X.csv\"\n",
    "file_y = \"1_Val_DataPrepro_Building_y.csv\"\n",
    "\n",
    "X = pd.read_csv(path + file_X)\n",
    "y = pd.read_csv(path + file_y)\n",
    "\n",
    "print(y.head())\n",
    "X.head()\n"
   ]
  },
  {
   "cell_type": "markdown",
   "id": "b8e28094-beec-4d5f-8542-bcc4dc2443ab",
   "metadata": {
    "tags": []
   },
   "source": [
    "# Train/Test Split\n",
    "\n",
    "As this is validation data, only used to thest the trained model, there is no need to divide into train/test. The 100% of this unseen data will be used to validate the models. "
   ]
  },
  {
   "cell_type": "markdown",
   "id": "05f14afe-5783-40b9-b426-2bfdcc633e32",
   "metadata": {
    "tags": []
   },
   "source": [
    "### Load k-NN"
   ]
  },
  {
   "cell_type": "code",
   "execution_count": 6,
   "id": "a189867a-603f-4f33-964f-7c1d3da94360",
   "metadata": {
    "tags": []
   },
   "outputs": [
    {
     "data": {
      "image/png": "[encoded data removed]",
      "text/plain": [
       "<Figure size 432x288 with 2 Axes>"
      ]
     },
     "metadata": {
      "needs_background": "light"
     },
     "output_type": "display_data"
    },
    {
     "name": "stdout",
     "output_type": "stream",
     "text": [
      "f1 Score:  0.9746711842896391\n"
     ]
    }
   ],
   "source": [
    "file = 'Building_KNN.joblib'\n",
    "\n",
    "# Load the model from the file\n",
    "KNN_from_joblib = load_model(file)\n",
    "\n",
    "# Use the loaded model to make predictions\n",
    "KNN_ac, KNN_name = makePredictions(KNN_from_joblib, X, y, 'KNeighborsClassifier', \"BUI_CM_KNN\")"
   ]
  },
  {
   "cell_type": "markdown",
   "id": "a99dc9b1-8b51-4536-86c6-04631ffaf62b",
   "metadata": {
    "tags": []
   },
   "source": [
    "### Load RF"
   ]
  },
  {
   "cell_type": "code",
   "execution_count": 7,
   "id": "426938d8-85ce-42ca-bc4a-e1cbe7550cdd",
   "metadata": {
    "tags": []
   },
   "outputs": [
    {
     "data": {
      "image/png": "[encoded data removed]",
      "text/plain": [
       "<Figure size 720x360 with 2 Axes>"
      ]
     },
     "metadata": {
      "needs_background": "light"
     },
     "output_type": "display_data"
    },
    {
     "name": "stdout",
     "output_type": "stream",
     "text": [
      "f1 Score:  0.9898900957610479\n"
     ]
    }
   ],
   "source": [
    "file = 'Building_RF.joblib'\n",
    "\n",
    "# Load the model from the file\n",
    "RF_from_joblib = load_model(file)\n",
    "\n",
    "# Use the loaded model to make predictions\n",
    "# Use the loaded model to make predictions\n",
    "RF_ac, RF_name = makePredictions(RF_from_joblib, X, y, \"RandomForestClassifier\", \"BUI_CM_RF\")"
   ]
  },
  {
   "cell_type": "markdown",
   "id": "8688f425-6b52-4d26-9073-e89fd515c12d",
   "metadata": {},
   "source": [
    "### Load Log Reg"
   ]
  },
  {
   "cell_type": "code",
   "execution_count": 8,
   "id": "1e217c84-0feb-4c7f-851a-8f2cf258a9c6",
   "metadata": {
    "tags": []
   },
   "outputs": [
    {
     "data": {
      "image/png": "[encoded data removed]",
      "text/plain": [
       "<Figure size 720x360 with 2 Axes>"
      ]
     },
     "metadata": {
      "needs_background": "light"
     },
     "output_type": "display_data"
    },
    {
     "name": "stdout",
     "output_type": "stream",
     "text": [
      "f1 Score:  0.9979822556002628\n"
     ]
    }
   ],
   "source": [
    "file = 'Building_LR.joblib'\n",
    "\n",
    "#Load the model from the file\n",
    "LR_from_joblib = load_model(file)\n",
    "\n",
    "# Use the loaded model to make predictions\n",
    "# Use the loaded model to make predictions\n",
    "LR_ac, LR_name = makePredictions(LR_from_joblib, X, y, \"LogisticRegression\", \"BUI_CM_LR\")"
   ]
  },
  {
   "cell_type": "markdown",
   "id": "c0f95a79-1ff3-4909-9b9f-cadc3fc6e213",
   "metadata": {},
   "source": [
    "# Comparing Models"
   ]
  },
  {
   "cell_type": "code",
   "execution_count": 9,
   "id": "37dd03a8-ad55-4a2d-9830-1abb28b338c4",
   "metadata": {},
   "outputs": [
    {
     "data": {
      "image/png": "[encoded data removed]",
      "text/plain": [
       "<Figure size 720x360 with 1 Axes>"
      ]
     },
     "metadata": {},
     "output_type": "display_data"
    }
   ],
   "source": [
    "values= [KNN_ac, LR_ac, RF_ac]\n",
    "group = [KNN_name, LR_name, RF_name]\n",
    "xmin = 0.975\n",
    "title = 'Guessing Building'\n",
    "xlabel = 'Accuracy' \n",
    "ylabel = 'Models'\n",
    "color = 'DarkOliveGreen'\n",
    "\n",
    "lolipop (values, group, xmin, title, xlabel, ylabel, color, \"BUI_acc\");"
   ]
  }
 ],
 "metadata": {
  "kernelspec": {
   "display_name": "Python 3",
   "language": "python",
   "name": "python3"
  },
  "language_info": {
   "codemirror_mode": {
    "name": "ipython",
    "version": 3
   },
   "file_extension": ".py",
   "mimetype": "text/x-python",
   "name": "python",
   "nbconvert_exporter": "python",
   "pygments_lexer": "ipython3",
   "version": "3.8.10"
  }
 },
 "nbformat": 4,
 "nbformat_minor": 5
}
