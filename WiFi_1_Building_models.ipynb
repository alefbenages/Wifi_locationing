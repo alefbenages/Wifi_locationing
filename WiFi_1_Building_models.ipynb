{
 "cells": [
  {
   "cell_type": "markdown",
   "id": "01ef0829-cb37-440f-9f2e-42bdb24991b8",
   "metadata": {},
   "source": [
    "# Guessing BUILDING. MODELS"
   ]
  },
  {
   "cell_type": "code",
   "execution_count": 1,
   "id": "be5f1abc-c3d5-4d26-8521-30e5e5a65b03",
   "metadata": {
    "tags": []
   },
   "outputs": [],
   "source": [
    "# basic\n",
    "import pandas as pd\n",
    "import numpy as np\n",
    "import matplotlib.pyplot as plt\n",
    "import seaborn as sns\n",
    "\n",
    "# estimators\n",
    "\n",
    "\n",
    "from sklearn.tree import DecisionTreeRegressor\n",
    "from sklearn.svm import SVR\n",
    "from sklearn.ensemble import RandomForestRegressor\n",
    "from sklearn.ensemble import GradientBoostingRegressor\n",
    "#from sklearn.linear_model import LinearRegression, Ridge, Lasso\n",
    "\n",
    "# Classification Models\n",
    "from sklearn.svm import LinearSVC\n",
    "from sklearn.neighbors import NearestNeighbors\n",
    "from sklearn.neighbors import KNeighborsClassifier\n",
    "from sklearn.ensemble import RandomForestClassifier\n",
    "from sklearn.tree import DecisionTreeClassifier\n",
    "from sklearn.linear_model import LogisticRegression\n",
    "\n",
    "\n",
    "# tools\n",
    "from sklearn.model_selection import train_test_split\n",
    "\n",
    "# regression model metrics\n",
    "from sklearn.metrics import mean_squared_error\n",
    "from sklearn.metrics import r2_score\n",
    "from sklearn.model_selection import cross_val_score\n",
    "\n",
    "# classification model metrics\n",
    "from sklearn.metrics import accuracy_score\n",
    "from sklearn.metrics import confusion_matrix\n",
    "from sklearn.metrics import classification_report\n",
    "from sklearn.metrics import ConfusionMatrixDisplay\n",
    "\n",
    "#Hyper parameter tuning\n",
    "from sklearn.model_selection import RandomizedSearchCV, GridSearchCV\n",
    "\n",
    "# To save the ML models\n",
    "import joblib"
   ]
  },
  {
   "cell_type": "markdown",
   "id": "4113a3b7-51a8-4fec-9498-b9b54af47365",
   "metadata": {},
   "source": [
    "# Functions"
   ]
  },
  {
   "cell_type": "code",
   "execution_count": 2,
   "id": "abf2dc12-38f6-4318-836a-7ff934652aa6",
   "metadata": {},
   "outputs": [],
   "source": [
    "def save_model (model, file_name):\n",
    "    try:\n",
    "        path = '/home/ale/Dropbox/UBIQUM/4.DeepAnalytics&Visualization/T4M3.WiFiLocationing/MLmodels/'\n",
    " \n",
    "        # Save the model as a pickle in a file\n",
    "        joblib.dump(model, path + file_name)\n",
    "        print('Model Saved')\n",
    "    except:\n",
    "        print('Model NOT!! Saved')"
   ]
  },
  {
   "cell_type": "code",
   "execution_count": 3,
   "id": "7ee08d18-1115-4089-a1f0-c8ca88b7c749",
   "metadata": {},
   "outputs": [],
   "source": [
    "def load_model (file_name):\n",
    "    path = '/home/ale/Dropbox/UBIQUM/4.DeepAnalytics&Visualization/T4M3.WiFiLocationing/MLmodels/'\n",
    " \n",
    "    # Load the model from the file\n",
    "    model_from_joblib = joblib.load(path + file_name)\n",
    "    \n",
    "    return model_from_joblib"
   ]
  },
  {
   "cell_type": "code",
   "execution_count": 4,
   "id": "6c330201-0299-4084-a5a3-c069cb3e928f",
   "metadata": {
    "tags": []
   },
   "outputs": [],
   "source": [
    "def makePredictions(loaded_model, X_test, y_test):\n",
    "    # make predictions\n",
    "    model_predictions = loaded_model.predict(X_test)\n",
    "    \n",
    "    # Accuracy \n",
    "    accuracy = accuracy_score(y_test, model_predictions) \n",
    "    print(\"Accuracy: \", round(accuracy, 3))\n",
    "    \n",
    "    # Confussion Matrix\n",
    "    cm = confusion_matrix(y_test, model_predictions, labels = loaded_model.classes_)\n",
    "    disp = ConfusionMatrixDisplay(confusion_matrix=cm, \n",
    "                                  display_labels=loaded_model.classes_, \n",
    "                               #   cmap=plt.cm.Blues, \n",
    "                                 # normalize=True\n",
    "                                 )\n",
    "       \n",
    "    disp.plot() \n",
    "    \n",
    "    # classification_report\n",
    "    #print(\"Classification report \")\n",
    "    #print(classification_report(y_test, model_predictions, labels = loaded_model.classes_))"
   ]
  },
  {
   "cell_type": "code",
   "execution_count": 5,
   "id": "73cef1c4-5a6b-4aee-b7ee-4076992ab340",
   "metadata": {
    "tags": []
   },
   "outputs": [
    {
     "name": "stdout",
     "output_type": "stream",
     "text": [
      "   BUILDINGID\n",
      "0           1\n",
      "1           2\n",
      "2           2\n",
      "3           2\n",
      "4           2\n"
     ]
    },
    {
     "data": {
      "text/html": [
       "<div>\n",
       "<style scoped>\n",
       "    .dataframe tbody tr th:only-of-type {\n",
       "        vertical-align: middle;\n",
       "    }\n",
       "\n",
       "    .dataframe tbody tr th {\n",
       "        vertical-align: top;\n",
       "    }\n",
       "\n",
       "    .dataframe thead th {\n",
       "        text-align: right;\n",
       "    }\n",
       "</style>\n",
       "<table border=\"1\" class=\"dataframe\">\n",
       "  <thead>\n",
       "    <tr style=\"text-align: right;\">\n",
       "      <th></th>\n",
       "      <th>WAP001</th>\n",
       "      <th>WAP002</th>\n",
       "      <th>WAP003</th>\n",
       "      <th>WAP004</th>\n",
       "      <th>WAP005</th>\n",
       "      <th>WAP006</th>\n",
       "      <th>WAP007</th>\n",
       "      <th>WAP008</th>\n",
       "      <th>WAP009</th>\n",
       "      <th>WAP010</th>\n",
       "      <th>...</th>\n",
       "      <th>WAP509</th>\n",
       "      <th>WAP510</th>\n",
       "      <th>WAP511</th>\n",
       "      <th>WAP512</th>\n",
       "      <th>WAP515</th>\n",
       "      <th>WAP516</th>\n",
       "      <th>WAP517</th>\n",
       "      <th>WAP518</th>\n",
       "      <th>WAP519</th>\n",
       "      <th>WAP520</th>\n",
       "    </tr>\n",
       "  </thead>\n",
       "  <tbody>\n",
       "    <tr>\n",
       "      <th>0</th>\n",
       "      <td>100</td>\n",
       "      <td>100</td>\n",
       "      <td>100</td>\n",
       "      <td>100</td>\n",
       "      <td>100</td>\n",
       "      <td>100</td>\n",
       "      <td>100</td>\n",
       "      <td>100</td>\n",
       "      <td>100</td>\n",
       "      <td>100</td>\n",
       "      <td>...</td>\n",
       "      <td>100</td>\n",
       "      <td>100</td>\n",
       "      <td>100</td>\n",
       "      <td>100</td>\n",
       "      <td>100</td>\n",
       "      <td>100</td>\n",
       "      <td>100</td>\n",
       "      <td>100</td>\n",
       "      <td>100</td>\n",
       "      <td>100</td>\n",
       "    </tr>\n",
       "    <tr>\n",
       "      <th>1</th>\n",
       "      <td>100</td>\n",
       "      <td>100</td>\n",
       "      <td>100</td>\n",
       "      <td>100</td>\n",
       "      <td>100</td>\n",
       "      <td>100</td>\n",
       "      <td>100</td>\n",
       "      <td>100</td>\n",
       "      <td>100</td>\n",
       "      <td>100</td>\n",
       "      <td>...</td>\n",
       "      <td>100</td>\n",
       "      <td>100</td>\n",
       "      <td>100</td>\n",
       "      <td>100</td>\n",
       "      <td>100</td>\n",
       "      <td>100</td>\n",
       "      <td>100</td>\n",
       "      <td>100</td>\n",
       "      <td>100</td>\n",
       "      <td>100</td>\n",
       "    </tr>\n",
       "    <tr>\n",
       "      <th>2</th>\n",
       "      <td>100</td>\n",
       "      <td>100</td>\n",
       "      <td>100</td>\n",
       "      <td>100</td>\n",
       "      <td>100</td>\n",
       "      <td>100</td>\n",
       "      <td>100</td>\n",
       "      <td>100</td>\n",
       "      <td>100</td>\n",
       "      <td>100</td>\n",
       "      <td>...</td>\n",
       "      <td>100</td>\n",
       "      <td>100</td>\n",
       "      <td>100</td>\n",
       "      <td>100</td>\n",
       "      <td>100</td>\n",
       "      <td>100</td>\n",
       "      <td>100</td>\n",
       "      <td>100</td>\n",
       "      <td>100</td>\n",
       "      <td>100</td>\n",
       "    </tr>\n",
       "    <tr>\n",
       "      <th>3</th>\n",
       "      <td>100</td>\n",
       "      <td>100</td>\n",
       "      <td>100</td>\n",
       "      <td>100</td>\n",
       "      <td>100</td>\n",
       "      <td>100</td>\n",
       "      <td>100</td>\n",
       "      <td>100</td>\n",
       "      <td>100</td>\n",
       "      <td>100</td>\n",
       "      <td>...</td>\n",
       "      <td>100</td>\n",
       "      <td>100</td>\n",
       "      <td>100</td>\n",
       "      <td>100</td>\n",
       "      <td>100</td>\n",
       "      <td>-83</td>\n",
       "      <td>-85</td>\n",
       "      <td>100</td>\n",
       "      <td>100</td>\n",
       "      <td>100</td>\n",
       "    </tr>\n",
       "    <tr>\n",
       "      <th>4</th>\n",
       "      <td>100</td>\n",
       "      <td>100</td>\n",
       "      <td>100</td>\n",
       "      <td>100</td>\n",
       "      <td>100</td>\n",
       "      <td>100</td>\n",
       "      <td>100</td>\n",
       "      <td>100</td>\n",
       "      <td>100</td>\n",
       "      <td>100</td>\n",
       "      <td>...</td>\n",
       "      <td>100</td>\n",
       "      <td>100</td>\n",
       "      <td>100</td>\n",
       "      <td>100</td>\n",
       "      <td>100</td>\n",
       "      <td>100</td>\n",
       "      <td>100</td>\n",
       "      <td>100</td>\n",
       "      <td>100</td>\n",
       "      <td>100</td>\n",
       "    </tr>\n",
       "  </tbody>\n",
       "</table>\n",
       "<p>5 rows × 435 columns</p>\n",
       "</div>"
      ],
      "text/plain": [
       "   WAP001  WAP002  WAP003  WAP004  WAP005  WAP006  WAP007  WAP008  WAP009  \\\n",
       "0     100     100     100     100     100     100     100     100     100   \n",
       "1     100     100     100     100     100     100     100     100     100   \n",
       "2     100     100     100     100     100     100     100     100     100   \n",
       "3     100     100     100     100     100     100     100     100     100   \n",
       "4     100     100     100     100     100     100     100     100     100   \n",
       "\n",
       "   WAP010  ...  WAP509  WAP510  WAP511  WAP512  WAP515  WAP516  WAP517  \\\n",
       "0     100  ...     100     100     100     100     100     100     100   \n",
       "1     100  ...     100     100     100     100     100     100     100   \n",
       "2     100  ...     100     100     100     100     100     100     100   \n",
       "3     100  ...     100     100     100     100     100     -83     -85   \n",
       "4     100  ...     100     100     100     100     100     100     100   \n",
       "\n",
       "   WAP518  WAP519  WAP520  \n",
       "0     100     100     100  \n",
       "1     100     100     100  \n",
       "2     100     100     100  \n",
       "3     100     100     100  \n",
       "4     100     100     100  \n",
       "\n",
       "[5 rows x 435 columns]"
      ]
     },
     "execution_count": 5,
     "metadata": {},
     "output_type": "execute_result"
    }
   ],
   "source": [
    "path = '/home/ale/Dropbox/UBIQUM/4.DeepAnalytics&Visualization/T4M3.WiFiLocationing/Data/'\n",
    "file_X = \"1_DataPrepro_Building_X.csv\"\n",
    "file_y = \"1_DataPrepro_Building_y.csv\"\n",
    "\n",
    "Saved_X = pd.read_csv(path + file_X)\n",
    "Saved_y = pd.read_csv(path + file_y)\n",
    "\n",
    "print(Saved_y.head())\n",
    "Saved_X.head()\n"
   ]
  },
  {
   "cell_type": "markdown",
   "id": "86e3a180-6021-40a5-b2b1-190dd0e2249f",
   "metadata": {
    "tags": []
   },
   "source": [
    "## 1.6 Train/Test Split"
   ]
  },
  {
   "cell_type": "code",
   "execution_count": 6,
   "id": "c0f7877b-c7d0-40d8-9f58-a4ec720b8592",
   "metadata": {
    "jupyter": {
     "source_hidden": true
    },
    "tags": []
   },
   "outputs": [
    {
     "name": "stdout",
     "output_type": "stream",
     "text": [
      "X: (8972, 435) y: (8972, 1)\n",
      "X_train: (6729, 435) y_train: (6729, 1)\n",
      "X_test:  (2243, 435)  y_test:  (2243, 1)\n"
     ]
    }
   ],
   "source": [
    "# define X and y\n",
    "X = Saved_X\n",
    "y = Saved_y\n",
    "\n",
    "# define train/test_ratio\n",
    "train_ratio = 0.75\n",
    "test_ratio = 0.25\n",
    "\n",
    "# split data\n",
    "X_train, X_test, y_train, y_test = train_test_split(X, y, test_size=(1-train_ratio) )\n",
    "\n",
    "# check dimensionsc\n",
    "#print('DF: ', Tdata_Building.shape)\n",
    "print('X:', X.shape,'y:', y.shape)\n",
    "print('X_train:', X_train.shape,'y_train:', y_train.shape)\n",
    "print('X_test: ', X_test.shape,' y_test: ', y_test.shape)"
   ]
  },
  {
   "cell_type": "markdown",
   "id": "05f14afe-5783-40b9-b426-2bfdcc633e32",
   "metadata": {
    "tags": []
   },
   "source": [
    "### Load k-NN"
   ]
  },
  {
   "cell_type": "code",
   "execution_count": 7,
   "id": "63af3728-4610-46da-8831-537fe6cd904e",
   "metadata": {
    "tags": []
   },
   "outputs": [
    {
     "name": "stdout",
     "output_type": "stream",
     "text": [
      "Accuracy:  0.998\n"
     ]
    },
    {
     "data": {
      "image/png": "[encoded data removed]",
      "text/plain": [
       "<Figure size 432x288 with 2 Axes>"
      ]
     },
     "metadata": {
      "needs_background": "light"
     },
     "output_type": "display_data"
    }
   ],
   "source": [
    "file = 'Building_KNN.joblib'\n",
    "\n",
    "# Load the model from the file\n",
    "KNN_from_joblib = load_model(file)\n",
    "\n",
    "# Use the loaded model to make predictions\n",
    "makePredictions(KNN_from_joblib, X_test, y_test)"
   ]
  },
  {
   "cell_type": "markdown",
   "id": "a99dc9b1-8b51-4536-86c6-04631ffaf62b",
   "metadata": {
    "tags": []
   },
   "source": [
    "### Load RF"
   ]
  },
  {
   "cell_type": "code",
   "execution_count": 8,
   "id": "426938d8-85ce-42ca-bc4a-e1cbe7550cdd",
   "metadata": {
    "tags": []
   },
   "outputs": [
    {
     "name": "stdout",
     "output_type": "stream",
     "text": [
      "Accuracy:  0.996\n"
     ]
    },
    {
     "data": {
      "image/png": "[encoded data removed]",
      "text/plain": [
       "<Figure size 432x288 with 2 Axes>"
      ]
     },
     "metadata": {
      "needs_background": "light"
     },
     "output_type": "display_data"
    }
   ],
   "source": [
    "file = 'Building_RF.joblib'\n",
    "\n",
    "# Load the model from the file\n",
    "RF_from_joblib = load_model(file)\n",
    "\n",
    "# Use the loaded model to make predictions\n",
    "# Use the loaded model to make predictions\n",
    "makePredictions(RF_from_joblib, X_test, y_test)"
   ]
  },
  {
   "cell_type": "markdown",
   "id": "8688f425-6b52-4d26-9073-e89fd515c12d",
   "metadata": {},
   "source": [
    "### Load Log Reg"
   ]
  },
  {
   "cell_type": "code",
   "execution_count": 9,
   "id": "1e217c84-0feb-4c7f-851a-8f2cf258a9c6",
   "metadata": {
    "tags": []
   },
   "outputs": [
    {
     "name": "stdout",
     "output_type": "stream",
     "text": [
      "Accuracy:  0.998\n"
     ]
    },
    {
     "data": {
      "image/png": "[encoded data removed]",
      "text/plain": [
       "<Figure size 432x288 with 2 Axes>"
      ]
     },
     "metadata": {
      "needs_background": "light"
     },
     "output_type": "display_data"
    }
   ],
   "source": [
    "file = 'Building_LR.joblib'\n",
    "\n",
    "#Load the model from the file\n",
    "LR_from_joblib = load_model(file)\n",
    "\n",
    "# Use the loaded model to make predictions\n",
    "makePredictions(LR_from_joblib, X_test, y_test)"
   ]
  }
 ],
 "metadata": {
  "kernelspec": {
   "display_name": "Python 3",
   "language": "python",
   "name": "python3"
  },
  "language_info": {
   "codemirror_mode": {
    "name": "ipython",
    "version": 3
   },
   "file_extension": ".py",
   "mimetype": "text/x-python",
   "name": "python",
   "nbconvert_exporter": "python",
   "pygments_lexer": "ipython3",
   "version": "3.8.10"
  }
 },
 "nbformat": 4,
 "nbformat_minor": 5
}
