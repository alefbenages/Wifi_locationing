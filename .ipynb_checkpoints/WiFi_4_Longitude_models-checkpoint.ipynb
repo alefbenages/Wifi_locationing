{
 "cells": [
  {
   "cell_type": "markdown",
   "id": "aa917241-eb04-486d-a032-90b502d8d7d4",
   "metadata": {},
   "source": [
    "# Guess LATITUDE MODELS"
   ]
  },
  {
   "cell_type": "code",
   "execution_count": 3,
   "id": "8264face-25a7-49c1-893a-8e30bf139758",
   "metadata": {
    "jupyter": {
     "source_hidden": true
    },
    "tags": []
   },
   "outputs": [],
   "source": [
    "# basic\n",
    "import pandas as pd\n",
    "import numpy as np\n",
    "import matplotlib.pyplot as plt\n",
    "import seaborn as sns\n",
    "\n",
    "# estimators\n",
    "\n",
    "\n",
    "from sklearn.tree import DecisionTreeRegressor\n",
    "from sklearn.svm import SVR\n",
    "from sklearn.ensemble import RandomForestRegressor\n",
    "from sklearn.ensemble import GradientBoostingRegressor\n",
    "#from sklearn.linear_model import LinearRegression, Ridge, Lasso\n",
    "\n",
    "# Classification Models\n",
    "from sklearn.svm import LinearSVC\n",
    "from sklearn.neighbors import NearestNeighbors\n",
    "from sklearn.neighbors import KNeighborsClassifier\n",
    "from sklearn.ensemble import RandomForestClassifier\n",
    "from sklearn.tree import DecisionTreeClassifier\n",
    "from sklearn.linear_model import LogisticRegression\n",
    "\n",
    "# tools\n",
    "from sklearn.model_selection import train_test_split\n",
    "\n",
    "# regression model metrics\n",
    "from sklearn.metrics import mean_squared_error\n",
    "from sklearn.metrics import r2_score\n",
    "from sklearn.model_selection import cross_val_score\n",
    "\n",
    "# classification model metrics\n",
    "from sklearn.metrics import accuracy_score\n",
    "from sklearn.metrics import confusion_matrix\n",
    "from sklearn.metrics import classification_report\n",
    "\n",
    "\n",
    "#Hyper parameter tuning\n",
    "from sklearn.model_selection import RandomizedSearchCV, GridSearchCV\n",
    "\n",
    "# To save the ML models\n",
    "import joblib"
   ]
  },
  {
   "cell_type": "code",
   "execution_count": 14,
   "id": "80063eb7-4fbd-478e-a161-0a4b4aaa8556",
   "metadata": {
    "tags": []
   },
   "outputs": [],
   "source": [
    "def makePredictions(loaded_model, X_test, y_test):\n",
    "    model_predictions = loaded_model.predict(X_test)\n",
    "\n",
    "    print(\"MSE from loaded model : {}\".format(mean_squared_error(y_test,model_predictions)))"
   ]
  },
  {
   "cell_type": "code",
   "execution_count": 12,
   "id": "9dddc679-fba7-4c0c-b7c9-3ac8f4e8109c",
   "metadata": {
    "tags": []
   },
   "outputs": [],
   "source": [
    "path = '/home/ale/Dropbox/UBIQUM/4.DeepAnalytics&Visualization/T4M3.WiFiLocationing/Data/'\n",
    "file_X = \"3_DataPrepro_LAT_X.csv\"\n",
    "file_y = \"3_DataPrepro_LAT_y.csv\"\n",
    "\n",
    "Saved_X = pd.read_csv(path + file_X)\n",
    "Saved_y = pd.read_csv(path + file_y)\n",
    "\n",
    "#print(Saved_y.head())\n",
    "#Saved_X.head()\n"
   ]
  },
  {
   "cell_type": "markdown",
   "id": "38548985-0912-4af5-99c6-7a10de728755",
   "metadata": {
    "tags": []
   },
   "source": [
    "## 1.6 Train/Test Split"
   ]
  },
  {
   "cell_type": "code",
   "execution_count": 13,
   "id": "3e0c70ea-a25d-4e21-ae5d-6faf34b6b489",
   "metadata": {
    "collapsed": true,
    "jupyter": {
     "outputs_hidden": true,
     "source_hidden": true
    },
    "tags": []
   },
   "outputs": [
    {
     "name": "stdout",
     "output_type": "stream",
     "text": [
      "X: (8972, 431) y: (8972, 1)\n",
      "X_train: (6729, 431) y_train: (6729, 1)\n",
      "X_test:  (2243, 431)  y_test:  (2243, 1)\n"
     ]
    },
    {
     "data": {
      "text/html": [
       "<div>\n",
       "<style scoped>\n",
       "    .dataframe tbody tr th:only-of-type {\n",
       "        vertical-align: middle;\n",
       "    }\n",
       "\n",
       "    .dataframe tbody tr th {\n",
       "        vertical-align: top;\n",
       "    }\n",
       "\n",
       "    .dataframe thead th {\n",
       "        text-align: right;\n",
       "    }\n",
       "</style>\n",
       "<table border=\"1\" class=\"dataframe\">\n",
       "  <thead>\n",
       "    <tr style=\"text-align: right;\">\n",
       "      <th></th>\n",
       "      <th>LATITUDE</th>\n",
       "    </tr>\n",
       "  </thead>\n",
       "  <tbody>\n",
       "    <tr>\n",
       "      <th>2108</th>\n",
       "      <td>4.864845e+06</td>\n",
       "    </tr>\n",
       "    <tr>\n",
       "      <th>7551</th>\n",
       "      <td>4.864798e+06</td>\n",
       "    </tr>\n",
       "    <tr>\n",
       "      <th>6440</th>\n",
       "      <td>4.864842e+06</td>\n",
       "    </tr>\n",
       "    <tr>\n",
       "      <th>217</th>\n",
       "      <td>4.864986e+06</td>\n",
       "    </tr>\n",
       "    <tr>\n",
       "      <th>6298</th>\n",
       "      <td>4.864828e+06</td>\n",
       "    </tr>\n",
       "  </tbody>\n",
       "</table>\n",
       "</div>"
      ],
      "text/plain": [
       "          LATITUDE\n",
       "2108  4.864845e+06\n",
       "7551  4.864798e+06\n",
       "6440  4.864842e+06\n",
       "217   4.864986e+06\n",
       "6298  4.864828e+06"
      ]
     },
     "execution_count": 13,
     "metadata": {},
     "output_type": "execute_result"
    }
   ],
   "source": [
    "# define X and y\n",
    "X = Saved_X\n",
    "y = Saved_y\n",
    "\n",
    "# define train/test_ratio\n",
    "train_ratio = 0.75\n",
    "test_ratio = 0.25\n",
    "\n",
    "# split data\n",
    "X_train, X_test, y_train, y_test = train_test_split(X, y, test_size=(1-train_ratio) )\n",
    "\n",
    "# check dimensionsc\n",
    "#print('DF: ', Tdata_Building.shape)\n",
    "print('X:', X.shape,'y:', y.shape)\n",
    "print('X_train:', X_train.shape,'y_train:', y_train.shape)\n",
    "print('X_test: ', X_test.shape,' y_test: ', y_test.shape)\n",
    "y_test.head()"
   ]
  },
  {
   "cell_type": "markdown",
   "id": "be84cfd3-0ef6-486e-8a73-d9a4b950eeb2",
   "metadata": {},
   "source": [
    "### Load DecissionTreeRegressor"
   ]
  },
  {
   "cell_type": "code",
   "execution_count": 19,
   "id": "c5575f44-e757-483f-acca-e205056c8139",
   "metadata": {
    "tags": []
   },
   "outputs": [
    {
     "name": "stdout",
     "output_type": "stream",
     "text": [
      "MSE from loaded model : 53.16162815235062\n"
     ]
    }
   ],
   "source": [
    "path = '/home/ale/Dropbox/UBIQUM/4.DeepAnalytics&Visualization/T4M3.WiFiLocationing/'\n",
    "file = 'LAT_DTR.joblib'\n",
    "\n",
    "# Load the model from the file\n",
    "DTR_from_joblib = joblib.load(path + file)\n",
    "\n",
    "# Use the loaded model to make predictions\n",
    "makePredictions(DTR_from_joblib, X_test, y_test)"
   ]
  },
  {
   "cell_type": "markdown",
   "id": "87bc16c7-65f3-4c20-b78c-180f318794f1",
   "metadata": {},
   "source": [
    "### Load kNreg"
   ]
  },
  {
   "cell_type": "code",
   "execution_count": 20,
   "id": "fa754827-2d14-48b4-8929-df7ce6c0b1ef",
   "metadata": {
    "tags": []
   },
   "outputs": [
    {
     "name": "stdout",
     "output_type": "stream",
     "text": [
      "MSE from loaded model : 33.11642632152356\n"
     ]
    }
   ],
   "source": [
    "path = '/home/ale/Dropbox/UBIQUM/4.DeepAnalytics&Visualization/T4M3.WiFiLocationing/'\n",
    "file = 'LAT_KNreg.joblib'\n",
    "\n",
    "# Load the model from the file\n",
    "KNreg_from_joblib = joblib.load(path + file)\n",
    "\n",
    "# Use the loaded model to make predictions\n",
    "makePredictions(KNreg_from_joblib,X_test, y_test)"
   ]
  },
  {
   "cell_type": "markdown",
   "id": "bc335a14-4045-4106-a1dd-363637f0a323",
   "metadata": {},
   "source": [
    "### Load Multi-layer Perceptron regressor"
   ]
  },
  {
   "cell_type": "code",
   "execution_count": 21,
   "id": "05923093-de45-446c-8eed-71ba0ee4e89e",
   "metadata": {
    "tags": []
   },
   "outputs": [
    {
     "name": "stdout",
     "output_type": "stream",
     "text": [
      "MSE from loaded model : 23560402897081.75\n"
     ]
    }
   ],
   "source": [
    "path = '/home/ale/Dropbox/UBIQUM/4.DeepAnalytics&Visualization/T4M3.WiFiLocationing/'\n",
    "file = 'LAT_MLP.joblib'\n",
    "\n",
    "# Load the model from the file\n",
    "MLP_from_joblib = joblib.load(path + file)\n",
    "\n",
    "# Use the loaded model to make predictions\n",
    "makePredictions(MLP_from_joblib,X_test, y_test)"
   ]
  },
  {
   "cell_type": "markdown",
   "id": "7111bb1e-5624-419e-9e02-0739e456b011",
   "metadata": {
    "tags": []
   },
   "source": [
    "### Load Support Vector Regression "
   ]
  },
  {
   "cell_type": "code",
   "execution_count": 22,
   "id": "7edf0a07-a9bf-497c-9b2a-b508aafe9704",
   "metadata": {
    "tags": []
   },
   "outputs": [
    {
     "name": "stdout",
     "output_type": "stream",
     "text": [
      "MSE from loaded model : 51.67580459655386\n"
     ]
    }
   ],
   "source": [
    "path = '/home/ale/Dropbox/UBIQUM/4.DeepAnalytics&Visualization/T4M3.WiFiLocationing/'\n",
    "file = 'LAT_SVR.joblib'\n",
    "\n",
    "# Load the model from the file\n",
    "SVR_from_joblib = joblib.load(path + file)\n",
    "\n",
    "# Use the loaded model to make predictions\n",
    "makePredictions(SVR_from_joblib,X_test, y_test)"
   ]
  }
 ],
 "metadata": {
  "kernelspec": {
   "display_name": "Python 3",
   "language": "python",
   "name": "python3"
  },
  "language_info": {
   "codemirror_mode": {
    "name": "ipython",
    "version": 3
   },
   "file_extension": ".py",
   "mimetype": "text/x-python",
   "name": "python",
   "nbconvert_exporter": "python",
   "pygments_lexer": "ipython3",
   "version": "3.8.10"
  }
 },
 "nbformat": 4,
 "nbformat_minor": 5
}
