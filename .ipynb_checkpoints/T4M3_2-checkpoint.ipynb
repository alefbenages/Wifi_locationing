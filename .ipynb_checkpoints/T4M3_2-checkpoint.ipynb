{
 "cells": [
  {
   "cell_type": "markdown",
   "id": "123f0ebb-e41b-4277-8630-1284ac5c0a7a",
   "metadata": {},
   "source": [
    "# Task 3: Evaluate Techniques for Wifi Locationing "
   ]
  },
  {
   "cell_type": "markdown",
   "id": "9a1e26ef-113e-4715-a827-be49b1c52997",
   "metadata": {},
   "source": [
    "# Import libraries"
   ]
  },
  {
   "cell_type": "code",
   "execution_count": 2,
   "id": "2041aad4-76d9-4469-8a86-b067fdf4cb90",
   "metadata": {},
   "outputs": [],
   "source": [
    "# basic\n",
    "import pandas as pd\n",
    "import numpy as np\n",
    "import matplotlib.pyplot as plt\n",
    "import seaborn as sns\n",
    "\n",
    "# estimators\n",
    "\n",
    "\n",
    "from sklearn.tree import DecisionTreeRegressor\n",
    "from sklearn.svm import SVR\n",
    "from sklearn.ensemble import RandomForestRegressor\n",
    "from sklearn.ensemble import GradientBoostingRegressor\n",
    "#from sklearn.linear_model import LinearRegression, Ridge, Lasso\n",
    "\n",
    "# Classification Models\n",
    "from sklearn.svm import LinearSVC\n",
    "from sklearn.neighbors import NearestNeighbors\n",
    "from sklearn.neighbors import KNeighborsClassifier\n",
    "from sklearn.ensemble import RandomForestClassifier\n",
    "from sklearn.tree import DecisionTreeClassifier\n",
    "from sklearn.linear_model import LogisticRegression\n",
    "\n",
    "# tools\n",
    "from sklearn.model_selection import train_test_split\n",
    "\n",
    "# regression model metrics\n",
    "from sklearn.metrics import mean_squared_error\n",
    "from sklearn.metrics import r2_score\n",
    "from sklearn.model_selection import cross_val_score\n",
    "# classification model metrics\n",
    "from sklearn.metrics import accuracy_score\n",
    "\n",
    "#Hyper parameter tuning\n",
    "from sklearn.model_selection import RandomizedSearchCV, GridSearchCV"
   ]
  },
  {
   "cell_type": "markdown",
   "id": "279f4a76-900c-4833-93bf-2c22751d5bed",
   "metadata": {},
   "source": [
    "# Functions"
   ]
  },
  {
   "cell_type": "code",
   "execution_count": 101,
   "id": "edeade1a-ecbb-4192-803a-0ca1feeb6573",
   "metadata": {},
   "outputs": [],
   "source": [
    "def LogRegClassifier (X_train, X_test, y_train, y_test, cv, param_dist_LR):\n",
    "    # instantiate the RandomizedSearchCV object: model_cv\n",
    "    LR_CV = RandomizedSearchCV(LogReg, param_dist_LR, cv=cv, n_jobs = -1)\n",
    "\n",
    "    # Fit it to the data\n",
    "    LR_CV.fit(X_train,y_train.values.ravel())\n",
    "\n",
    "    # Print the tuned parameters and score\n",
    "    print(\"Tuned Decision LogReg Parameters: {}\".format(LR_CV.best_params_))\n",
    "    \n",
    "    # evaulate a CV=x using the parameters estimated with Randomized search\n",
    "   # LR_results_CV = cross_val_score(LR_CV, X_test, y_test.values.ravel(), cv=cv, scoring='accuracy')\n",
    "\n",
    "    # returns all the cv=x results\n",
    "    return LR_CV"
   ]
  },
  {
   "cell_type": "code",
   "execution_count": 3,
   "id": "fb165daf-ab73-4ce1-a494-dc78e2bde23e",
   "metadata": {},
   "outputs": [],
   "source": [
    "def Train_Categorical_Models (X, y, trainRatio, showPrint, name , model):\n",
    "    train_ratio = trainRatio\n",
    "    test_ratio = 1- trainRatio\n",
    "\n",
    "    # train is now <train_ratio> % of the entire data set the _junk suffix means that we drop that variable completely\n",
    "    X_train, X_test, y_train, y_test = train_test_split(X, y, test_size=(1-train_ratio) )\n",
    "\n",
    "#    print('DF: ', Tdata_sampled.shape)\n",
    "#    print('X:      ', X.shape, 'y:      ', y.shape)\n",
    "#    print('X_Train:', X_train.shape,'y_Train:', y_train.shape)\n",
    "#    print('X_Test: ', X_test.shape,' y_Test: ', y_test.shape)\n",
    "\n",
    "\n",
    "    # list of Categorical Models to Evaluate \n",
    "    algo_Candidates = []\n",
    "    algo_Candidates.append(('Random Forest Regressor', RandomForestRegressor()))\n",
    "    algo_Candidates.append(('Suport Vector Regression', SVR()))\n",
    "    algo_Candidates.append(('k-NN', KNeighborsClassifier()))\n",
    "    algo_Candidates.append(('Gradient Boosting Regressor', GradientBoostingRegressor()))\n",
    "    algo_Candidates.append(('Desicion Tree Regressor', DecisionTreeRegressor()))\n",
    "    \n",
    "    models=[]\n",
    "    performance=[]\n",
    "\n",
    "    for name, model in algo_Candidates:\n",
    "        # train the model\n",
    "        model = model.fit(X_train, y_train.values.ravel())\n",
    "\n",
    "        # Get predictions and performance\n",
    "        predictions = model.predict(X_test)\n",
    "\n",
    "        # save the models into a list of tuples\n",
    "        models.append((name,model))\n",
    "\n",
    "    for name, model in algo_Candidates:        \n",
    "                # print results\n",
    "        print('MODEL: ',name)\n",
    "        print('Train score: {}'.format(round(model.score(X_train,y_train),3)))\n",
    "        print('Validation score: {}'.format(round(model.score(X_test,y_test),3)))\n",
    "                                       \n",
    "        print('Precision {}'.format(round(model.precision_score(y_test, predictions),3)))\n",
    "        print('RMSE (Mean Squared Error): {}'.format(round(mean_squared_error(y_test,predictions),3)))\n",
    "        print('-------------------------------- \\n')\n",
    "    \n",
    "    if (showPrint == True): \n",
    "        #name = 'Random Forest Regressor'\n",
    "        #model = RandomForestRegressor()\n",
    "\n",
    "\n",
    "        # train the winner model\n",
    "        model_test = model.fit(X_test, y_test.values.ravel())\n",
    "\n",
    "        # make predictions with the winner model \n",
    "        model_pred = model.predict(X_test)\n",
    "\n",
    "        plt.scatter(y_test, model_pred, alpha = 0.2, s=200)\n",
    "        plt.xlabel('Ground Truth')\n",
    "        plt.ylabel('Predictions')\n",
    "        plt.show();"
   ]
  },
  {
   "cell_type": "code",
   "execution_count": 4,
   "id": "c50cae32-2fc6-457f-a051-ec2cb553796c",
   "metadata": {},
   "outputs": [],
   "source": [
    "def Train_Numerical_Models (X, y, trainRatio, showPrint, name , model):\n",
    "    train_ratio = trainRatio\n",
    "    test_ratio = 1- trainRatio\n",
    "\n",
    "    # train is now <train_ratio> % of the entire data set the _junk suffix means that we drop that variable completely\n",
    "    X_train, X_test, y_train, y_test = train_test_split(X, y, test_size=(1-train_ratio) )\n",
    "\n",
    "#    print('DF: ', Tdata_sampled.shape)\n",
    "#    print('X:      ', X.shape, 'y:      ', y.shape)\n",
    "#    print('X_Train:', X_train.shape,'y_Train:', y_train.shape)\n",
    "#    print('X_Test: ', X_test.shape,' y_Test: ', y_test.shape)\n",
    "\n",
    "\n",
    "    # list of possible candidates\n",
    "    algo_Candidates = []\n",
    "\n",
    "    algo_Candidates.append(('Random Forest Regressor', RandomForestRegressor()))\n",
    "    algo_Candidates.append(('Suport Vector Regression', SVR()))\n",
    "    algo_Candidates.append(('k-NN', KNeighborsClassifier()))\n",
    "    algo_Candidates.append(('Gradient Boosting Regressor', GradientBoostingRegressor()))\n",
    "    algo_Candidates.append(('Desicion Tree Regressor', DecisionTreeRegressor()))\n",
    "    \n",
    "    models=[]\n",
    "    performance=[]\n",
    "\n",
    "    for name, model in algo_Candidates:\n",
    "        # train the model\n",
    "        model = model.fit(X_train, y_train.values.ravel())\n",
    "\n",
    "        # Get predictions and performance\n",
    "        predictions = model.predict(X_test)\n",
    "\n",
    "        # save the models into a list of tuples\n",
    "        models.append((name,model))\n",
    "\n",
    "    for name, model in algo_Candidates:        \n",
    "                # print results\n",
    "        print('MODEL: ',name)\n",
    "        print('Train score: {}'.format(round(model.score(X_train,y_train),3)))\n",
    "        print('Validation score: {}'.format(round(model.score(X_test,y_test),3)))\n",
    "        print('R sqared (Overall model accuracy): {}'.format(round(r2_score(y_test,predictions),3)))\n",
    "        print('RMSE (Mean Squared Error): {}'.format(round(mean_squared_error(y_test,predictions),3)))\n",
    "        print('-------------------------------- \\n')\n",
    "    \n",
    "    if (showPrint == True): \n",
    "        #name = 'Random Forest Regressor'\n",
    "        #model = RandomForestRegressor()\n",
    "\n",
    "\n",
    "        # train the winner model\n",
    "        model_test = model.fit(X_test, y_test.values.ravel())\n",
    "\n",
    "        # make predictions with the winner model \n",
    "        model_pred = model.predict(X_test)\n",
    "\n",
    "        plt.scatter(y_test, model_pred, alpha = 0.2, s=200)\n",
    "        plt.xlabel('Ground Truth')\n",
    "        plt.ylabel('Predictions')\n",
    "        plt.show();"
   ]
  },
  {
   "cell_type": "markdown",
   "id": "b740ade7-4f61-48a1-a0c1-47d2a7797df9",
   "metadata": {},
   "source": [
    "# Import Data"
   ]
  },
  {
   "cell_type": "code",
   "execution_count": 62,
   "id": "c53ebf07-12da-4b0f-9f66-44309684e0cc",
   "metadata": {},
   "outputs": [
    {
     "data": {
      "text/html": [
       "<div>\n",
       "<style scoped>\n",
       "    .dataframe tbody tr th:only-of-type {\n",
       "        vertical-align: middle;\n",
       "    }\n",
       "\n",
       "    .dataframe tbody tr th {\n",
       "        vertical-align: top;\n",
       "    }\n",
       "\n",
       "    .dataframe thead th {\n",
       "        text-align: right;\n",
       "    }\n",
       "</style>\n",
       "<table border=\"1\" class=\"dataframe\">\n",
       "  <thead>\n",
       "    <tr style=\"text-align: right;\">\n",
       "      <th></th>\n",
       "      <th>WAP001</th>\n",
       "      <th>WAP002</th>\n",
       "      <th>WAP003</th>\n",
       "      <th>WAP004</th>\n",
       "      <th>WAP005</th>\n",
       "      <th>WAP006</th>\n",
       "      <th>WAP007</th>\n",
       "      <th>WAP008</th>\n",
       "      <th>WAP009</th>\n",
       "      <th>WAP010</th>\n",
       "      <th>...</th>\n",
       "      <th>WAP520</th>\n",
       "      <th>LONGITUDE</th>\n",
       "      <th>LATITUDE</th>\n",
       "      <th>FLOOR</th>\n",
       "      <th>BUILDINGID</th>\n",
       "      <th>SPACEID</th>\n",
       "      <th>RELATIVEPOSITION</th>\n",
       "      <th>USERID</th>\n",
       "      <th>PHONEID</th>\n",
       "      <th>TIMESTAMP</th>\n",
       "    </tr>\n",
       "  </thead>\n",
       "  <tbody>\n",
       "    <tr>\n",
       "      <th>0</th>\n",
       "      <td>100</td>\n",
       "      <td>100</td>\n",
       "      <td>100</td>\n",
       "      <td>100</td>\n",
       "      <td>100</td>\n",
       "      <td>100</td>\n",
       "      <td>100</td>\n",
       "      <td>100</td>\n",
       "      <td>100</td>\n",
       "      <td>100</td>\n",
       "      <td>...</td>\n",
       "      <td>100</td>\n",
       "      <td>-7541.2643</td>\n",
       "      <td>4.864921e+06</td>\n",
       "      <td>2</td>\n",
       "      <td>1</td>\n",
       "      <td>106</td>\n",
       "      <td>2</td>\n",
       "      <td>2</td>\n",
       "      <td>23</td>\n",
       "      <td>1371713733</td>\n",
       "    </tr>\n",
       "    <tr>\n",
       "      <th>1</th>\n",
       "      <td>100</td>\n",
       "      <td>100</td>\n",
       "      <td>100</td>\n",
       "      <td>100</td>\n",
       "      <td>100</td>\n",
       "      <td>100</td>\n",
       "      <td>100</td>\n",
       "      <td>100</td>\n",
       "      <td>100</td>\n",
       "      <td>100</td>\n",
       "      <td>...</td>\n",
       "      <td>100</td>\n",
       "      <td>-7536.6212</td>\n",
       "      <td>4.864934e+06</td>\n",
       "      <td>2</td>\n",
       "      <td>1</td>\n",
       "      <td>106</td>\n",
       "      <td>2</td>\n",
       "      <td>2</td>\n",
       "      <td>23</td>\n",
       "      <td>1371713691</td>\n",
       "    </tr>\n",
       "    <tr>\n",
       "      <th>2</th>\n",
       "      <td>100</td>\n",
       "      <td>100</td>\n",
       "      <td>100</td>\n",
       "      <td>100</td>\n",
       "      <td>100</td>\n",
       "      <td>100</td>\n",
       "      <td>100</td>\n",
       "      <td>-97</td>\n",
       "      <td>100</td>\n",
       "      <td>100</td>\n",
       "      <td>...</td>\n",
       "      <td>100</td>\n",
       "      <td>-7519.1524</td>\n",
       "      <td>4.864950e+06</td>\n",
       "      <td>2</td>\n",
       "      <td>1</td>\n",
       "      <td>103</td>\n",
       "      <td>2</td>\n",
       "      <td>2</td>\n",
       "      <td>23</td>\n",
       "      <td>1371714095</td>\n",
       "    </tr>\n",
       "    <tr>\n",
       "      <th>3</th>\n",
       "      <td>100</td>\n",
       "      <td>100</td>\n",
       "      <td>100</td>\n",
       "      <td>100</td>\n",
       "      <td>100</td>\n",
       "      <td>100</td>\n",
       "      <td>100</td>\n",
       "      <td>100</td>\n",
       "      <td>100</td>\n",
       "      <td>100</td>\n",
       "      <td>...</td>\n",
       "      <td>100</td>\n",
       "      <td>-7524.5704</td>\n",
       "      <td>4.864934e+06</td>\n",
       "      <td>2</td>\n",
       "      <td>1</td>\n",
       "      <td>102</td>\n",
       "      <td>2</td>\n",
       "      <td>2</td>\n",
       "      <td>23</td>\n",
       "      <td>1371713807</td>\n",
       "    </tr>\n",
       "    <tr>\n",
       "      <th>4</th>\n",
       "      <td>100</td>\n",
       "      <td>100</td>\n",
       "      <td>100</td>\n",
       "      <td>100</td>\n",
       "      <td>100</td>\n",
       "      <td>100</td>\n",
       "      <td>100</td>\n",
       "      <td>100</td>\n",
       "      <td>100</td>\n",
       "      <td>100</td>\n",
       "      <td>...</td>\n",
       "      <td>100</td>\n",
       "      <td>-7632.1436</td>\n",
       "      <td>4.864982e+06</td>\n",
       "      <td>0</td>\n",
       "      <td>0</td>\n",
       "      <td>122</td>\n",
       "      <td>2</td>\n",
       "      <td>11</td>\n",
       "      <td>13</td>\n",
       "      <td>1369909710</td>\n",
       "    </tr>\n",
       "  </tbody>\n",
       "</table>\n",
       "<p>5 rows × 529 columns</p>\n",
       "</div>"
      ],
      "text/plain": [
       "   WAP001  WAP002  WAP003  WAP004  WAP005  WAP006  WAP007  WAP008  WAP009  \\\n",
       "0     100     100     100     100     100     100     100     100     100   \n",
       "1     100     100     100     100     100     100     100     100     100   \n",
       "2     100     100     100     100     100     100     100     -97     100   \n",
       "3     100     100     100     100     100     100     100     100     100   \n",
       "4     100     100     100     100     100     100     100     100     100   \n",
       "\n",
       "   WAP010  ...  WAP520  LONGITUDE      LATITUDE  FLOOR  BUILDINGID  SPACEID  \\\n",
       "0     100  ...     100 -7541.2643  4.864921e+06      2           1      106   \n",
       "1     100  ...     100 -7536.6212  4.864934e+06      2           1      106   \n",
       "2     100  ...     100 -7519.1524  4.864950e+06      2           1      103   \n",
       "3     100  ...     100 -7524.5704  4.864934e+06      2           1      102   \n",
       "4     100  ...     100 -7632.1436  4.864982e+06      0           0      122   \n",
       "\n",
       "   RELATIVEPOSITION  USERID  PHONEID   TIMESTAMP  \n",
       "0                 2       2       23  1371713733  \n",
       "1                 2       2       23  1371713691  \n",
       "2                 2       2       23  1371714095  \n",
       "3                 2       2       23  1371713807  \n",
       "4                 2      11       13  1369909710  \n",
       "\n",
       "[5 rows x 529 columns]"
      ]
     },
     "execution_count": 62,
     "metadata": {},
     "output_type": "execute_result"
    }
   ],
   "source": [
    "Tdata = pd.read_csv('/home/ale/Dropbox/UBIQUM/4.DeepAnalytics&Visualization/T4M3.WiFiLocationing/Data/UJIndoorLoc/trainingData.csv')\n",
    "\n",
    "Tdata.head()"
   ]
  },
  {
   "cell_type": "code",
   "execution_count": 63,
   "id": "88602485-7d7a-431c-a52e-c9c8bdb17e39",
   "metadata": {},
   "outputs": [
    {
     "data": {
      "text/plain": [
       "(19937, 529)"
      ]
     },
     "execution_count": 63,
     "metadata": {},
     "output_type": "execute_result"
    }
   ],
   "source": [
    "Tdata.shape"
   ]
  },
  {
   "cell_type": "code",
   "execution_count": 64,
   "id": "54782dd4-d0cc-4263-8c10-2b463ed2706b",
   "metadata": {},
   "outputs": [
    {
     "name": "stdout",
     "output_type": "stream",
     "text": [
      "False\n"
     ]
    }
   ],
   "source": [
    "# The any() function returns True if any item in an iterable are true, otherwise it returns False\n",
    "print(any(Tdata.isnull().sum()))"
   ]
  },
  {
   "cell_type": "markdown",
   "id": "384ed001-70ea-449f-9af6-561fff1b79b9",
   "metadata": {},
   "source": [
    "We already check for null values, but you can verify this visually by applying a heat map.\n",
    "there are a lot of features,and heatmap cant print them all... but you can get an idea. "
   ]
  },
  {
   "cell_type": "code",
   "execution_count": 37,
   "id": "7ab4a93c-e461-4759-8a0b-95850e5e8191",
   "metadata": {},
   "outputs": [
    {
     "data": {
      "image/png": "[encoded data removed]",
      "text/plain": [
       "<Figure size 432x288 with 2 Axes>"
      ]
     },
     "metadata": {
      "needs_background": "light"
     },
     "output_type": "display_data"
    }
   ],
   "source": [
    "# simple heat map showing where we are missing data\n",
    "heat_map = sns.heatmap(Tdata.isnull(), yticklabels = False, cbar = True, cmap = \"PuRd\", vmin = 0, vmax = 0.1)\n",
    "plt.show()"
   ]
  },
  {
   "cell_type": "markdown",
   "id": "6f175a3b-c9aa-4c82-b4aa-5a443232598e",
   "metadata": {},
   "source": [
    "DataTypes"
   ]
  },
  {
   "cell_type": "code",
   "execution_count": 76,
   "id": "dbf0d4ac-931c-4b98-9186-175957cbf7c0",
   "metadata": {},
   "outputs": [
    {
     "data": {
      "text/plain": [
       "WAP520                int64\n",
       "LONGITUDE           float64\n",
       "LATITUDE            float64\n",
       "FLOOR                 int64\n",
       "BUILDINGID            int64\n",
       "SPACEID               int64\n",
       "RELATIVEPOSITION      int64\n",
       "USERID                int64\n",
       "PHONEID               int64\n",
       "TIMESTAMP             int64\n",
       "dtype: object"
      ]
     },
     "execution_count": 76,
     "metadata": {},
     "output_type": "execute_result"
    }
   ],
   "source": [
    "Tdata.iloc[:,519:529].dtypes"
   ]
  },
  {
   "cell_type": "code",
   "execution_count": 77,
   "id": "c4d1d1b3-9769-4bfb-8f3c-2b59c47cbd33",
   "metadata": {},
   "outputs": [
    {
     "data": {
      "text/html": [
       "<div>\n",
       "<style scoped>\n",
       "    .dataframe tbody tr th:only-of-type {\n",
       "        vertical-align: middle;\n",
       "    }\n",
       "\n",
       "    .dataframe tbody tr th {\n",
       "        vertical-align: top;\n",
       "    }\n",
       "\n",
       "    .dataframe thead th {\n",
       "        text-align: right;\n",
       "    }\n",
       "</style>\n",
       "<table border=\"1\" class=\"dataframe\">\n",
       "  <thead>\n",
       "    <tr style=\"text-align: right;\">\n",
       "      <th></th>\n",
       "      <th>WAP001</th>\n",
       "      <th>WAP002</th>\n",
       "      <th>WAP003</th>\n",
       "      <th>WAP004</th>\n",
       "      <th>WAP005</th>\n",
       "      <th>WAP006</th>\n",
       "      <th>WAP007</th>\n",
       "      <th>WAP008</th>\n",
       "      <th>WAP009</th>\n",
       "      <th>WAP010</th>\n",
       "      <th>...</th>\n",
       "      <th>WAP520</th>\n",
       "      <th>LONGITUDE</th>\n",
       "      <th>LATITUDE</th>\n",
       "      <th>FLOOR</th>\n",
       "      <th>BUILDINGID</th>\n",
       "      <th>SPACEID</th>\n",
       "      <th>RELATIVEPOSITION</th>\n",
       "      <th>USERID</th>\n",
       "      <th>PHONEID</th>\n",
       "      <th>TIMESTAMP</th>\n",
       "    </tr>\n",
       "  </thead>\n",
       "  <tbody>\n",
       "    <tr>\n",
       "      <th>count</th>\n",
       "      <td>19937.000000</td>\n",
       "      <td>19937.000000</td>\n",
       "      <td>19937.0</td>\n",
       "      <td>19937.0</td>\n",
       "      <td>19937.000000</td>\n",
       "      <td>19937.000000</td>\n",
       "      <td>19937.000000</td>\n",
       "      <td>19937.000000</td>\n",
       "      <td>19937.000000</td>\n",
       "      <td>19937.000000</td>\n",
       "      <td>...</td>\n",
       "      <td>19937.0</td>\n",
       "      <td>19937.000000</td>\n",
       "      <td>1.993700e+04</td>\n",
       "      <td>19937.000000</td>\n",
       "      <td>19937.000000</td>\n",
       "      <td>19937.000000</td>\n",
       "      <td>19937.000000</td>\n",
       "      <td>19937.000000</td>\n",
       "      <td>19937.000000</td>\n",
       "      <td>1.993700e+04</td>\n",
       "    </tr>\n",
       "    <tr>\n",
       "      <th>mean</th>\n",
       "      <td>99.823644</td>\n",
       "      <td>99.820936</td>\n",
       "      <td>100.0</td>\n",
       "      <td>100.0</td>\n",
       "      <td>99.613733</td>\n",
       "      <td>97.130461</td>\n",
       "      <td>94.733661</td>\n",
       "      <td>93.820234</td>\n",
       "      <td>94.693936</td>\n",
       "      <td>99.163766</td>\n",
       "      <td>...</td>\n",
       "      <td>100.0</td>\n",
       "      <td>-7464.275947</td>\n",
       "      <td>4.864871e+06</td>\n",
       "      <td>1.674575</td>\n",
       "      <td>1.212820</td>\n",
       "      <td>148.429954</td>\n",
       "      <td>1.833024</td>\n",
       "      <td>9.068014</td>\n",
       "      <td>13.021869</td>\n",
       "      <td>1.371421e+09</td>\n",
       "    </tr>\n",
       "    <tr>\n",
       "      <th>std</th>\n",
       "      <td>5.866842</td>\n",
       "      <td>5.798156</td>\n",
       "      <td>0.0</td>\n",
       "      <td>0.0</td>\n",
       "      <td>8.615657</td>\n",
       "      <td>22.931890</td>\n",
       "      <td>30.541335</td>\n",
       "      <td>33.010404</td>\n",
       "      <td>30.305084</td>\n",
       "      <td>12.634045</td>\n",
       "      <td>...</td>\n",
       "      <td>0.0</td>\n",
       "      <td>123.402010</td>\n",
       "      <td>6.693318e+01</td>\n",
       "      <td>1.223078</td>\n",
       "      <td>0.833139</td>\n",
       "      <td>58.342106</td>\n",
       "      <td>0.372964</td>\n",
       "      <td>4.988720</td>\n",
       "      <td>5.362410</td>\n",
       "      <td>5.572054e+05</td>\n",
       "    </tr>\n",
       "    <tr>\n",
       "      <th>min</th>\n",
       "      <td>-97.000000</td>\n",
       "      <td>-90.000000</td>\n",
       "      <td>100.0</td>\n",
       "      <td>100.0</td>\n",
       "      <td>-97.000000</td>\n",
       "      <td>-98.000000</td>\n",
       "      <td>-99.000000</td>\n",
       "      <td>-98.000000</td>\n",
       "      <td>-98.000000</td>\n",
       "      <td>-99.000000</td>\n",
       "      <td>...</td>\n",
       "      <td>100.0</td>\n",
       "      <td>-7691.338400</td>\n",
       "      <td>4.864746e+06</td>\n",
       "      <td>0.000000</td>\n",
       "      <td>0.000000</td>\n",
       "      <td>1.000000</td>\n",
       "      <td>1.000000</td>\n",
       "      <td>1.000000</td>\n",
       "      <td>1.000000</td>\n",
       "      <td>1.369909e+09</td>\n",
       "    </tr>\n",
       "    <tr>\n",
       "      <th>25%</th>\n",
       "      <td>100.000000</td>\n",
       "      <td>100.000000</td>\n",
       "      <td>100.0</td>\n",
       "      <td>100.0</td>\n",
       "      <td>100.000000</td>\n",
       "      <td>100.000000</td>\n",
       "      <td>100.000000</td>\n",
       "      <td>100.000000</td>\n",
       "      <td>100.000000</td>\n",
       "      <td>100.000000</td>\n",
       "      <td>...</td>\n",
       "      <td>100.0</td>\n",
       "      <td>-7594.737000</td>\n",
       "      <td>4.864821e+06</td>\n",
       "      <td>1.000000</td>\n",
       "      <td>0.000000</td>\n",
       "      <td>110.000000</td>\n",
       "      <td>2.000000</td>\n",
       "      <td>5.000000</td>\n",
       "      <td>8.000000</td>\n",
       "      <td>1.371056e+09</td>\n",
       "    </tr>\n",
       "    <tr>\n",
       "      <th>50%</th>\n",
       "      <td>100.000000</td>\n",
       "      <td>100.000000</td>\n",
       "      <td>100.0</td>\n",
       "      <td>100.0</td>\n",
       "      <td>100.000000</td>\n",
       "      <td>100.000000</td>\n",
       "      <td>100.000000</td>\n",
       "      <td>100.000000</td>\n",
       "      <td>100.000000</td>\n",
       "      <td>100.000000</td>\n",
       "      <td>...</td>\n",
       "      <td>100.0</td>\n",
       "      <td>-7423.060900</td>\n",
       "      <td>4.864852e+06</td>\n",
       "      <td>2.000000</td>\n",
       "      <td>1.000000</td>\n",
       "      <td>129.000000</td>\n",
       "      <td>2.000000</td>\n",
       "      <td>11.000000</td>\n",
       "      <td>13.000000</td>\n",
       "      <td>1.371716e+09</td>\n",
       "    </tr>\n",
       "    <tr>\n",
       "      <th>75%</th>\n",
       "      <td>100.000000</td>\n",
       "      <td>100.000000</td>\n",
       "      <td>100.0</td>\n",
       "      <td>100.0</td>\n",
       "      <td>100.000000</td>\n",
       "      <td>100.000000</td>\n",
       "      <td>100.000000</td>\n",
       "      <td>100.000000</td>\n",
       "      <td>100.000000</td>\n",
       "      <td>100.000000</td>\n",
       "      <td>...</td>\n",
       "      <td>100.0</td>\n",
       "      <td>-7359.193000</td>\n",
       "      <td>4.864930e+06</td>\n",
       "      <td>3.000000</td>\n",
       "      <td>2.000000</td>\n",
       "      <td>207.000000</td>\n",
       "      <td>2.000000</td>\n",
       "      <td>13.000000</td>\n",
       "      <td>14.000000</td>\n",
       "      <td>1.371721e+09</td>\n",
       "    </tr>\n",
       "    <tr>\n",
       "      <th>max</th>\n",
       "      <td>100.000000</td>\n",
       "      <td>100.000000</td>\n",
       "      <td>100.0</td>\n",
       "      <td>100.0</td>\n",
       "      <td>100.000000</td>\n",
       "      <td>100.000000</td>\n",
       "      <td>100.000000</td>\n",
       "      <td>100.000000</td>\n",
       "      <td>100.000000</td>\n",
       "      <td>100.000000</td>\n",
       "      <td>...</td>\n",
       "      <td>100.0</td>\n",
       "      <td>-7300.818990</td>\n",
       "      <td>4.865017e+06</td>\n",
       "      <td>4.000000</td>\n",
       "      <td>2.000000</td>\n",
       "      <td>254.000000</td>\n",
       "      <td>2.000000</td>\n",
       "      <td>18.000000</td>\n",
       "      <td>24.000000</td>\n",
       "      <td>1.371738e+09</td>\n",
       "    </tr>\n",
       "  </tbody>\n",
       "</table>\n",
       "<p>8 rows × 529 columns</p>\n",
       "</div>"
      ],
      "text/plain": [
       "             WAP001        WAP002   WAP003   WAP004        WAP005  \\\n",
       "count  19937.000000  19937.000000  19937.0  19937.0  19937.000000   \n",
       "mean      99.823644     99.820936    100.0    100.0     99.613733   \n",
       "std        5.866842      5.798156      0.0      0.0      8.615657   \n",
       "min      -97.000000    -90.000000    100.0    100.0    -97.000000   \n",
       "25%      100.000000    100.000000    100.0    100.0    100.000000   \n",
       "50%      100.000000    100.000000    100.0    100.0    100.000000   \n",
       "75%      100.000000    100.000000    100.0    100.0    100.000000   \n",
       "max      100.000000    100.000000    100.0    100.0    100.000000   \n",
       "\n",
       "             WAP006        WAP007        WAP008        WAP009        WAP010  \\\n",
       "count  19937.000000  19937.000000  19937.000000  19937.000000  19937.000000   \n",
       "mean      97.130461     94.733661     93.820234     94.693936     99.163766   \n",
       "std       22.931890     30.541335     33.010404     30.305084     12.634045   \n",
       "min      -98.000000    -99.000000    -98.000000    -98.000000    -99.000000   \n",
       "25%      100.000000    100.000000    100.000000    100.000000    100.000000   \n",
       "50%      100.000000    100.000000    100.000000    100.000000    100.000000   \n",
       "75%      100.000000    100.000000    100.000000    100.000000    100.000000   \n",
       "max      100.000000    100.000000    100.000000    100.000000    100.000000   \n",
       "\n",
       "       ...   WAP520     LONGITUDE      LATITUDE         FLOOR    BUILDINGID  \\\n",
       "count  ...  19937.0  19937.000000  1.993700e+04  19937.000000  19937.000000   \n",
       "mean   ...    100.0  -7464.275947  4.864871e+06      1.674575      1.212820   \n",
       "std    ...      0.0    123.402010  6.693318e+01      1.223078      0.833139   \n",
       "min    ...    100.0  -7691.338400  4.864746e+06      0.000000      0.000000   \n",
       "25%    ...    100.0  -7594.737000  4.864821e+06      1.000000      0.000000   \n",
       "50%    ...    100.0  -7423.060900  4.864852e+06      2.000000      1.000000   \n",
       "75%    ...    100.0  -7359.193000  4.864930e+06      3.000000      2.000000   \n",
       "max    ...    100.0  -7300.818990  4.865017e+06      4.000000      2.000000   \n",
       "\n",
       "            SPACEID  RELATIVEPOSITION        USERID       PHONEID  \\\n",
       "count  19937.000000      19937.000000  19937.000000  19937.000000   \n",
       "mean     148.429954          1.833024      9.068014     13.021869   \n",
       "std       58.342106          0.372964      4.988720      5.362410   \n",
       "min        1.000000          1.000000      1.000000      1.000000   \n",
       "25%      110.000000          2.000000      5.000000      8.000000   \n",
       "50%      129.000000          2.000000     11.000000     13.000000   \n",
       "75%      207.000000          2.000000     13.000000     14.000000   \n",
       "max      254.000000          2.000000     18.000000     24.000000   \n",
       "\n",
       "          TIMESTAMP  \n",
       "count  1.993700e+04  \n",
       "mean   1.371421e+09  \n",
       "std    5.572054e+05  \n",
       "min    1.369909e+09  \n",
       "25%    1.371056e+09  \n",
       "50%    1.371716e+09  \n",
       "75%    1.371721e+09  \n",
       "max    1.371738e+09  \n",
       "\n",
       "[8 rows x 529 columns]"
      ]
     },
     "execution_count": 77,
     "metadata": {},
     "output_type": "execute_result"
    }
   ],
   "source": [
    "Tdata.describe()"
   ]
  },
  {
   "cell_type": "markdown",
   "id": "3d696377-9d9c-4e2b-b631-df4f3cebeca5",
   "metadata": {},
   "source": [
    "## get an idea of the possible WAP values\n",
    "\n",
    "Seems that the great majority of values of singal strenght is +100 (out of range), a possible way to ignore those values is replace them by a np.nan, as they are not considered in a plot.  A copy of the dataframe will be done..."
   ]
  },
  {
   "cell_type": "code",
   "execution_count": 10,
   "id": "9c385427-8975-4f9e-a194-13605d2d90e2",
   "metadata": {},
   "outputs": [],
   "source": [
    "# Take a random sample of the original dataframe and make a copy\n",
    "TdataPossibleValues = Tdata.sample(frac =.10, random_state= 200)    # .10 menans takes samples by the 10% of the dataset "
   ]
  },
  {
   "cell_type": "code",
   "execution_count": 11,
   "id": "873c7536-a8c1-4293-a8c3-1e36ffc8d01d",
   "metadata": {},
   "outputs": [],
   "source": [
    "TdataPossibleValues = TdataPossibleValues.drop(['LONGITUDE', 'LATITUDE', 'FLOOR', 'BUILDINGID', 'SPACEID',\n",
    "       'RELATIVEPOSITION', 'USERID', 'PHONEID', 'TIMESTAMP'], axis = 1)"
   ]
  },
  {
   "cell_type": "code",
   "execution_count": 12,
   "id": "cfde5125-fb11-4178-9925-3d93280e4a68",
   "metadata": {},
   "outputs": [
    {
     "data": {
      "text/html": [
       "<div>\n",
       "<style scoped>\n",
       "    .dataframe tbody tr th:only-of-type {\n",
       "        vertical-align: middle;\n",
       "    }\n",
       "\n",
       "    .dataframe tbody tr th {\n",
       "        vertical-align: top;\n",
       "    }\n",
       "\n",
       "    .dataframe thead th {\n",
       "        text-align: right;\n",
       "    }\n",
       "</style>\n",
       "<table border=\"1\" class=\"dataframe\">\n",
       "  <thead>\n",
       "    <tr style=\"text-align: right;\">\n",
       "      <th></th>\n",
       "      <th>WAP001</th>\n",
       "      <th>WAP002</th>\n",
       "      <th>WAP003</th>\n",
       "      <th>WAP004</th>\n",
       "      <th>WAP005</th>\n",
       "      <th>WAP006</th>\n",
       "      <th>WAP007</th>\n",
       "      <th>WAP008</th>\n",
       "      <th>WAP009</th>\n",
       "      <th>WAP010</th>\n",
       "      <th>...</th>\n",
       "      <th>WAP511</th>\n",
       "      <th>WAP512</th>\n",
       "      <th>WAP513</th>\n",
       "      <th>WAP514</th>\n",
       "      <th>WAP515</th>\n",
       "      <th>WAP516</th>\n",
       "      <th>WAP517</th>\n",
       "      <th>WAP518</th>\n",
       "      <th>WAP519</th>\n",
       "      <th>WAP520</th>\n",
       "    </tr>\n",
       "  </thead>\n",
       "  <tbody>\n",
       "    <tr>\n",
       "      <th>998</th>\n",
       "      <td>NaN</td>\n",
       "      <td>NaN</td>\n",
       "      <td>NaN</td>\n",
       "      <td>NaN</td>\n",
       "      <td>NaN</td>\n",
       "      <td>NaN</td>\n",
       "      <td>NaN</td>\n",
       "      <td>NaN</td>\n",
       "      <td>NaN</td>\n",
       "      <td>NaN</td>\n",
       "      <td>...</td>\n",
       "      <td>NaN</td>\n",
       "      <td>NaN</td>\n",
       "      <td>NaN</td>\n",
       "      <td>NaN</td>\n",
       "      <td>NaN</td>\n",
       "      <td>NaN</td>\n",
       "      <td>NaN</td>\n",
       "      <td>NaN</td>\n",
       "      <td>NaN</td>\n",
       "      <td>NaN</td>\n",
       "    </tr>\n",
       "    <tr>\n",
       "      <th>2013</th>\n",
       "      <td>NaN</td>\n",
       "      <td>NaN</td>\n",
       "      <td>NaN</td>\n",
       "      <td>NaN</td>\n",
       "      <td>NaN</td>\n",
       "      <td>NaN</td>\n",
       "      <td>NaN</td>\n",
       "      <td>NaN</td>\n",
       "      <td>NaN</td>\n",
       "      <td>NaN</td>\n",
       "      <td>...</td>\n",
       "      <td>NaN</td>\n",
       "      <td>NaN</td>\n",
       "      <td>NaN</td>\n",
       "      <td>NaN</td>\n",
       "      <td>NaN</td>\n",
       "      <td>NaN</td>\n",
       "      <td>NaN</td>\n",
       "      <td>NaN</td>\n",
       "      <td>NaN</td>\n",
       "      <td>NaN</td>\n",
       "    </tr>\n",
       "    <tr>\n",
       "      <th>1665</th>\n",
       "      <td>NaN</td>\n",
       "      <td>NaN</td>\n",
       "      <td>NaN</td>\n",
       "      <td>NaN</td>\n",
       "      <td>NaN</td>\n",
       "      <td>NaN</td>\n",
       "      <td>NaN</td>\n",
       "      <td>NaN</td>\n",
       "      <td>NaN</td>\n",
       "      <td>NaN</td>\n",
       "      <td>...</td>\n",
       "      <td>NaN</td>\n",
       "      <td>NaN</td>\n",
       "      <td>NaN</td>\n",
       "      <td>NaN</td>\n",
       "      <td>NaN</td>\n",
       "      <td>NaN</td>\n",
       "      <td>NaN</td>\n",
       "      <td>NaN</td>\n",
       "      <td>NaN</td>\n",
       "      <td>NaN</td>\n",
       "    </tr>\n",
       "    <tr>\n",
       "      <th>6188</th>\n",
       "      <td>NaN</td>\n",
       "      <td>NaN</td>\n",
       "      <td>NaN</td>\n",
       "      <td>NaN</td>\n",
       "      <td>NaN</td>\n",
       "      <td>NaN</td>\n",
       "      <td>NaN</td>\n",
       "      <td>NaN</td>\n",
       "      <td>NaN</td>\n",
       "      <td>NaN</td>\n",
       "      <td>...</td>\n",
       "      <td>NaN</td>\n",
       "      <td>NaN</td>\n",
       "      <td>NaN</td>\n",
       "      <td>NaN</td>\n",
       "      <td>NaN</td>\n",
       "      <td>-83.0</td>\n",
       "      <td>-85.0</td>\n",
       "      <td>NaN</td>\n",
       "      <td>NaN</td>\n",
       "      <td>NaN</td>\n",
       "    </tr>\n",
       "    <tr>\n",
       "      <th>2671</th>\n",
       "      <td>NaN</td>\n",
       "      <td>NaN</td>\n",
       "      <td>NaN</td>\n",
       "      <td>NaN</td>\n",
       "      <td>NaN</td>\n",
       "      <td>NaN</td>\n",
       "      <td>NaN</td>\n",
       "      <td>NaN</td>\n",
       "      <td>NaN</td>\n",
       "      <td>NaN</td>\n",
       "      <td>...</td>\n",
       "      <td>NaN</td>\n",
       "      <td>NaN</td>\n",
       "      <td>NaN</td>\n",
       "      <td>NaN</td>\n",
       "      <td>NaN</td>\n",
       "      <td>NaN</td>\n",
       "      <td>NaN</td>\n",
       "      <td>NaN</td>\n",
       "      <td>NaN</td>\n",
       "      <td>NaN</td>\n",
       "    </tr>\n",
       "  </tbody>\n",
       "</table>\n",
       "<p>5 rows × 520 columns</p>\n",
       "</div>"
      ],
      "text/plain": [
       "      WAP001  WAP002  WAP003  WAP004  WAP005  WAP006  WAP007  WAP008  WAP009  \\\n",
       "998      NaN     NaN     NaN     NaN     NaN     NaN     NaN     NaN     NaN   \n",
       "2013     NaN     NaN     NaN     NaN     NaN     NaN     NaN     NaN     NaN   \n",
       "1665     NaN     NaN     NaN     NaN     NaN     NaN     NaN     NaN     NaN   \n",
       "6188     NaN     NaN     NaN     NaN     NaN     NaN     NaN     NaN     NaN   \n",
       "2671     NaN     NaN     NaN     NaN     NaN     NaN     NaN     NaN     NaN   \n",
       "\n",
       "      WAP010  ...  WAP511  WAP512  WAP513  WAP514  WAP515  WAP516  WAP517  \\\n",
       "998      NaN  ...     NaN     NaN     NaN     NaN     NaN     NaN     NaN   \n",
       "2013     NaN  ...     NaN     NaN     NaN     NaN     NaN     NaN     NaN   \n",
       "1665     NaN  ...     NaN     NaN     NaN     NaN     NaN     NaN     NaN   \n",
       "6188     NaN  ...     NaN     NaN     NaN     NaN     NaN   -83.0   -85.0   \n",
       "2671     NaN  ...     NaN     NaN     NaN     NaN     NaN     NaN     NaN   \n",
       "\n",
       "      WAP518  WAP519  WAP520  \n",
       "998      NaN     NaN     NaN  \n",
       "2013     NaN     NaN     NaN  \n",
       "1665     NaN     NaN     NaN  \n",
       "6188     NaN     NaN     NaN  \n",
       "2671     NaN     NaN     NaN  \n",
       "\n",
       "[5 rows x 520 columns]"
      ]
     },
     "execution_count": 12,
     "metadata": {},
     "output_type": "execute_result"
    }
   ],
   "source": [
    "TdataPossibleValues = TdataPossibleValues.replace([100],np.nan)\n",
    "TdataPossibleValues.head()"
   ]
  },
  {
   "cell_type": "code",
   "execution_count": 13,
   "id": "3a63f8f8-34ce-4409-9848-038ff3672e0a",
   "metadata": {},
   "outputs": [
    {
     "name": "stderr",
     "output_type": "stream",
     "text": [
      "/home/ale/anaconda3/lib/python3.8/site-packages/matplotlib/axes/_axes.py:6623: RuntimeWarning: All-NaN slice encountered\n",
      "  xmin = min(xmin, np.nanmin(xi))\n",
      "/home/ale/anaconda3/lib/python3.8/site-packages/matplotlib/axes/_axes.py:6624: RuntimeWarning: All-NaN slice encountered\n",
      "  xmax = max(xmax, np.nanmax(xi))\n"
     ]
    },
    {
     "data": {
      "image/png": "[encoded data removed]",
      "text/plain": [
       "<Figure size 432x288 with 1 Axes>"
      ]
     },
     "metadata": {
      "needs_background": "light"
     },
     "output_type": "display_data"
    }
   ],
   "source": [
    "plt.hist(TdataPossibleValues, bins = 10)\n",
    "plt.show();"
   ]
  },
  {
   "cell_type": "markdown",
   "id": "e53d7a66-48f5-4541-abbc-b15eb52fb345",
   "metadata": {},
   "source": [
    "a bit of zoom always help"
   ]
  },
  {
   "cell_type": "code",
   "execution_count": 14,
   "id": "2fd43589-f79c-4133-8066-1c762ed925f7",
   "metadata": {},
   "outputs": [
    {
     "data": {
      "image/png": "[encoded data removed]",
      "text/plain": [
       "<Figure size 432x288 with 1 Axes>"
      ]
     },
     "metadata": {
      "needs_background": "light"
     },
     "output_type": "display_data"
    }
   ],
   "source": [
    "plt.hist(TdataPossibleValues, bins = 10)\n",
    "plt.xlim(-100,-60)\n",
    "plt.show;"
   ]
  },
  {
   "cell_type": "markdown",
   "id": "a7052916-009f-4267-bdcf-07cbade96473",
   "metadata": {},
   "source": [
    "it's not a randomized sample, just the first 100 hundred rows, but we can get an idea that the most possiblle values are arround -90dB. "
   ]
  },
  {
   "cell_type": "markdown",
   "id": "0062c919-96f4-4b7f-afd9-3263613d57b5",
   "metadata": {},
   "source": [
    "## OUTPUT VARIABLES\n",
    "the main objective of the project is to use signal strenght to guess the location of the cellphones. \n",
    "\n",
    "So our outputs are the location variables: \n",
    "- **FLOOR, BUILDING, LAT, LONG**. "
   ]
  },
  {
   "cell_type": "markdown",
   "id": "7cb146e0-e029-4475-b14f-97dde900f467",
   "metadata": {},
   "source": [
    "### FLOOR"
   ]
  },
  {
   "cell_type": "code",
   "execution_count": 78,
   "id": "0169f845-70e8-443f-92d6-9dd9284e6366",
   "metadata": {},
   "outputs": [
    {
     "data": {
      "image/png": "[encoded data removed]",
      "text/plain": [
       "<Figure size 432x288 with 1 Axes>"
      ]
     },
     "metadata": {
      "needs_background": "light"
     },
     "output_type": "display_data"
    }
   ],
   "source": [
    "# use plt.bar instead of plt.hist because it can use align='center'. Also removes the float values from the Xaxis\n",
    "labels, counts = np.unique(Tdata['FLOOR'], return_counts=True)\n",
    "\n",
    "plt.bar(labels, counts, align='center')\n",
    "plt.gca().set_xticks(labels)\n",
    "\n",
    "plt.show()"
   ]
  },
  {
   "cell_type": "markdown",
   "id": "2cb04ca4-abcc-4f0f-8826-042185fd47e1",
   "metadata": {},
   "source": [
    "- Umbalanced data, there are a lot of datapoints from FLOORS 0 to 3, and only a few of 4. \n",
    "- Perhaps this happends because not all the building have 4 floors. In fact, only BuildingID = 2 has 4 floors. "
   ]
  },
  {
   "cell_type": "markdown",
   "id": "0f9f6d47-dc85-4d98-8321-e008b1e0b4fc",
   "metadata": {},
   "source": [
    "### BUILDING ID"
   ]
  },
  {
   "cell_type": "code",
   "execution_count": 79,
   "id": "559b3919-9025-4303-985d-c3f33453954c",
   "metadata": {},
   "outputs": [
    {
     "data": {
      "image/png": "[encoded data removed]",
      "text/plain": [
       "<Figure size 432x288 with 1 Axes>"
      ]
     },
     "metadata": {
      "needs_background": "light"
     },
     "output_type": "display_data"
    }
   ],
   "source": [
    "labels, counts = np.unique(Tdata[\"BUILDINGID\"], return_counts=True)\n",
    "\n",
    "plt.bar(labels, counts, align='center')\n",
    "plt.gca().set_xticks(labels)\n",
    "\n",
    "plt.show()"
   ]
  },
  {
   "cell_type": "markdown",
   "id": "bed65dfc-e469-4fcb-bb65-7d1640d62aac",
   "metadata": {},
   "source": [
    "- again, quite umbalanced data. Most of data comes from the BuildingID = 2"
   ]
  },
  {
   "cell_type": "code",
   "execution_count": 75,
   "id": "6df01cd3-771b-481a-967a-a3b4a1dd8191",
   "metadata": {},
   "outputs": [
    {
     "data": {
      "image/png": "[encoded data removed]",
      "text/plain": [
       "<Figure size 432x432 with 3 Axes>"
      ]
     },
     "metadata": {
      "needs_background": "light"
     },
     "output_type": "display_data"
    }
   ],
   "source": [
    "# Custom the inside plot: options are: “scatter” | “reg” | “resid” | “kde” | “hex”\n",
    "sns.jointplot(x=Tdata['FLOOR'], y=Tdata['BUILDINGID'], kind='hex')\n",
    "\n",
    "plt.show()"
   ]
  },
  {
   "cell_type": "markdown",
   "id": "e5229e5b-c21b-4224-a04a-c18dda604c7a",
   "metadata": {},
   "source": [
    "it's interesting to combine Floor/Building.\n",
    "- most of data was collected from buildingID=2. and this is the only one with 4 floors. "
   ]
  },
  {
   "cell_type": "markdown",
   "id": "a3691941-fc90-401e-8bf1-7fb8c2960c4e",
   "metadata": {},
   "source": [
    "### LATITUDE AND LONGITUDE"
   ]
  },
  {
   "cell_type": "code",
   "execution_count": 17,
   "id": "bdbca35c-dbe0-476b-bc72-37227c2f8bb1",
   "metadata": {},
   "outputs": [
    {
     "data": {
      "image/png": "[encoded data removed]",
      "text/plain": [
       "<Figure size 432x288 with 1 Axes>"
      ]
     },
     "metadata": {
      "needs_background": "light"
     },
     "output_type": "display_data"
    }
   ],
   "source": [
    "plt.hist(Tdata[\"LONGITUDE\"], bins = 100)\n",
    "plt.show()"
   ]
  },
  {
   "cell_type": "code",
   "execution_count": 18,
   "id": "54117166-0e03-41a2-a6c5-70f95b8c61a2",
   "metadata": {},
   "outputs": [
    {
     "data": {
      "image/png": "[encoded data removed]",
      "text/plain": [
       "<Figure size 432x288 with 1 Axes>"
      ]
     },
     "metadata": {
      "needs_background": "light"
     },
     "output_type": "display_data"
    }
   ],
   "source": [
    "plt.hist(Tdata[\"LATITUDE\"], bins = 50)\n",
    "plt.show()"
   ]
  },
  {
   "cell_type": "markdown",
   "id": "3ba62f5c-c340-4bfb-81b1-7a3a88dff16e",
   "metadata": {},
   "source": [
    "### Dummify\n",
    "\n",
    "we dummify categorical features. But we **convert to binary values only the categorical features we want to use as predictors**. "
   ]
  },
  {
   "cell_type": "markdown",
   "id": "a509bc4c-9bff-4dfc-9928-d1b231a56c76",
   "metadata": {},
   "source": [
    "# Cascade Model\n",
    "\n",
    "Also remember the cascade model thing. Predict first one thing, then another, then another etc.. in every iteration we add the features we want to predict. "
   ]
  },
  {
   "cell_type": "markdown",
   "id": "c4624cd8-2627-4773-9043-62ed30f43909",
   "metadata": {},
   "source": [
    "Steps\n",
    "1. remove uselsss features\n",
    "2. dummify\n",
    "3. sample to iterate, but just to trial error \n",
    "4. divide train/test\n",
    "5. apply the model\n",
    "6. performace metrics"
   ]
  },
  {
   "cell_type": "markdown",
   "id": "215400a8-d679-4531-b4f0-cdd317606c2c",
   "metadata": {
    "tags": []
   },
   "source": [
    "# 1. Predict Building\n",
    "\n",
    "start by predicting the building beacuse it's the easiest one, just 3 possibilities: 0, 1, 2. \n",
    "\n",
    "- Predictors: all the WAP Features\n",
    "- Predicted: BUILDINGid"
   ]
  },
  {
   "cell_type": "markdown",
   "id": "dbb8f5e7-d732-4149-9d31-c667aa30c190",
   "metadata": {},
   "source": [
    "## 1.1 Keep Usefull features"
   ]
  },
  {
   "cell_type": "code",
   "execution_count": 19,
   "id": "2989eabc-5c96-4775-91f9-63fac1206b6d",
   "metadata": {},
   "outputs": [
    {
     "data": {
      "text/html": [
       "<div>\n",
       "<style scoped>\n",
       "    .dataframe tbody tr th:only-of-type {\n",
       "        vertical-align: middle;\n",
       "    }\n",
       "\n",
       "    .dataframe tbody tr th {\n",
       "        vertical-align: top;\n",
       "    }\n",
       "\n",
       "    .dataframe thead th {\n",
       "        text-align: right;\n",
       "    }\n",
       "</style>\n",
       "<table border=\"1\" class=\"dataframe\">\n",
       "  <thead>\n",
       "    <tr style=\"text-align: right;\">\n",
       "      <th></th>\n",
       "      <th>WAP001</th>\n",
       "      <th>WAP002</th>\n",
       "      <th>WAP003</th>\n",
       "      <th>WAP004</th>\n",
       "      <th>WAP005</th>\n",
       "      <th>WAP006</th>\n",
       "      <th>WAP007</th>\n",
       "      <th>WAP008</th>\n",
       "      <th>WAP009</th>\n",
       "      <th>WAP010</th>\n",
       "      <th>...</th>\n",
       "      <th>WAP512</th>\n",
       "      <th>WAP513</th>\n",
       "      <th>WAP514</th>\n",
       "      <th>WAP515</th>\n",
       "      <th>WAP516</th>\n",
       "      <th>WAP517</th>\n",
       "      <th>WAP518</th>\n",
       "      <th>WAP519</th>\n",
       "      <th>WAP520</th>\n",
       "      <th>BUILDINGID</th>\n",
       "    </tr>\n",
       "  </thead>\n",
       "  <tbody>\n",
       "    <tr>\n",
       "      <th>0</th>\n",
       "      <td>100</td>\n",
       "      <td>100</td>\n",
       "      <td>100</td>\n",
       "      <td>100</td>\n",
       "      <td>100</td>\n",
       "      <td>100</td>\n",
       "      <td>100</td>\n",
       "      <td>100</td>\n",
       "      <td>100</td>\n",
       "      <td>100</td>\n",
       "      <td>...</td>\n",
       "      <td>100</td>\n",
       "      <td>100</td>\n",
       "      <td>100</td>\n",
       "      <td>100</td>\n",
       "      <td>100</td>\n",
       "      <td>100</td>\n",
       "      <td>100</td>\n",
       "      <td>100</td>\n",
       "      <td>100</td>\n",
       "      <td>1</td>\n",
       "    </tr>\n",
       "    <tr>\n",
       "      <th>1</th>\n",
       "      <td>100</td>\n",
       "      <td>100</td>\n",
       "      <td>100</td>\n",
       "      <td>100</td>\n",
       "      <td>100</td>\n",
       "      <td>100</td>\n",
       "      <td>100</td>\n",
       "      <td>100</td>\n",
       "      <td>100</td>\n",
       "      <td>100</td>\n",
       "      <td>...</td>\n",
       "      <td>100</td>\n",
       "      <td>100</td>\n",
       "      <td>100</td>\n",
       "      <td>100</td>\n",
       "      <td>100</td>\n",
       "      <td>100</td>\n",
       "      <td>100</td>\n",
       "      <td>100</td>\n",
       "      <td>100</td>\n",
       "      <td>1</td>\n",
       "    </tr>\n",
       "    <tr>\n",
       "      <th>2</th>\n",
       "      <td>100</td>\n",
       "      <td>100</td>\n",
       "      <td>100</td>\n",
       "      <td>100</td>\n",
       "      <td>100</td>\n",
       "      <td>100</td>\n",
       "      <td>100</td>\n",
       "      <td>-97</td>\n",
       "      <td>100</td>\n",
       "      <td>100</td>\n",
       "      <td>...</td>\n",
       "      <td>100</td>\n",
       "      <td>100</td>\n",
       "      <td>100</td>\n",
       "      <td>100</td>\n",
       "      <td>100</td>\n",
       "      <td>100</td>\n",
       "      <td>100</td>\n",
       "      <td>100</td>\n",
       "      <td>100</td>\n",
       "      <td>1</td>\n",
       "    </tr>\n",
       "    <tr>\n",
       "      <th>3</th>\n",
       "      <td>100</td>\n",
       "      <td>100</td>\n",
       "      <td>100</td>\n",
       "      <td>100</td>\n",
       "      <td>100</td>\n",
       "      <td>100</td>\n",
       "      <td>100</td>\n",
       "      <td>100</td>\n",
       "      <td>100</td>\n",
       "      <td>100</td>\n",
       "      <td>...</td>\n",
       "      <td>100</td>\n",
       "      <td>100</td>\n",
       "      <td>100</td>\n",
       "      <td>100</td>\n",
       "      <td>100</td>\n",
       "      <td>100</td>\n",
       "      <td>100</td>\n",
       "      <td>100</td>\n",
       "      <td>100</td>\n",
       "      <td>1</td>\n",
       "    </tr>\n",
       "    <tr>\n",
       "      <th>4</th>\n",
       "      <td>100</td>\n",
       "      <td>100</td>\n",
       "      <td>100</td>\n",
       "      <td>100</td>\n",
       "      <td>100</td>\n",
       "      <td>100</td>\n",
       "      <td>100</td>\n",
       "      <td>100</td>\n",
       "      <td>100</td>\n",
       "      <td>100</td>\n",
       "      <td>...</td>\n",
       "      <td>100</td>\n",
       "      <td>100</td>\n",
       "      <td>100</td>\n",
       "      <td>100</td>\n",
       "      <td>100</td>\n",
       "      <td>100</td>\n",
       "      <td>100</td>\n",
       "      <td>100</td>\n",
       "      <td>100</td>\n",
       "      <td>0</td>\n",
       "    </tr>\n",
       "  </tbody>\n",
       "</table>\n",
       "<p>5 rows × 521 columns</p>\n",
       "</div>"
      ],
      "text/plain": [
       "   WAP001  WAP002  WAP003  WAP004  WAP005  WAP006  WAP007  WAP008  WAP009  \\\n",
       "0     100     100     100     100     100     100     100     100     100   \n",
       "1     100     100     100     100     100     100     100     100     100   \n",
       "2     100     100     100     100     100     100     100     -97     100   \n",
       "3     100     100     100     100     100     100     100     100     100   \n",
       "4     100     100     100     100     100     100     100     100     100   \n",
       "\n",
       "   WAP010  ...  WAP512  WAP513  WAP514  WAP515  WAP516  WAP517  WAP518  \\\n",
       "0     100  ...     100     100     100     100     100     100     100   \n",
       "1     100  ...     100     100     100     100     100     100     100   \n",
       "2     100  ...     100     100     100     100     100     100     100   \n",
       "3     100  ...     100     100     100     100     100     100     100   \n",
       "4     100  ...     100     100     100     100     100     100     100   \n",
       "\n",
       "   WAP519  WAP520  BUILDINGID  \n",
       "0     100     100           1  \n",
       "1     100     100           1  \n",
       "2     100     100           1  \n",
       "3     100     100           1  \n",
       "4     100     100           0  \n",
       "\n",
       "[5 rows x 521 columns]"
      ]
     },
     "execution_count": 19,
     "metadata": {},
     "output_type": "execute_result"
    }
   ],
   "source": [
    "# make a copy of the dataset, keeping only the predictor/predicted features\n",
    "Tdata_Building = Tdata.drop(columns = ['LONGITUDE', 'LATITUDE', 'FLOOR', 'SPACEID','RELATIVEPOSITION', 'USERID', 'PHONEID', 'TIMESTAMP'])\n",
    "\n",
    "Tdata_Building.head()"
   ]
  },
  {
   "cell_type": "markdown",
   "id": "4242d505-8387-4e5c-8fab-aa5cbd9d27e7",
   "metadata": {},
   "source": [
    "## 1.2 Dummify\n",
    "\n",
    "In this case it's not needed, because i'm using all numerical variables to predict a categorical variable. "
   ]
  },
  {
   "cell_type": "markdown",
   "id": "44a9bf7e-e7cc-4407-aaac-ca9685d29bbe",
   "metadata": {},
   "source": [
    "## 1.3 Sample Data\n",
    "\n",
    "As there is a lot of data, is a good idea to fail faster with a reduced proportion of the data"
   ]
  },
  {
   "cell_type": "code",
   "execution_count": 20,
   "id": "375a357b-3509-406a-bb46-618b49945d63",
   "metadata": {},
   "outputs": [],
   "source": [
    "sample =  Tdata_Building"
   ]
  },
  {
   "cell_type": "code",
   "execution_count": 21,
   "id": "776451e9-1e43-472b-8645-ff0b98b6e6aa",
   "metadata": {},
   "outputs": [
    {
     "name": "stdout",
     "output_type": "stream",
     "text": [
      "Len of the DF :8972\n"
     ]
    }
   ],
   "source": [
    "Tdata_Building = sample.sample(frac =.45, random_state= 200)\n",
    "\n",
    "print(\"Len of the DF :\" + str(len(Tdata_Building)))\n",
    "\n",
    "#Tdata_Building.head()"
   ]
  },
  {
   "cell_type": "markdown",
   "id": "6b4c1557-7faa-41bd-9f89-cea88c4869d2",
   "metadata": {},
   "source": [
    "## 1.4 X/y Split"
   ]
  },
  {
   "cell_type": "code",
   "execution_count": 22,
   "id": "70ccd97c-ea50-44b3-a374-5cef9adc8178",
   "metadata": {},
   "outputs": [
    {
     "data": {
      "text/html": [
       "<div>\n",
       "<style scoped>\n",
       "    .dataframe tbody tr th:only-of-type {\n",
       "        vertical-align: middle;\n",
       "    }\n",
       "\n",
       "    .dataframe tbody tr th {\n",
       "        vertical-align: top;\n",
       "    }\n",
       "\n",
       "    .dataframe thead th {\n",
       "        text-align: right;\n",
       "    }\n",
       "</style>\n",
       "<table border=\"1\" class=\"dataframe\">\n",
       "  <thead>\n",
       "    <tr style=\"text-align: right;\">\n",
       "      <th></th>\n",
       "      <th>WAP001</th>\n",
       "      <th>WAP002</th>\n",
       "      <th>WAP003</th>\n",
       "      <th>WAP004</th>\n",
       "      <th>WAP005</th>\n",
       "      <th>WAP006</th>\n",
       "      <th>WAP007</th>\n",
       "      <th>WAP008</th>\n",
       "      <th>WAP009</th>\n",
       "      <th>WAP010</th>\n",
       "      <th>...</th>\n",
       "      <th>WAP511</th>\n",
       "      <th>WAP512</th>\n",
       "      <th>WAP513</th>\n",
       "      <th>WAP514</th>\n",
       "      <th>WAP515</th>\n",
       "      <th>WAP516</th>\n",
       "      <th>WAP517</th>\n",
       "      <th>WAP518</th>\n",
       "      <th>WAP519</th>\n",
       "      <th>WAP520</th>\n",
       "    </tr>\n",
       "  </thead>\n",
       "  <tbody>\n",
       "    <tr>\n",
       "      <th>998</th>\n",
       "      <td>100</td>\n",
       "      <td>100</td>\n",
       "      <td>100</td>\n",
       "      <td>100</td>\n",
       "      <td>100</td>\n",
       "      <td>100</td>\n",
       "      <td>100</td>\n",
       "      <td>100</td>\n",
       "      <td>100</td>\n",
       "      <td>100</td>\n",
       "      <td>...</td>\n",
       "      <td>100</td>\n",
       "      <td>100</td>\n",
       "      <td>100</td>\n",
       "      <td>100</td>\n",
       "      <td>100</td>\n",
       "      <td>100</td>\n",
       "      <td>100</td>\n",
       "      <td>100</td>\n",
       "      <td>100</td>\n",
       "      <td>100</td>\n",
       "    </tr>\n",
       "    <tr>\n",
       "      <th>2013</th>\n",
       "      <td>100</td>\n",
       "      <td>100</td>\n",
       "      <td>100</td>\n",
       "      <td>100</td>\n",
       "      <td>100</td>\n",
       "      <td>100</td>\n",
       "      <td>100</td>\n",
       "      <td>100</td>\n",
       "      <td>100</td>\n",
       "      <td>100</td>\n",
       "      <td>...</td>\n",
       "      <td>100</td>\n",
       "      <td>100</td>\n",
       "      <td>100</td>\n",
       "      <td>100</td>\n",
       "      <td>100</td>\n",
       "      <td>100</td>\n",
       "      <td>100</td>\n",
       "      <td>100</td>\n",
       "      <td>100</td>\n",
       "      <td>100</td>\n",
       "    </tr>\n",
       "    <tr>\n",
       "      <th>1665</th>\n",
       "      <td>100</td>\n",
       "      <td>100</td>\n",
       "      <td>100</td>\n",
       "      <td>100</td>\n",
       "      <td>100</td>\n",
       "      <td>100</td>\n",
       "      <td>100</td>\n",
       "      <td>100</td>\n",
       "      <td>100</td>\n",
       "      <td>100</td>\n",
       "      <td>...</td>\n",
       "      <td>100</td>\n",
       "      <td>100</td>\n",
       "      <td>100</td>\n",
       "      <td>100</td>\n",
       "      <td>100</td>\n",
       "      <td>100</td>\n",
       "      <td>100</td>\n",
       "      <td>100</td>\n",
       "      <td>100</td>\n",
       "      <td>100</td>\n",
       "    </tr>\n",
       "    <tr>\n",
       "      <th>6188</th>\n",
       "      <td>100</td>\n",
       "      <td>100</td>\n",
       "      <td>100</td>\n",
       "      <td>100</td>\n",
       "      <td>100</td>\n",
       "      <td>100</td>\n",
       "      <td>100</td>\n",
       "      <td>100</td>\n",
       "      <td>100</td>\n",
       "      <td>100</td>\n",
       "      <td>...</td>\n",
       "      <td>100</td>\n",
       "      <td>100</td>\n",
       "      <td>100</td>\n",
       "      <td>100</td>\n",
       "      <td>100</td>\n",
       "      <td>-83</td>\n",
       "      <td>-85</td>\n",
       "      <td>100</td>\n",
       "      <td>100</td>\n",
       "      <td>100</td>\n",
       "    </tr>\n",
       "    <tr>\n",
       "      <th>2671</th>\n",
       "      <td>100</td>\n",
       "      <td>100</td>\n",
       "      <td>100</td>\n",
       "      <td>100</td>\n",
       "      <td>100</td>\n",
       "      <td>100</td>\n",
       "      <td>100</td>\n",
       "      <td>100</td>\n",
       "      <td>100</td>\n",
       "      <td>100</td>\n",
       "      <td>...</td>\n",
       "      <td>100</td>\n",
       "      <td>100</td>\n",
       "      <td>100</td>\n",
       "      <td>100</td>\n",
       "      <td>100</td>\n",
       "      <td>100</td>\n",
       "      <td>100</td>\n",
       "      <td>100</td>\n",
       "      <td>100</td>\n",
       "      <td>100</td>\n",
       "    </tr>\n",
       "  </tbody>\n",
       "</table>\n",
       "<p>5 rows × 520 columns</p>\n",
       "</div>"
      ],
      "text/plain": [
       "      WAP001  WAP002  WAP003  WAP004  WAP005  WAP006  WAP007  WAP008  WAP009  \\\n",
       "998      100     100     100     100     100     100     100     100     100   \n",
       "2013     100     100     100     100     100     100     100     100     100   \n",
       "1665     100     100     100     100     100     100     100     100     100   \n",
       "6188     100     100     100     100     100     100     100     100     100   \n",
       "2671     100     100     100     100     100     100     100     100     100   \n",
       "\n",
       "      WAP010  ...  WAP511  WAP512  WAP513  WAP514  WAP515  WAP516  WAP517  \\\n",
       "998      100  ...     100     100     100     100     100     100     100   \n",
       "2013     100  ...     100     100     100     100     100     100     100   \n",
       "1665     100  ...     100     100     100     100     100     100     100   \n",
       "6188     100  ...     100     100     100     100     100     -83     -85   \n",
       "2671     100  ...     100     100     100     100     100     100     100   \n",
       "\n",
       "      WAP518  WAP519  WAP520  \n",
       "998      100     100     100  \n",
       "2013     100     100     100  \n",
       "1665     100     100     100  \n",
       "6188     100     100     100  \n",
       "2671     100     100     100  \n",
       "\n",
       "[5 rows x 520 columns]"
      ]
     },
     "execution_count": 22,
     "metadata": {},
     "output_type": "execute_result"
    }
   ],
   "source": [
    "X_building = Tdata_Building.iloc[:,0:520]\n",
    "y_building = Tdata_Building.iloc[:,520:521]\n",
    "\n",
    "X_building.head() # check predictors"
   ]
  },
  {
   "cell_type": "code",
   "execution_count": 23,
   "id": "7d738baa-369a-4525-84c8-88bd3cd9ccd1",
   "metadata": {},
   "outputs": [
    {
     "data": {
      "text/html": [
       "<div>\n",
       "<style scoped>\n",
       "    .dataframe tbody tr th:only-of-type {\n",
       "        vertical-align: middle;\n",
       "    }\n",
       "\n",
       "    .dataframe tbody tr th {\n",
       "        vertical-align: top;\n",
       "    }\n",
       "\n",
       "    .dataframe thead th {\n",
       "        text-align: right;\n",
       "    }\n",
       "</style>\n",
       "<table border=\"1\" class=\"dataframe\">\n",
       "  <thead>\n",
       "    <tr style=\"text-align: right;\">\n",
       "      <th></th>\n",
       "      <th>BUILDINGID</th>\n",
       "    </tr>\n",
       "  </thead>\n",
       "  <tbody>\n",
       "    <tr>\n",
       "      <th>998</th>\n",
       "      <td>1</td>\n",
       "    </tr>\n",
       "    <tr>\n",
       "      <th>2013</th>\n",
       "      <td>2</td>\n",
       "    </tr>\n",
       "    <tr>\n",
       "      <th>1665</th>\n",
       "      <td>2</td>\n",
       "    </tr>\n",
       "    <tr>\n",
       "      <th>6188</th>\n",
       "      <td>2</td>\n",
       "    </tr>\n",
       "    <tr>\n",
       "      <th>2671</th>\n",
       "      <td>2</td>\n",
       "    </tr>\n",
       "  </tbody>\n",
       "</table>\n",
       "</div>"
      ],
      "text/plain": [
       "      BUILDINGID\n",
       "998            1\n",
       "2013           2\n",
       "1665           2\n",
       "6188           2\n",
       "2671           2"
      ]
     },
     "execution_count": 23,
     "metadata": {},
     "output_type": "execute_result"
    }
   ],
   "source": [
    "y_building.head() # check predicted"
   ]
  },
  {
   "cell_type": "markdown",
   "id": "8406e391-f91c-41b7-a64e-ecf2b063e9bc",
   "metadata": {},
   "source": [
    "## 1.5 Multicolinearity\n",
    "\n",
    "For reference, the goal of regression is to isolate the relationship between each independent variable and the dependent variable. Multicollinearity weakens the statistical power of your model, thus leaving you unable to trust the p-values identifying which independent variables are statistically significant. In summary, multicollinearity won’t let you know the true effect of each variable."
   ]
  },
  {
   "cell_type": "markdown",
   "id": "88522a6d-81f4-442a-bf00-a345b209b1c3",
   "metadata": {},
   "source": [
    "### Calculate the Variance Inflation Factor (VIF).\n",
    "VIF measures the collinearity among independent variables within a regression model. Then remove the multicorrelated features. \n",
    "\n",
    "https://kaiserm.medium.com/how-to-tackle-multicollinearity-79afe58e9479"
   ]
  },
  {
   "cell_type": "code",
   "execution_count": 24,
   "id": "e286d0fc-a8f1-472a-b57b-1e7e75e0814e",
   "metadata": {},
   "outputs": [
    {
     "name": "stderr",
     "output_type": "stream",
     "text": [
      "/home/ale/anaconda3/lib/python3.8/site-packages/statsmodels/regression/linear_model.py:1715: RuntimeWarning: divide by zero encountered in double_scalars\n",
      "  return 1 - self.ssr/self.centered_tss\n",
      "/home/ale/anaconda3/lib/python3.8/site-packages/statsmodels/stats/outliers_influence.py:193: RuntimeWarning: divide by zero encountered in double_scalars\n",
      "  vif = 1. / (1. - r_squared_i)\n"
     ]
    },
    {
     "data": {
      "text/html": [
       "<div>\n",
       "<style scoped>\n",
       "    .dataframe tbody tr th:only-of-type {\n",
       "        vertical-align: middle;\n",
       "    }\n",
       "\n",
       "    .dataframe tbody tr th {\n",
       "        vertical-align: top;\n",
       "    }\n",
       "\n",
       "    .dataframe thead th {\n",
       "        text-align: right;\n",
       "    }\n",
       "</style>\n",
       "<table border=\"1\" class=\"dataframe\">\n",
       "  <thead>\n",
       "    <tr style=\"text-align: right;\">\n",
       "      <th></th>\n",
       "      <th>variables</th>\n",
       "      <th>VIF</th>\n",
       "    </tr>\n",
       "  </thead>\n",
       "  <tbody>\n",
       "    <tr>\n",
       "      <th>0</th>\n",
       "      <td>WAP001</td>\n",
       "      <td>1.238410</td>\n",
       "    </tr>\n",
       "    <tr>\n",
       "      <th>1</th>\n",
       "      <td>WAP002</td>\n",
       "      <td>1.593780</td>\n",
       "    </tr>\n",
       "    <tr>\n",
       "      <th>2</th>\n",
       "      <td>WAP003</td>\n",
       "      <td>0.000000</td>\n",
       "    </tr>\n",
       "    <tr>\n",
       "      <th>3</th>\n",
       "      <td>WAP004</td>\n",
       "      <td>0.000000</td>\n",
       "    </tr>\n",
       "    <tr>\n",
       "      <th>4</th>\n",
       "      <td>WAP005</td>\n",
       "      <td>1.471728</td>\n",
       "    </tr>\n",
       "    <tr>\n",
       "      <th>...</th>\n",
       "      <td>...</td>\n",
       "      <td>...</td>\n",
       "    </tr>\n",
       "    <tr>\n",
       "      <th>515</th>\n",
       "      <td>WAP516</td>\n",
       "      <td>3.302083</td>\n",
       "    </tr>\n",
       "    <tr>\n",
       "      <th>516</th>\n",
       "      <td>WAP517</td>\n",
       "      <td>2.455898</td>\n",
       "    </tr>\n",
       "    <tr>\n",
       "      <th>517</th>\n",
       "      <td>WAP518</td>\n",
       "      <td>2.079820</td>\n",
       "    </tr>\n",
       "    <tr>\n",
       "      <th>518</th>\n",
       "      <td>WAP519</td>\n",
       "      <td>1.134106</td>\n",
       "    </tr>\n",
       "    <tr>\n",
       "      <th>519</th>\n",
       "      <td>WAP520</td>\n",
       "      <td>0.000000</td>\n",
       "    </tr>\n",
       "  </tbody>\n",
       "</table>\n",
       "<p>520 rows × 2 columns</p>\n",
       "</div>"
      ],
      "text/plain": [
       "    variables       VIF\n",
       "0      WAP001  1.238410\n",
       "1      WAP002  1.593780\n",
       "2      WAP003  0.000000\n",
       "3      WAP004  0.000000\n",
       "4      WAP005  1.471728\n",
       "..        ...       ...\n",
       "515    WAP516  3.302083\n",
       "516    WAP517  2.455898\n",
       "517    WAP518  2.079820\n",
       "518    WAP519  1.134106\n",
       "519    WAP520  0.000000\n",
       "\n",
       "[520 rows x 2 columns]"
      ]
     },
     "execution_count": 24,
     "metadata": {},
     "output_type": "execute_result"
    }
   ],
   "source": [
    "from statsmodels.stats.outliers_influence import variance_inflation_factor\n",
    "\n",
    "\n",
    "# Compute VIF\n",
    "vif = pd.DataFrame()\n",
    "vif[\"variables\"] = X_building.columns\n",
    "vif[\"VIF\"] = [variance_inflation_factor(X_building.values, i) for i in range(X_building.shape[1])]\n",
    "\n",
    "vif\n"
   ]
  },
  {
   "cell_type": "markdown",
   "id": "a884aa3c-401c-44f1-9eec-e4190f0ad069",
   "metadata": {},
   "source": [
    "### create a list with the features that exceeds the VIF treshold value\n",
    "The [documentation](https://www.statsmodels.org/stable/generated/statsmodels.stats.outliers_influence.variance_inflation_factor.html) states that an independent variable is highly collinear with other independent variables when VIF > 5, and the parameter estimates will have large standard errors because of this."
   ]
  },
  {
   "cell_type": "code",
   "execution_count": 30,
   "id": "63aff3cd-e71c-4b7a-8a80-a08d0b20f5e6",
   "metadata": {},
   "outputs": [
    {
     "name": "stdout",
     "output_type": "stream",
     "text": [
      "Wap's with a VIF >= 5  -> 85\n"
     ]
    }
   ],
   "source": [
    "count = 0\n",
    "VIF_blackList = []\n",
    "\n",
    "correlated_columns = []\n",
    "for i in range(len(vif)):\n",
    "    if vif.loc[i,\"VIF\"] >= 5:\n",
    "        VIF_blackList.append(vif.loc[i,'variables'])\n",
    "#        print(vif.loc[i,'variables'],vif.loc[i,'VIF'] )\n",
    "        count += 1\n",
    "print(\"Wap's with a VIF >= 5  -> \" + str(count))\n",
    "\n",
    "# uncomment to see the list of features to remove\n",
    "#VIF_blackList"
   ]
  },
  {
   "cell_type": "markdown",
   "id": "35962d85-84d2-4d43-b5ef-886c38841692",
   "metadata": {},
   "source": [
    "### remove from the VIF_blackList"
   ]
  },
  {
   "cell_type": "code",
   "execution_count": 107,
   "id": "2f116e4b-1b13-464b-8fee-2c74cda52b75",
   "metadata": {},
   "outputs": [
    {
     "data": {
      "text/html": [
       "<div>\n",
       "<style scoped>\n",
       "    .dataframe tbody tr th:only-of-type {\n",
       "        vertical-align: middle;\n",
       "    }\n",
       "\n",
       "    .dataframe tbody tr th {\n",
       "        vertical-align: top;\n",
       "    }\n",
       "\n",
       "    .dataframe thead th {\n",
       "        text-align: right;\n",
       "    }\n",
       "</style>\n",
       "<table border=\"1\" class=\"dataframe\">\n",
       "  <thead>\n",
       "    <tr style=\"text-align: right;\">\n",
       "      <th></th>\n",
       "      <th>WAP002</th>\n",
       "      <th>WAP003</th>\n",
       "      <th>WAP004</th>\n",
       "      <th>WAP005</th>\n",
       "      <th>WAP006</th>\n",
       "      <th>WAP007</th>\n",
       "      <th>WAP008</th>\n",
       "      <th>WAP009</th>\n",
       "      <th>WAP010</th>\n",
       "      <th>WAP011</th>\n",
       "      <th>...</th>\n",
       "      <th>WAP509</th>\n",
       "      <th>WAP510</th>\n",
       "      <th>WAP511</th>\n",
       "      <th>WAP512</th>\n",
       "      <th>WAP515</th>\n",
       "      <th>WAP516</th>\n",
       "      <th>WAP517</th>\n",
       "      <th>WAP518</th>\n",
       "      <th>WAP519</th>\n",
       "      <th>WAP520</th>\n",
       "    </tr>\n",
       "  </thead>\n",
       "  <tbody>\n",
       "    <tr>\n",
       "      <th>998</th>\n",
       "      <td>100</td>\n",
       "      <td>100</td>\n",
       "      <td>100</td>\n",
       "      <td>100</td>\n",
       "      <td>100</td>\n",
       "      <td>100</td>\n",
       "      <td>100</td>\n",
       "      <td>100</td>\n",
       "      <td>100</td>\n",
       "      <td>100</td>\n",
       "      <td>...</td>\n",
       "      <td>100</td>\n",
       "      <td>100</td>\n",
       "      <td>100</td>\n",
       "      <td>100</td>\n",
       "      <td>100</td>\n",
       "      <td>100</td>\n",
       "      <td>100</td>\n",
       "      <td>100</td>\n",
       "      <td>100</td>\n",
       "      <td>100</td>\n",
       "    </tr>\n",
       "    <tr>\n",
       "      <th>2013</th>\n",
       "      <td>100</td>\n",
       "      <td>100</td>\n",
       "      <td>100</td>\n",
       "      <td>100</td>\n",
       "      <td>100</td>\n",
       "      <td>100</td>\n",
       "      <td>100</td>\n",
       "      <td>100</td>\n",
       "      <td>100</td>\n",
       "      <td>-76</td>\n",
       "      <td>...</td>\n",
       "      <td>100</td>\n",
       "      <td>100</td>\n",
       "      <td>100</td>\n",
       "      <td>100</td>\n",
       "      <td>100</td>\n",
       "      <td>100</td>\n",
       "      <td>100</td>\n",
       "      <td>100</td>\n",
       "      <td>100</td>\n",
       "      <td>100</td>\n",
       "    </tr>\n",
       "    <tr>\n",
       "      <th>1665</th>\n",
       "      <td>100</td>\n",
       "      <td>100</td>\n",
       "      <td>100</td>\n",
       "      <td>100</td>\n",
       "      <td>100</td>\n",
       "      <td>100</td>\n",
       "      <td>100</td>\n",
       "      <td>100</td>\n",
       "      <td>100</td>\n",
       "      <td>100</td>\n",
       "      <td>...</td>\n",
       "      <td>100</td>\n",
       "      <td>100</td>\n",
       "      <td>100</td>\n",
       "      <td>100</td>\n",
       "      <td>100</td>\n",
       "      <td>100</td>\n",
       "      <td>100</td>\n",
       "      <td>100</td>\n",
       "      <td>100</td>\n",
       "      <td>100</td>\n",
       "    </tr>\n",
       "    <tr>\n",
       "      <th>6188</th>\n",
       "      <td>100</td>\n",
       "      <td>100</td>\n",
       "      <td>100</td>\n",
       "      <td>100</td>\n",
       "      <td>100</td>\n",
       "      <td>100</td>\n",
       "      <td>100</td>\n",
       "      <td>100</td>\n",
       "      <td>100</td>\n",
       "      <td>100</td>\n",
       "      <td>...</td>\n",
       "      <td>100</td>\n",
       "      <td>100</td>\n",
       "      <td>100</td>\n",
       "      <td>100</td>\n",
       "      <td>100</td>\n",
       "      <td>-83</td>\n",
       "      <td>-85</td>\n",
       "      <td>100</td>\n",
       "      <td>100</td>\n",
       "      <td>100</td>\n",
       "    </tr>\n",
       "    <tr>\n",
       "      <th>2671</th>\n",
       "      <td>100</td>\n",
       "      <td>100</td>\n",
       "      <td>100</td>\n",
       "      <td>100</td>\n",
       "      <td>100</td>\n",
       "      <td>100</td>\n",
       "      <td>100</td>\n",
       "      <td>100</td>\n",
       "      <td>100</td>\n",
       "      <td>100</td>\n",
       "      <td>...</td>\n",
       "      <td>100</td>\n",
       "      <td>100</td>\n",
       "      <td>100</td>\n",
       "      <td>100</td>\n",
       "      <td>100</td>\n",
       "      <td>100</td>\n",
       "      <td>100</td>\n",
       "      <td>100</td>\n",
       "      <td>100</td>\n",
       "      <td>100</td>\n",
       "    </tr>\n",
       "  </tbody>\n",
       "</table>\n",
       "<p>5 rows × 434 columns</p>\n",
       "</div>"
      ],
      "text/plain": [
       "      WAP002  WAP003  WAP004  WAP005  WAP006  WAP007  WAP008  WAP009  WAP010  \\\n",
       "998      100     100     100     100     100     100     100     100     100   \n",
       "2013     100     100     100     100     100     100     100     100     100   \n",
       "1665     100     100     100     100     100     100     100     100     100   \n",
       "6188     100     100     100     100     100     100     100     100     100   \n",
       "2671     100     100     100     100     100     100     100     100     100   \n",
       "\n",
       "      WAP011  ...  WAP509  WAP510  WAP511  WAP512  WAP515  WAP516  WAP517  \\\n",
       "998      100  ...     100     100     100     100     100     100     100   \n",
       "2013     -76  ...     100     100     100     100     100     100     100   \n",
       "1665     100  ...     100     100     100     100     100     100     100   \n",
       "6188     100  ...     100     100     100     100     100     -83     -85   \n",
       "2671     100  ...     100     100     100     100     100     100     100   \n",
       "\n",
       "      WAP518  WAP519  WAP520  \n",
       "998      100     100     100  \n",
       "2013     100     100     100  \n",
       "1665     100     100     100  \n",
       "6188     100     100     100  \n",
       "2671     100     100     100  \n",
       "\n",
       "[5 rows x 434 columns]"
      ]
     },
     "execution_count": 107,
     "metadata": {},
     "output_type": "execute_result"
    }
   ],
   "source": [
    "X_building = X_building.drop(columns = VIF_blackList)\n",
    "X_building.head()"
   ]
  },
  {
   "cell_type": "code",
   "execution_count": 34,
   "id": "8e41ba3d-cea5-4202-9b1b-fcb311bc30ac",
   "metadata": {},
   "outputs": [
    {
     "data": {
      "image/png": "[encoded data removed]",
      "text/plain": [
       "<Figure size 432x288 with 2 Axes>"
      ]
     },
     "metadata": {
      "needs_background": "light"
     },
     "output_type": "display_data"
    }
   ],
   "source": []
  },
  {
   "cell_type": "markdown",
   "id": "ff23d888-0345-440c-b19f-1f162989440c",
   "metadata": {},
   "source": [
    "## 1.6 Train/Test Split"
   ]
  },
  {
   "cell_type": "code",
   "execution_count": 80,
   "id": "e8595ce8-741a-410c-9238-ca5ee0baad23",
   "metadata": {},
   "outputs": [
    {
     "name": "stdout",
     "output_type": "stream",
     "text": [
      "DF:  (8972, 521)\n",
      "X: (8972, 520) y: (8972, 1)\n",
      "X_train: (6729, 520) y_train: (6729, 1)\n",
      "X_test:  (2243, 520)  y_test:  (2243, 1)\n"
     ]
    }
   ],
   "source": [
    "# define X and y\n",
    "X = X_building\n",
    "y = y_building\n",
    "\n",
    "# define train/test_ratio\n",
    "train_ratio = 0.75\n",
    "test_ratio = 0.25\n",
    "\n",
    "# split data\n",
    "X_train, X_test, y_train, y_test = train_test_split(X, y, test_size=(1-train_ratio) )\n",
    "\n",
    "# check dimensions\n",
    "print('DF: ', Tdata_Building.shape)\n",
    "print('X:', X.shape,'y:', y.shape)\n",
    "print('X_train:', X_train.shape,'y_train:', y_train.shape)\n",
    "print('X_test: ', X_test.shape,' y_test: ', y_test.shape)"
   ]
  },
  {
   "cell_type": "markdown",
   "id": "1d4aabc8-47cd-4945-8296-c7459e008170",
   "metadata": {},
   "source": [
    "## 1.6 Models"
   ]
  },
  {
   "cell_type": "markdown",
   "id": "3d256b65-5259-4867-b079-7e463f64494a",
   "metadata": {},
   "source": [
    "### 1.6.1 k-NN Classifier"
   ]
  },
  {
   "cell_type": "markdown",
   "id": "01c961be-673f-4d24-b9be-ce2b4621d224",
   "metadata": {},
   "source": [
    "also check radiusKnn, says it's better for large datasets https://scikit-learn.org/stable/modules/generated/sklearn.neighbors.RadiusNeighborsClassifier.html#sklearn.neighbors.RadiusNeighborsClassifier"
   ]
  },
  {
   "cell_type": "code",
   "execution_count": 146,
   "id": "2d596fdc-1153-4b4e-80d1-bffac739ce3d",
   "metadata": {},
   "outputs": [
    {
     "name": "stdout",
     "output_type": "stream",
     "text": [
      "k = 1 , accuracy (on test set): 0.996\n"
     ]
    }
   ],
   "source": [
    "# define an empty dict to store the performance of different values of K\n",
    "knn_performance = {}\n",
    "\n",
    "for k in range(1,10):\n",
    "    knn = KNeighborsClassifier(k, weights='distance')\n",
    "    # train\n",
    "    knn.fit(X_train, y_train.values.ravel())\n",
    "    #get predictions\n",
    "    knn_pred = knn.predict(X_test)\n",
    "    # calculate the performance\n",
    "    knn_accuracy = round(accuracy_score(y_test, knn_pred), 4)\n",
    "    # store the performance in a dict\n",
    "    knn_performance[k] = knn_accuracy\n",
    "\n",
    "    \n",
    "knn_performance_sorted = sorted(knn_performance.items(), key=lambda item:item[1], reverse=True)\n",
    "\n",
    "# shows the full list sorted\n",
    "#for i in knn_performance_sorted: print(\"k = \" + str(i[0]) + \" , accuracy: \" + str(i[1]))\n",
    "\n",
    "# shows only the best result\n",
    "print(\"k = \" + str(knn_performance_sorted[0][0]) + \" , accuracy (on test set): \" + str(knn_performance_sorted[0][1]))"
   ]
  },
  {
   "cell_type": "code",
   "execution_count": 43,
   "id": "549b6d9e-f632-44d9-a04f-e52dfae1094f",
   "metadata": {},
   "outputs": [
    {
     "data": {
      "text/plain": [
       "'              precision    recall  f1-score   support\\n\\n           0       1.00      1.00      1.00       592\\n           1       1.00      1.00      1.00       579\\n           2       1.00      1.00      1.00      1072\\n\\n    accuracy                           1.00      2243\\n   macro avg       1.00      1.00      1.00      2243\\nweighted avg       1.00      1.00      1.00      2243\\n'"
      ]
     },
     "execution_count": 43,
     "metadata": {},
     "output_type": "execute_result"
    }
   ],
   "source": [
    "from sklearn.metrics import classification_report\n",
    "\n",
    "classification_report(y_test, knn_pred)"
   ]
  },
  {
   "cell_type": "code",
   "execution_count": 44,
   "id": "b3b80bd3-3c70-4a85-9469-ae337690bfa6",
   "metadata": {},
   "outputs": [
    {
     "data": {
      "text/plain": [
       "array([[ 591,    1,    0],\n",
       "       [   0,  577,    2],\n",
       "       [   0,    1, 1071]])"
      ]
     },
     "execution_count": 44,
     "metadata": {},
     "output_type": "execute_result"
    }
   ],
   "source": [
    "from sklearn.metrics import confusion_matrix\n",
    "\n",
    "confusion_matrix(y_test, knn_pred)"
   ]
  },
  {
   "cell_type": "markdown",
   "id": "4d727800-1dd6-46e5-aa39-1d7c0fdc5fdf",
   "metadata": {},
   "source": [
    "### 1.6.2 Random Forest Classifier"
   ]
  },
  {
   "cell_type": "code",
   "execution_count": 145,
   "id": "6faa33eb-268a-42a7-902d-5e60137201e5",
   "metadata": {},
   "outputs": [
    {
     "name": "stdout",
     "output_type": "stream",
     "text": [
      "Tuned Decision Tree Parameters: {'n_estimators': 12, 'min_samples_split': 2, 'min_samples_leaf': 5, 'max_features': 'auto', 'max_depth': 20}\n",
      "Random Forest Accuracy (on test set) : 0.99287\n"
     ]
    }
   ],
   "source": [
    "RF = RandomForestClassifier()\n",
    "\n",
    "# print the full list of parametrizable parameters\n",
    "#RF.get_params(deep=True)\n",
    "\n",
    "\n",
    "#Setup the parameters and distributions to sample from: param_dist\n",
    "\n",
    "cv = 3\n",
    "n_jobs = -1\n",
    "\n",
    "# numers of trees\n",
    "n_estimators = [2,5,8,10,12]\n",
    "# max number of features to consider at every split\n",
    "max_features = ['auto', 'sqrt', 'log2']\n",
    "# max number of levels in tree\n",
    "max_depth = [5, 10, 15, 20, 30, 40, 50]\n",
    "#max_depth.append(None)\n",
    "# min number of samples required to split a node\n",
    "min_samples_split = [2,5,10,20,30]\n",
    "# min number of samples required at each leaf node\n",
    "min_samples_leaf = [2,5,10,15]\n",
    "\n",
    "\n",
    "param_dist = {#'bootstrap': True, \n",
    "              #'ccp_alpha': 0.0,\n",
    "              #'criterion': 'mse',\n",
    "              'n_estimators': n_estimators, \n",
    "              'max_features': max_features,\n",
    "              'max_depth':max_depth,\n",
    "              'min_samples_split':min_samples_split,\n",
    "              'min_samples_leaf':min_samples_leaf\n",
    "              #'max_leaf_nodes': None,\n",
    "              #'max_samples': None,\n",
    "              #'min_impurity_decrease': 0.0, \n",
    "              #'min_impurity_split': None, \n",
    "              #'min_weight_fraction_leaf': 0.0,           \n",
    "              #'n_jobs': None, \n",
    "              #'oob_score': False, \n",
    "              #'random_state': None,\n",
    "              #'verbose': 0, \n",
    "              #'warm_start': False\n",
    "             }\n",
    "\n",
    "# instantiate the RandomizedSearchCV object: model_cv\n",
    "RF_RSCV1 = RandomizedSearchCV(RF, param_dist, cv=cv, n_jobs = n_jobs)\n",
    "\n",
    "# Fit it to the data\n",
    "RF_RSCV1.fit(X_train,y_train.values.ravel())\n",
    "\n",
    "# Print the tuned parameters and score\n",
    "print(\"Tuned Decision Tree Parameters: {}\".format(RF_RSCV1.best_params_))\n",
    "\n",
    "# evaulate a CV=3 using the parameters estimated with Randomized search\n",
    "RF_result_CV1 = cross_val_score(RF_RSCV1, X_test, y_test.values.ravel(), cv=5, scoring='accuracy')\n",
    "\n",
    "# prints all the cv=x results\n",
    "#print(RF_result_CV1)\n",
    "\n",
    "RF_accuracy = RF_RSCV1.score(X_test, y_test.values.ravel())\n",
    "print (f'Random Forest Accuracy (on test set) : {RF_RSCV1.score(X_test, y_test.values.ravel()):.5f}')"
   ]
  },
  {
   "cell_type": "markdown",
   "id": "b7eb2a23-6237-4663-84f4-65307961cbd8",
   "metadata": {},
   "source": [
    "### 1.6.3 Log Regression"
   ]
  },
  {
   "cell_type": "code",
   "execution_count": 107,
   "id": "527cab11-6c8c-4e5a-a854-0eef6aa7e710",
   "metadata": {},
   "outputs": [
    {
     "name": "stderr",
     "output_type": "stream",
     "text": [
      "/home/ale/anaconda3/lib/python3.8/site-packages/sklearn/model_selection/_search.py:922: UserWarning: One or more of the test scores are non-finite: [0.99836528 0.99836528        nan 0.99836528 0.99836528 0.99836528\n",
      "        nan 0.99866251 0.99881112 0.99836528]\n",
      "  warnings.warn(\n",
      "/home/ale/anaconda3/lib/python3.8/site-packages/sklearn/linear_model/_sag.py:328: ConvergenceWarning: The max_iter was reached which means the coef_ did not converge\n",
      "  warnings.warn(\"The max_iter was reached which means \"\n"
     ]
    },
    {
     "name": "stdout",
     "output_type": "stream",
     "text": [
      "Tuned Decision LogReg Parameters: {'warm_start': 'False', 'solver': 'sag', 'penalty': 'none', 'max_iter': 600}\n"
     ]
    },
    {
     "name": "stderr",
     "output_type": "stream",
     "text": [
      "/home/ale/anaconda3/lib/python3.8/site-packages/sklearn/model_selection/_search.py:922: UserWarning: One or more of the test scores are non-finite: [0.99799197        nan 0.99799197 0.99665596 0.99799197 0.99799197\n",
      "        nan        nan        nan 0.99799197]\n",
      "  warnings.warn(\n",
      "/home/ale/anaconda3/lib/python3.8/site-packages/sklearn/linear_model/_sag.py:328: ConvergenceWarning: The max_iter was reached which means the coef_ did not converge\n",
      "  warnings.warn(\"The max_iter was reached which means \"\n",
      "/home/ale/anaconda3/lib/python3.8/site-packages/sklearn/model_selection/_search.py:922: UserWarning: One or more of the test scores are non-finite: [       nan 0.99665596        nan        nan 0.99665596        nan\n",
      "        nan 0.99732397        nan        nan]\n",
      "  warnings.warn(\n",
      "/home/ale/anaconda3/lib/python3.8/site-packages/sklearn/linear_model/_sag.py:328: ConvergenceWarning: The max_iter was reached which means the coef_ did not converge\n",
      "  warnings.warn(\"The max_iter was reached which means \"\n",
      "/home/ale/anaconda3/lib/python3.8/site-packages/sklearn/model_selection/_search.py:922: UserWarning: One or more of the test scores are non-finite: [       nan        nan        nan 0.99732799 0.99732799 0.99732799\n",
      " 0.99732799 0.99732799 0.99732799 0.99732799]\n",
      "  warnings.warn(\n"
     ]
    }
   ],
   "source": [
    "model = LogisticRegression()\n",
    "\n",
    "# print the full list of parametrizable parameters\n",
    "# LogReg.get_params(deep=True)\n",
    "\n",
    "#Setup the parameters and distributions to sample from: param_dist\n",
    "cv = 3\n",
    "n_jobs = -1 # uses all the processors\n",
    "param_dist_LR = {#'C': 1.0,\n",
    "              #'class_weight': None,\n",
    "              #'dual': False,\n",
    "              #'fit_intercept': True,\n",
    "              #'intercept_scaling': 1,\n",
    "              #'l1_ratio': None,\n",
    "              'max_iter' : [600, 800, 1500, 3000],\n",
    "              #'multi_class': 'auto',\n",
    "              #'n_jobs': n_jobs,\n",
    "              'penalty': ['l1', 'l2', 'elasticnet', 'none'],\n",
    "              #'random_state': random_state,\n",
    "              'solver': ['sag', 'saga'],\n",
    "              #'tol': 0.0001,\n",
    "              #'verbose': 0,\n",
    "              'warm_start': [\"True\", \"False\"]\n",
    "}\n",
    "\n",
    "LR_CV = RandomizedSearchCV(model, param_dist_LR, cv=cv, n_jobs=n_jobs)\n",
    "\n",
    "# Fit it to the data\n",
    "LR_CV.fit(X_train,y_train.values.ravel())\n",
    "\n",
    "# Print the tuned parameters and score\n",
    "print(\"Tuned Decision LogReg Parameters: {}\".format(LR_CV.best_params_))\n",
    "\n",
    "\n",
    "\n",
    "# evaulate a CV=x using the parameters estimated with Randomized search\n",
    "LR_results_CV = cross_val_score(LR_CV, X_test, y_test.values.ravel(), cv=cv, scoring='accuracy')\n",
    "\n",
    "RF_result_CV1_sorted = np.sort(RF_result_CV1)\n",
    "print(\"Logistic Regression Accuracy CV (on test set):\" + str(round(LR_results_CV[::-1][0], 4)))\n"
   ]
  },
  {
   "cell_type": "code",
   "execution_count": 108,
   "id": "e637992d-c08d-4cb0-ac7b-cdb9da6776d6",
   "metadata": {},
   "outputs": [
    {
     "name": "stdout",
     "output_type": "stream",
     "text": [
      "[0.99331551 0.9973262  0.99598394]\n"
     ]
    }
   ],
   "source": [
    "print(LR_Result)"
   ]
  },
  {
   "cell_type": "code",
   "execution_count": null,
   "id": "d8da3b0b-48f3-45ac-8ce9-552889b679ed",
   "metadata": {},
   "outputs": [],
   "source": [
    "print (f'Accuracy - : {LR_CV.score(X,y):.3f}')"
   ]
  },
  {
   "cell_type": "code",
   "execution_count": 175,
   "id": "f13d9e75-faa7-42c0-8ec9-e399c8751adb",
   "metadata": {},
   "outputs": [
    {
     "name": "stdout",
     "output_type": "stream",
     "text": [
      "Logistic Regression Accuracy CV (on test set):0.996\n"
     ]
    }
   ],
   "source": []
  },
  {
   "cell_type": "markdown",
   "id": "fc02283f-9db1-48ac-a87a-ea24704b118e",
   "metadata": {},
   "source": []
  },
  {
   "cell_type": "code",
   "execution_count": null,
   "id": "1d7792ac-b0e9-48c2-b681-cc9c54c786a4",
   "metadata": {},
   "outputs": [],
   "source": []
  },
  {
   "cell_type": "code",
   "execution_count": null,
   "id": "ac1ec7b1-4c05-4de7-954b-389bd5cf7bac",
   "metadata": {},
   "outputs": [],
   "source": []
  },
  {
   "cell_type": "code",
   "execution_count": null,
   "id": "a4795c95-a51a-4c97-a051-187af9b44b0c",
   "metadata": {},
   "outputs": [],
   "source": []
  },
  {
   "cell_type": "code",
   "execution_count": 35,
   "id": "88573f35-a764-45a6-b04b-dd2b7a45dabb",
   "metadata": {},
   "outputs": [
    {
     "ename": "SyntaxError",
     "evalue": "can't use starred expression here (<ipython-input-35-207dd9b19c97>, line 4)",
     "output_type": "error",
     "traceback": [
      "\u001b[0;36m  File \u001b[0;32m\"<ipython-input-35-207dd9b19c97>\"\u001b[0;36m, line \u001b[0;32m4\u001b[0m\n\u001b[0;31m    *algo_Candidates.append(('k-NN', KNeighborsClassifier()))\u001b[0m\n\u001b[0m    ^\u001b[0m\n\u001b[0;31mSyntaxError\u001b[0m\u001b[0;31m:\u001b[0m can't use starred expression here\n"
     ]
    }
   ],
   "source": [
    "# list of possible candidates\n",
    "algo_Candidates = []\n",
    "\n",
    "*algo_Candidates.append(('k-NN', KNeighborsClassifier()))\n",
    "algo_Candidates.append(('Logistic Regression', LogisticRegression()))\n",
    "algo_Candidates.append(('Random Forest Classifier', RandomForestClassifier()))\n",
    "algo_Candidates.append(('Desicion Tree Classifier', DecisionTreeClassifier()))\n",
    "algo_Candidates.append(('Linear Suport Vector Classifier', LinearSVC()))  \n",
    "\n",
    "#algo_Candidates.append(('Gradient Boosting Regressor', GradientBoostingRegressor()))\n"
   ]
  },
  {
   "cell_type": "markdown",
   "id": "f9bc8d1d-cc18-4af9-908e-675a4445e515",
   "metadata": {},
   "source": [
    ">> TODO: this list could be sorted by any value. \n",
    "\n",
    ">> TODO: plot the result?\n",
    "\n",
    ">> TODO: save the results in a csv?\n"
   ]
  },
  {
   "cell_type": "code",
   "execution_count": null,
   "id": "c0838310-e5e9-44c1-9b6f-aeb7b3049719",
   "metadata": {},
   "outputs": [],
   "source": [
    "models=[]\n",
    "performance=[]\n",
    "\n",
    "for name, model in algo_Candidates:\n",
    "    # train the model\n",
    "    model = model.fit(X_train, y_train.values.ravel())\n",
    "    \n",
    "    # Get predictions and performance\n",
    "    predictions = model.predict(X_test)\n",
    "    \n",
    "    # print results\n",
    "    print('MODEL: ',name)\n",
    "    print('Train score: {}'.format(round(model.score(X_train,y_train),3)))\n",
    "    print('Validation score: {}'.format(round(model.score(X_test,y_test),3)))\n",
    "    print('Precision {}'.format(model.score(y_test, predictions)))\n",
    "    #print('RMSE (Mean Squared Error): {}'.format(round(mean_squared_error(y_test,predictions),3)))\n",
    "    print('-------------------------------- \\n')\n",
    "    \n",
    "    # save the models into a list of tuples\n",
    "    models.append((name,model))"
   ]
  },
  {
   "cell_type": "markdown",
   "id": "6c160a60-bdd3-4aa0-9579-c313c16b6093",
   "metadata": {},
   "source": [
    "> K-nn gives the best results: 0.99 precision on both train and validation. It's learing pretty well and it's beeing able to predict the building almost perfectly. the RMSE "
   ]
  },
  {
   "cell_type": "code",
   "execution_count": null,
   "id": "4c6e0a03-7291-41ae-9d79-9705d8920f55",
   "metadata": {
    "tags": []
   },
   "outputs": [],
   "source": [
    "# define the model\n",
    "name = 'k-NN'\n",
    "model = KNeighborsClassifier()\n",
    "\n",
    "# train the model\n",
    "model_test = model.fit(X_test, y_test.values.ravel())\n",
    "\n",
    "# make predictions with the model\n",
    "model_pred = model.predict(X_test)\n",
    "\n",
    "plt.scatter(y_test, model_pred, alpha = 0.1, s=400)\n",
    "plt.xlabel('Ground Truth')\n",
    "plt.ylabel('Predictions')\n",
    "plt.show();"
   ]
  },
  {
   "cell_type": "markdown",
   "id": "4c283262-56e3-40a7-91f4-205ddbc01453",
   "metadata": {},
   "source": [
    "##  2. Predict Floor \n",
    "\n",
    "As i'm using the cascade method, there will be one model for each feature i want to predict. each one will include a new feature. \n",
    "\n",
    "- Input  > WAPS[0..520), BUILDINGID\n",
    "- Output > Floor"
   ]
  },
  {
   "cell_type": "markdown",
   "id": "b5a1fabb-734d-4ac9-91e3-a9b5a4c3ea19",
   "metadata": {},
   "source": [
    "### 2.1 Keep usefull features"
   ]
  },
  {
   "cell_type": "code",
   "execution_count": null,
   "id": "dca3f16a-3002-4e14-ad3b-0aba8b638b38",
   "metadata": {},
   "outputs": [],
   "source": [
    "# make a copy of the dataset, keeping only the predictor/predicted features\n",
    "Tdata_Floor = Tdata.drop(columns = ['WAP001','LONGITUDE', 'LATITUDE', 'SPACEID', 'RELATIVEPOSITION', 'USERID', 'PHONEID', 'TIMESTAMP'])\n",
    "\n",
    "Tdata_Floor.head()"
   ]
  },
  {
   "cell_type": "markdown",
   "id": "c7bf305b-7d39-45e5-be15-e2e5e6be5e9b",
   "metadata": {},
   "source": [
    "### 2.2 Dummify\n",
    "\n",
    "Now, as there is a categorical variable that will be used as a predictor (input) is important to dummify (binarize) it. "
   ]
  },
  {
   "cell_type": "code",
   "execution_count": null,
   "id": "104948be-276b-49b9-bd96-a2c117ac86b3",
   "metadata": {},
   "outputs": [],
   "source": [
    "Tdata_Floor = pd.get_dummies(Tdata_Floor, columns = ['BUILDINGID'])\n",
    "Tdata_Floor.head()"
   ]
  },
  {
   "cell_type": "markdown",
   "id": "53823e62-01bf-493e-8408-0132959f232b",
   "metadata": {},
   "source": [
    "### 2.3 Sample Data"
   ]
  },
  {
   "cell_type": "code",
   "execution_count": null,
   "id": "60ba1d57-6617-421e-95a8-0265bf5a914e",
   "metadata": {},
   "outputs": [],
   "source": [
    "sample =  Tdata_Floor"
   ]
  },
  {
   "cell_type": "code",
   "execution_count": null,
   "id": "36c9884a-b2d4-45bb-8132-5b2db73aa9a0",
   "metadata": {},
   "outputs": [],
   "source": [
    "Tdata_Floor= sample.sample(frac =.20, random_state= 200)\n",
    "\n",
    "print(\"Len of the DF :\" + str(len(Tdata_Floor)))\n",
    "\n",
    "Tdata_Floor.head()"
   ]
  },
  {
   "cell_type": "markdown",
   "id": "b2d78e9a-fd69-493a-8497-0fc7ecf6b489",
   "metadata": {},
   "source": [
    "### 2.4 X/y split\n",
    "\n",
    "- Input  > WAPS[0..520), BUILDINGID\n",
    "- Output > Floor"
   ]
  },
  {
   "cell_type": "code",
   "execution_count": null,
   "id": "b058df80-e798-4607-8c2b-a11abb2b58a4",
   "metadata": {},
   "outputs": [],
   "source": [
    "#y_building = Tdata_Floor.loc[:,519:520]\n",
    "#X_building = Tdata_Floor.iloc[:,0:519]\n",
    "y_Floor = Tdata_Floor.iloc[:,519:520]\n",
    "X_Floor = Tdata_Floor.drop(columns = [\"FLOOR\"])\n",
    "\n",
    "\n",
    "\n",
    "X_Floor.head() # predictors\n",
    "#y_Floor.head() # predicted"
   ]
  },
  {
   "cell_type": "markdown",
   "id": "2da360e0-e1ff-4b85-b454-ff4cca315607",
   "metadata": {},
   "source": [
    "### 2.5 Train"
   ]
  },
  {
   "cell_type": "code",
   "execution_count": null,
   "id": "f174bccc-7a93-4a18-a268-13c8e1baa61a",
   "metadata": {},
   "outputs": [],
   "source": [
    "categoricalModels(X_Floor, y_Floor, 0.75, showPrint = True, name = \"Random Forest Regressor\", model = RandomForestRegressor() )"
   ]
  },
  {
   "cell_type": "code",
   "execution_count": null,
   "id": "76ef60e8-db42-4e25-a392-1eea171de961",
   "metadata": {
    "tags": []
   },
   "outputs": [],
   "source": [
    "# define the model\n",
    "name = 'Random Forest Regressor'\n",
    "model = RandomForestRegressor()\n",
    "\n",
    "# train the model\n",
    "model_test = model.fit(X_test, y_test.values.ravel())\n",
    "\n",
    "# make predictions with the model\n",
    "model_pred = model.predict(X_test)\n",
    "\n",
    "plt.scatter(y_test, model_pred, alpha = 0.2, s=200)\n",
    "plt.xlabel('Ground Truth')\n",
    "plt.ylabel('Predictions')\n",
    "plt.show();"
   ]
  },
  {
   "cell_type": "markdown",
   "id": "5a5ebbd6-5920-4dae-8445-8246dce6363e",
   "metadata": {},
   "source": [
    "## 3. Predict Latitude\n",
    " \n",
    "\n",
    "- Input  > WAPS[0..520), BUILDINGID (binarized), FLOOR (binarized)\n",
    "- Output > Latitude\n",
    "\n",
    "- this is a numerical variable."
   ]
  },
  {
   "cell_type": "markdown",
   "id": "b850fc5c-e010-4622-99ea-b72b8f70246f",
   "metadata": {},
   "source": [
    "### 3.1 Keep usefull features"
   ]
  },
  {
   "cell_type": "code",
   "execution_count": null,
   "id": "aee7ccde-aad4-4c29-b25d-e7b38cf08bbb",
   "metadata": {},
   "outputs": [],
   "source": [
    "# make a copy of the dataset, keeping only the predictor/predicted features\n",
    "Tdata_LAT = Tdata.drop(columns = ['WAP001','LONGITUDE', 'SPACEID', 'RELATIVEPOSITION', 'USERID', 'PHONEID', 'TIMESTAMP'])\n",
    "\n",
    "Tdata_LAT.head()"
   ]
  },
  {
   "cell_type": "markdown",
   "id": "782ab7f6-98d8-451e-bc78-399003391aeb",
   "metadata": {},
   "source": [
    "### 3.2 Dummify\n",
    "\n",
    "to predict LAT, I will use the numerical features WAPs, and the categorical FLOOR and BUILDING. Those must be binarized. "
   ]
  },
  {
   "cell_type": "code",
   "execution_count": null,
   "id": "caa71995-a137-44ea-bb1f-25fa0dbbabfd",
   "metadata": {},
   "outputs": [],
   "source": [
    "Tdata_LAT = pd.get_dummies(Tdata_LAT, columns = ['BUILDINGID', 'FLOOR'])\n",
    "Tdata_LAT.head()"
   ]
  },
  {
   "cell_type": "markdown",
   "id": "06cf4837-3a1b-410b-ab73-dc9cb1c0d4ec",
   "metadata": {},
   "source": [
    "### 2.3 Sample Data"
   ]
  },
  {
   "cell_type": "code",
   "execution_count": null,
   "id": "32547a97-778e-42d9-b847-018d4121787a",
   "metadata": {},
   "outputs": [],
   "source": [
    "sample =  Tdata_LAT"
   ]
  },
  {
   "cell_type": "code",
   "execution_count": null,
   "id": "0bb23611-2f3d-48f2-ad30-2613960939ff",
   "metadata": {},
   "outputs": [],
   "source": [
    "Tdata_LAT= sample.sample(frac =.20, random_state= 200)\n",
    "\n",
    "print(\"Len of the DF :\" + str(len(Tdata_LAT)))\n",
    "\n",
    "Tdata_LAT.head()"
   ]
  },
  {
   "cell_type": "markdown",
   "id": "5d50ae93-7db7-4b42-9a17-3bb06fcccd39",
   "metadata": {},
   "source": [
    "### 2.4 X/y split\n",
    "\n",
    "- Input  > WAPS[0..520), BUILDINGID, FLOOR\n",
    "- Output > LAT"
   ]
  },
  {
   "cell_type": "code",
   "execution_count": null,
   "id": "2de77472-3821-4a26-9e3a-3c4be0ee8896",
   "metadata": {},
   "outputs": [],
   "source": [
    "#y_building = Tdata_Floor.loc[:,519:520]\n",
    "#X_building = Tdata_Floor.iloc[:,0:519]\n",
    "y_LAT = Tdata_LAT.iloc[:,519:520]\n",
    "X_LAT = Tdata_LAT.drop(columns = [\"LATITUDE\"])\n",
    "\n",
    "\n",
    "\n",
    "X_LAT.head() # predictors\n",
    "y_LAT.head() # predicted"
   ]
  },
  {
   "cell_type": "markdown",
   "id": "f4040896-ae8c-450e-b903-e0061ac32fa1",
   "metadata": {},
   "source": [
    "### 2.5 Train"
   ]
  },
  {
   "cell_type": "code",
   "execution_count": null,
   "id": "c7efb5bf-dce2-4f3c-ad15-dc3887347553",
   "metadata": {},
   "outputs": [],
   "source": [
    "categoricalModels(X_LAT, y_LAT, 0.75, showPrint = True, name = \"Random Forest Regressor\", model = RandomForestRegressor())"
   ]
  },
  {
   "cell_type": "markdown",
   "id": "21578efb-b997-45f8-93e6-3cb6a05f4808",
   "metadata": {},
   "source": [
    "# Dudas"
   ]
  },
  {
   "cell_type": "markdown",
   "id": "3d149251-dc46-4f5d-b83a-cba20d4116cd",
   "metadata": {},
   "source": [
    "how to remove the float values from the histograms???"
   ]
  },
  {
   "cell_type": "markdown",
   "id": "90d5ecc1-77b0-4fde-861b-46638a19ba51",
   "metadata": {},
   "source": [
    "que onda el classification report del knn.building??"
   ]
  }
 ],
 "metadata": {
  "kernelspec": {
   "display_name": "Python 3",
   "language": "python",
   "name": "python3"
  },
  "language_info": {
   "codemirror_mode": {
    "name": "ipython",
    "version": 3
   },
   "file_extension": ".py",
   "mimetype": "text/x-python",
   "name": "python",
   "nbconvert_exporter": "python",
   "pygments_lexer": "ipython3",
   "version": "3.8.10"
  },
  "toc-showmarkdowntxt": false
 },
 "nbformat": 4,
 "nbformat_minor": 5
}
