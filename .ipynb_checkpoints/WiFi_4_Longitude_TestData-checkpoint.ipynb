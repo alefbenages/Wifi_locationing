{
 "cells": [
  {
   "cell_type": "markdown",
   "id": "aa917241-eb04-486d-a032-90b502d8d7d4",
   "metadata": {},
   "source": [
    "# Validate LONGITUDE MODELS"
   ]
  },
  {
   "cell_type": "code",
   "execution_count": 1,
   "id": "8264face-25a7-49c1-893a-8e30bf139758",
   "metadata": {
    "tags": []
   },
   "outputs": [],
   "source": [
    "# basic\n",
    "import pandas as pd\n",
    "import numpy as np\n",
    "import matplotlib.pyplot as plt\n",
    "import seaborn as sns\n",
    "\n",
    "# tools\n",
    "from sklearn.model_selection import train_test_split\n",
    "\n",
    "# regression model metrics\n",
    "from sklearn.metrics import mean_squared_error\n",
    "from sklearn.metrics import mean_absolute_error\n",
    "from sklearn.metrics import r2_score\n",
    "from sklearn.model_selection import cross_val_score\n",
    "\n",
    "# To save the ML models\n",
    "import joblib"
   ]
  },
  {
   "cell_type": "code",
   "execution_count": 2,
   "id": "80063eb7-4fbd-478e-a161-0a4b4aaa8556",
   "metadata": {
    "tags": []
   },
   "outputs": [],
   "source": [
    "def makePredictions(loaded_model, X_test, y_test):\n",
    "    model_predictions = loaded_model.predict(X_test)\n",
    "\n",
    "    r2 = round(r2_score(y_test,model_predictions),3)\n",
    "    mae = round(mean_absolute_error(y_test,model_predictions),3)\n",
    "    \n",
    "    print(\"R^2 from loaded model : {}\".format(r2))\n",
    "    print(\"MAE from loaded model : {}\".format(mae))\n",
    "    \n",
    "    return r2, mae"
   ]
  },
  {
   "cell_type": "code",
   "execution_count": 3,
   "id": "0c0b1f15-db76-438a-83d6-9e33f25757ea",
   "metadata": {},
   "outputs": [],
   "source": [
    "def lolipop (values, group, xmin, title, xlabel, ylabel, color):\n",
    "# Create a dataframe of r2\n",
    "    df = pd.DataFrame({'values': values,\n",
    "                       'group': group })\n",
    "\n",
    "    plt.style.use('fivethirtyeight')\n",
    "    \n",
    "    # Reorder it based on the valuesc\n",
    "    ordered_df = df.sort_values(by='values')\n",
    "    my_range=range(1,len(df.index)+1)\n",
    "\n",
    "    # The horizontal plot is made using the hline function\n",
    "    plt.hlines(y=my_range, xmin=xmin, xmax=ordered_df['values'], color=color)\n",
    "    plt.plot(ordered_df['values'], my_range, \"o\")\n",
    "\n",
    "    # Add titles and axis names\n",
    "    plt.yticks(my_range, ordered_df['group'])\n",
    "    plt.title(title, loc='left')\n",
    "    plt.xlabel(xlabel)\n",
    "    plt.ylabel(ylabel)\n",
    "    \n",
    "    #plt.figure(figsize=(6, 6))\n",
    "    plt.rcParams['figure.figsize'] = [10, 5]\n",
    "    \n",
    "    # Show the plot\n",
    "    plt.show()"
   ]
  },
  {
   "cell_type": "code",
   "execution_count": 4,
   "id": "9dddc679-fba7-4c0c-b7c9-3ac8f4e8109c",
   "metadata": {
    "tags": []
   },
   "outputs": [],
   "source": [
    "path = '/home/ale/Dropbox/UBIQUM/4.DeepAnalytics&Visualization/T4M3.WiFiLocationing/Data/'\n",
    "file_X = \"4_Val_DataPrepro_LON_X.csv\"\n",
    "file_y = \"4_Val_DataPrepro_LON_y.csv\"\n",
    "\n",
    "Saved_X = pd.read_csv(path + file_X)\n",
    "Saved_y = pd.read_csv(path + file_y)\n",
    "\n",
    "#print(Saved_y.head())\n",
    "#Saved_X.head()\n"
   ]
  },
  {
   "cell_type": "markdown",
   "id": "38548985-0912-4af5-99c6-7a10de728755",
   "metadata": {
    "tags": []
   },
   "source": [
    "## 1.6 Train/Test Split"
   ]
  },
  {
   "cell_type": "code",
   "execution_count": 5,
   "id": "3e0c70ea-a25d-4e21-ae5d-6faf34b6b489",
   "metadata": {
    "tags": []
   },
   "outputs": [
    {
     "name": "stdout",
     "output_type": "stream",
     "text": [
      "X: (1111, 431) y: (1111, 1)\n",
      "X_train: (833, 431) y_train: (833, 1)\n",
      "X_test:  (278, 431)  y_test:  (278, 1)\n"
     ]
    },
    {
     "data": {
      "text/html": [
       "<div>\n",
       "<style scoped>\n",
       "    .dataframe tbody tr th:only-of-type {\n",
       "        vertical-align: middle;\n",
       "    }\n",
       "\n",
       "    .dataframe tbody tr th {\n",
       "        vertical-align: top;\n",
       "    }\n",
       "\n",
       "    .dataframe thead th {\n",
       "        text-align: right;\n",
       "    }\n",
       "</style>\n",
       "<table border=\"1\" class=\"dataframe\">\n",
       "  <thead>\n",
       "    <tr style=\"text-align: right;\">\n",
       "      <th></th>\n",
       "      <th>LONGITUDE</th>\n",
       "    </tr>\n",
       "  </thead>\n",
       "  <tbody>\n",
       "    <tr>\n",
       "      <th>343</th>\n",
       "      <td>-7424.093177</td>\n",
       "    </tr>\n",
       "    <tr>\n",
       "      <th>544</th>\n",
       "      <td>-7621.351190</td>\n",
       "    </tr>\n",
       "    <tr>\n",
       "      <th>130</th>\n",
       "      <td>-7596.474079</td>\n",
       "    </tr>\n",
       "    <tr>\n",
       "      <th>1001</th>\n",
       "      <td>-7309.219400</td>\n",
       "    </tr>\n",
       "    <tr>\n",
       "      <th>288</th>\n",
       "      <td>-7635.169694</td>\n",
       "    </tr>\n",
       "  </tbody>\n",
       "</table>\n",
       "</div>"
      ],
      "text/plain": [
       "        LONGITUDE\n",
       "343  -7424.093177\n",
       "544  -7621.351190\n",
       "130  -7596.474079\n",
       "1001 -7309.219400\n",
       "288  -7635.169694"
      ]
     },
     "execution_count": 5,
     "metadata": {},
     "output_type": "execute_result"
    }
   ],
   "source": [
    "# define X and y\n",
    "X = Saved_X\n",
    "y = Saved_y\n",
    "\n",
    "# define train/test_ratio\n",
    "train_ratio = 0.75\n",
    "test_ratio = 0.25\n",
    "\n",
    "# split data\n",
    "X_train, X_test, y_train, y_test = train_test_split(X, y, test_size=(1-train_ratio) )\n",
    "\n",
    "# check dimensionsc\n",
    "#print('DF: ', Tdata_Building.shape)\n",
    "print('X:', X.shape,'y:', y.shape)\n",
    "print('X_train:', X_train.shape,'y_train:', y_train.shape)\n",
    "print('X_test: ', X_test.shape,' y_test: ', y_test.shape)\n",
    "y_test.head()"
   ]
  },
  {
   "cell_type": "markdown",
   "id": "be84cfd3-0ef6-486e-8a73-d9a4b950eeb2",
   "metadata": {
    "tags": []
   },
   "source": [
    "### Load DecissionTreeRegressor"
   ]
  },
  {
   "cell_type": "code",
   "execution_count": 6,
   "id": "c5575f44-e757-483f-acca-e205056c8139",
   "metadata": {
    "tags": []
   },
   "outputs": [
    {
     "name": "stdout",
     "output_type": "stream",
     "text": [
      "R^2 from loaded model : 0.946\n",
      "MAE from loaded model : 15.588\n"
     ]
    }
   ],
   "source": [
    "path = '/home/ale/Dropbox/UBIQUM/4.DeepAnalytics&Visualization/T4M3.WiFiLocationing/'\n",
    "file = 'LON_DTR.joblib'\n",
    "\n",
    "# Load the model from the file\n",
    "DTR_from_joblib = joblib.load(path + file)\n",
    "\n",
    "# Use the loaded model to make predictions\n",
    "DTR_r2, DTR_mae = makePredictions(DTR_from_joblib, X_test, y_test)"
   ]
  },
  {
   "cell_type": "markdown",
   "id": "87bc16c7-65f3-4c20-b78c-180f318794f1",
   "metadata": {},
   "source": [
    "### Load kNreg"
   ]
  },
  {
   "cell_type": "code",
   "execution_count": 7,
   "id": "fa754827-2d14-48b4-8929-df7ce6c0b1ef",
   "metadata": {
    "tags": []
   },
   "outputs": [
    {
     "name": "stdout",
     "output_type": "stream",
     "text": [
      "R^2 from loaded model : 0.96\n",
      "MAE from loaded model : 13.857\n"
     ]
    }
   ],
   "source": [
    "path = '/home/ale/Dropbox/UBIQUM/4.DeepAnalytics&Visualization/T4M3.WiFiLocationing/'\n",
    "file = 'LON_KNreg.joblib'\n",
    "\n",
    "# Load the model from the file\n",
    "KNreg_from_joblib = joblib.load(path + file)\n",
    "\n",
    "# Use the loaded model to make predictions\n",
    "KNreg_r2, KNreg_mae = makePredictions(KNreg_from_joblib,X_test, y_test)"
   ]
  },
  {
   "cell_type": "markdown",
   "id": "bc335a14-4045-4106-a1dd-363637f0a323",
   "metadata": {},
   "source": [
    "### Load Multi-layer Perceptron regressor"
   ]
  },
  {
   "cell_type": "code",
   "execution_count": 8,
   "id": "05923093-de45-446c-8eed-71ba0ee4e89e",
   "metadata": {
    "tags": []
   },
   "outputs": [
    {
     "name": "stdout",
     "output_type": "stream",
     "text": [
      "R^2 from loaded model : -0.734\n",
      "MAE from loaded model : 113.259\n"
     ]
    }
   ],
   "source": [
    "path = '/home/ale/Dropbox/UBIQUM/4.DeepAnalytics&Visualization/T4M3.WiFiLocationing/'\n",
    "file = 'LON_MLP.joblib'\n",
    "\n",
    "# Load the model from the file\n",
    "MLP_from_joblib = joblib.load(path + file)\n",
    "\n",
    "# Use the loaded model to make predictions\n",
    "MLP_r2, MLP_mae = makePredictions(MLP_from_joblib,X_test, y_test)"
   ]
  },
  {
   "cell_type": "markdown",
   "id": "7111bb1e-5624-419e-9e02-0739e456b011",
   "metadata": {
    "tags": []
   },
   "source": [
    "### Load Support Vector Regression "
   ]
  },
  {
   "cell_type": "code",
   "execution_count": 9,
   "id": "7edf0a07-a9bf-497c-9b2a-b508aafe9704",
   "metadata": {
    "tags": []
   },
   "outputs": [
    {
     "name": "stdout",
     "output_type": "stream",
     "text": [
      "R^2 from loaded model : 0.937\n",
      "MAE from loaded model : 21.808\n"
     ]
    }
   ],
   "source": [
    "path = '/home/ale/Dropbox/UBIQUM/4.DeepAnalytics&Visualization/T4M3.WiFiLocationing/'\n",
    "file = 'LON_SVR.joblib'\n",
    "\n",
    "# Load the model from the file\n",
    "SVR_from_joblib = joblib.load(path + file)\n",
    "\n",
    "# Use the loaded model to make predictions\n",
    "SVR_r2, SVR_mae = makePredictions(SVR_from_joblib,X_test, y_test)"
   ]
  },
  {
   "cell_type": "markdown",
   "id": "07a1ddb9-6e24-40e3-8a01-1c19d99a7193",
   "metadata": {},
   "source": [
    "# Comparing Models"
   ]
  },
  {
   "cell_type": "code",
   "execution_count": 19,
   "id": "5066f967-096d-442f-a949-6ac6a75bdbad",
   "metadata": {},
   "outputs": [
    {
     "data": {
      "image/png": "[encoded data removed]",
      "text/plain": [
       "<Figure size 720x360 with 1 Axes>"
      ]
     },
     "metadata": {},
     "output_type": "display_data"
    }
   ],
   "source": [
    "values= [DTR_r2, KNreg_r2, MLP_r2, SVR_r2]\n",
    "group = ('DTR', 'KNreg', 'MLP', 'SVR')\n",
    "xmin = 0\n",
    "title = 'Guessing Longitude'\n",
    "xlabel = 'R squared' \n",
    "ylabel = 'Models'\n",
    "color = 'skyblue'\n",
    "\n",
    "lolipop (values, group, xmin, title, xlabel, ylabel, color);"
   ]
  },
  {
   "cell_type": "code",
   "execution_count": 15,
   "id": "e7120133-2540-40dd-8fe0-556479d16ff9",
   "metadata": {},
   "outputs": [
    {
     "data": {
      "image/png": "[encoded data removed]",
      "text/plain": [
       "<Figure size 720x360 with 1 Axes>"
      ]
     },
     "metadata": {},
     "output_type": "display_data"
    }
   ],
   "source": [
    "values= [DTR_r2, KNreg_r2, SVR_r2]\n",
    "group = ('DTR', 'KNreg', 'SVR')\n",
    "xmin = 0.93\n",
    "title = 'Guessing Longitude'\n",
    "xlabel = 'R squared' \n",
    "ylabel = 'Models'\n",
    "color = 'skyblue'\n",
    "\n",
    "lolipop (values, group, xmin, title, xlabel, ylabel, color);"
   ]
  },
  {
   "cell_type": "code",
   "execution_count": 18,
   "id": "209ba02a-49f1-47c2-b6b2-81e9dd8090e2",
   "metadata": {},
   "outputs": [
    {
     "data": {
      "image/png": "[encoded data removed]",
      "text/plain": [
       "<Figure size 720x360 with 1 Axes>"
      ]
     },
     "metadata": {},
     "output_type": "display_data"
    }
   ],
   "source": [
    "values= [DTR_mae, KNreg_mae, SVR_mae, MLP_mae]\n",
    "group = ('DTR', 'KNreg', 'SVR', 'MLP')\n",
    "xmin = 0\n",
    "title = 'Guessing Longitude'\n",
    "xlabel = 'MAE (Median Absolute Error)' \n",
    "ylabel = 'Models'\n",
    "color = 'lime'\n",
    "\n",
    "lolipop (values, group, xmin, title, xlabel, ylabel, color)"
   ]
  }
 ],
 "metadata": {
  "kernelspec": {
   "display_name": "Python 3",
   "language": "python",
   "name": "python3"
  },
  "language_info": {
   "codemirror_mode": {
    "name": "ipython",
    "version": 3
   },
   "file_extension": ".py",
   "mimetype": "text/x-python",
   "name": "python",
   "nbconvert_exporter": "python",
   "pygments_lexer": "ipython3",
   "version": "3.8.10"
  }
 },
 "nbformat": 4,
 "nbformat_minor": 5
}
