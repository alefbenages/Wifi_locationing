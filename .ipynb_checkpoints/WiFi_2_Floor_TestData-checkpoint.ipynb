{
 "cells": [
  {
   "cell_type": "markdown",
   "id": "5215000c-b196-4bf4-8e45-9aea44fb54dd",
   "metadata": {},
   "source": [
    "# Validation FLOOR MODELS"
   ]
  },
  {
   "cell_type": "code",
   "execution_count": 2,
   "id": "463dca9f-242f-464c-8b42-1713f4caea24",
   "metadata": {
    "slideshow": {
     "slide_type": "notes"
    },
    "tags": []
   },
   "outputs": [],
   "source": [
    "# basic\n",
    "import pandas as pd\n",
    "import numpy as np\n",
    "import matplotlib.pyplot as plt\n",
    "import seaborn as sns\n",
    "\n",
    "# Classification Models\n",
    "from sklearn.svm import LinearSVC\n",
    "from sklearn.neighbors import NearestNeighbors\n",
    "from sklearn.neighbors import KNeighborsClassifier\n",
    "from sklearn.ensemble import RandomForestClassifier\n",
    "from sklearn.tree import DecisionTreeClassifier\n",
    "from sklearn.linear_model import LogisticRegression\n",
    "\n",
    "# tools\n",
    "from sklearn.model_selection import train_test_split\n",
    "\n",
    "# classification model metrics\n",
    "from sklearn.metrics import accuracy_score\n",
    "from sklearn.metrics import confusion_matrix\n",
    "from sklearn.metrics import classification_report\n",
    "from sklearn.metrics import plot_confusion_matrix\n",
    "from sklearn.metrics import f1_score\n",
    "\n",
    "#Hyper parameter tuning\n",
    "from sklearn.model_selection import RandomizedSearchCV, GridSearchCV\n",
    "\n",
    "# To save the ML models\n",
    "import joblib"
   ]
  },
  {
   "cell_type": "markdown",
   "id": "f81ea28f-bebe-4468-82f1-d4ae10c85b24",
   "metadata": {},
   "source": [
    "# Functions"
   ]
  },
  {
   "cell_type": "code",
   "execution_count": 3,
   "id": "371ef783-6dc0-49d2-96ad-fd1ae2f987dd",
   "metadata": {},
   "outputs": [],
   "source": [
    "def save_model (model, file_name):\n",
    "    try:\n",
    "        path = '/home/ale/Dropbox/UBIQUM/4.DeepAnalytics&Visualization/T4M3.WiFiLocationing/MLmodels/'\n",
    " \n",
    "        # Save the model as a pickle in a file\n",
    "        joblib.dump(model, path + file_name)\n",
    "        print('Model Saved')\n",
    "    except:\n",
    "        print('Model NOT!! Saved')"
   ]
  },
  {
   "cell_type": "code",
   "execution_count": 4,
   "id": "b684d28c-c764-4c23-87d6-15d2001d4239",
   "metadata": {},
   "outputs": [],
   "source": [
    "def load_model (file_name):\n",
    "    path = '/home/ale/Dropbox/UBIQUM/4.DeepAnalytics&Visualization/T4M3.WiFiLocationing/MLmodels/'\n",
    " \n",
    "    # Load the model from the file\n",
    "    model_from_joblib = joblib.load(path + file_name)\n",
    "    \n",
    "    return model_from_joblib"
   ]
  },
  {
   "cell_type": "code",
   "execution_count": 5,
   "id": "b031439c-94ff-485d-9b1a-88f2c3138a6c",
   "metadata": {
    "slideshow": {
     "slide_type": "subslide"
    },
    "tags": []
   },
   "outputs": [],
   "source": [
    "def makePredictions(loaded_model, X_test, y_test, name, output_file):\n",
    "    # make predictions\n",
    "    model_predictions = loaded_model.predict(X_test)\n",
    "    \n",
    "    # Accuracy \n",
    "    accuracy = accuracy_score(y_test, model_predictions) \n",
    "    print(\"Accuracy: \", round(accuracy, 3))\n",
    "    \n",
    "    f1 = f1_score(y_test, model_predictions, average=\"macro\")\n",
    "    print(\"f1 Score: \", f1)\n",
    " \n",
    "    # Confussion Matrix\n",
    "    plot_confusion_matrix(loaded_model, X_test, y_test, cmap = 'Greens') \n",
    "    \n",
    "    plt.title('Guessing Floor. Confusion matrix model :'+ str(name))\n",
    "\n",
    "    plt.rcParams['figure.figsize'] = [10,5]\n",
    "    #plt.rcParams['figure.figsize'] = [15, 8]\n",
    "    \n",
    "    plt.ylabel('Actual Floor')\n",
    "    plt.xlabel('Predicted Floor\\naccuracy={:0.4f}\\nf1Score={:0.4f}'.format(accuracy,f1))\n",
    "    \n",
    "    plt.savefig(output_file, format= \"png\",bbox_inches='tight' )\n",
    "    \n",
    "    plt.show()\n",
    "    \n",
    "\n",
    "    \n",
    "    return accuracy, name"
   ]
  },
  {
   "cell_type": "code",
   "execution_count": 6,
   "id": "0c9bea95-ddfb-422a-9c30-4df4f2ac2576",
   "metadata": {
    "tags": []
   },
   "outputs": [],
   "source": [
    "def lolipop (values, group, xmin, title, xlabel, ylabel, color, output_file):\n",
    "# Create a dataframe of r2\n",
    "    df = pd.DataFrame({'values': values,\n",
    "                       'group': group })\n",
    "\n",
    "    # Reorder it based on the valuesc\n",
    "    ordered_df = df.sort_values(by='values')\n",
    "    my_range=range(1,len(df.index)+1)\n",
    "\n",
    "    plt.style.use('fivethirtyeight')\n",
    "    \n",
    "    # The horizontal plot is made using the hline function\n",
    "    plt.hlines(y=my_range, xmin=xmin, xmax=ordered_df['values'], color=color)\n",
    "    \n",
    "    \n",
    "    plt.plot(ordered_df['values'], my_range, \"o\")\n",
    "\n",
    "    # Add titles and axis names\n",
    "    plt.yticks(my_range, ordered_df['group'])\n",
    "    plt.title(title, loc='left')\n",
    "    plt.xlabel(xlabel)\n",
    "    plt.ylabel(ylabel)\n",
    "    \n",
    "    #plt.figure(figsize=(6, 6))\n",
    "    plt.rcParams['figure.figsize'] = [8, 2]\n",
    "    \n",
    "    plt.savefig(output_file, format= \"png\",bbox_inches='tight' )\n",
    "\n",
    "    # Show the plot\n",
    "    plt.show()"
   ]
  },
  {
   "cell_type": "markdown",
   "id": "0fa8cec1-3285-4791-95cb-1e35a5ca722b",
   "metadata": {},
   "source": [
    "# Load Data"
   ]
  },
  {
   "cell_type": "code",
   "execution_count": 7,
   "id": "ac3b6c02-4425-4f8a-b09f-f8d5ed221aab",
   "metadata": {
    "tags": []
   },
   "outputs": [
    {
     "name": "stdout",
     "output_type": "stream",
     "text": [
      "   FLOOR\n",
      "0      1\n",
      "1      4\n",
      "2      4\n",
      "3      4\n",
      "4      2\n"
     ]
    },
    {
     "data": {
      "text/html": [
       "<div>\n",
       "<style scoped>\n",
       "    .dataframe tbody tr th:only-of-type {\n",
       "        vertical-align: middle;\n",
       "    }\n",
       "\n",
       "    .dataframe tbody tr th {\n",
       "        vertical-align: top;\n",
       "    }\n",
       "\n",
       "    .dataframe thead th {\n",
       "        text-align: right;\n",
       "    }\n",
       "</style>\n",
       "<table border=\"1\" class=\"dataframe\">\n",
       "  <thead>\n",
       "    <tr style=\"text-align: right;\">\n",
       "      <th></th>\n",
       "      <th>WAP001</th>\n",
       "      <th>WAP002</th>\n",
       "      <th>WAP003</th>\n",
       "      <th>WAP004</th>\n",
       "      <th>WAP005</th>\n",
       "      <th>WAP006</th>\n",
       "      <th>WAP007</th>\n",
       "      <th>WAP008</th>\n",
       "      <th>WAP009</th>\n",
       "      <th>WAP010</th>\n",
       "      <th>...</th>\n",
       "      <th>WAP509</th>\n",
       "      <th>WAP510</th>\n",
       "      <th>WAP511</th>\n",
       "      <th>WAP512</th>\n",
       "      <th>WAP515</th>\n",
       "      <th>WAP516</th>\n",
       "      <th>WAP517</th>\n",
       "      <th>WAP518</th>\n",
       "      <th>WAP519</th>\n",
       "      <th>WAP520</th>\n",
       "    </tr>\n",
       "  </thead>\n",
       "  <tbody>\n",
       "    <tr>\n",
       "      <th>0</th>\n",
       "      <td>100</td>\n",
       "      <td>100</td>\n",
       "      <td>100</td>\n",
       "      <td>100</td>\n",
       "      <td>100</td>\n",
       "      <td>100</td>\n",
       "      <td>100</td>\n",
       "      <td>100</td>\n",
       "      <td>100</td>\n",
       "      <td>100</td>\n",
       "      <td>...</td>\n",
       "      <td>100</td>\n",
       "      <td>100</td>\n",
       "      <td>100</td>\n",
       "      <td>100</td>\n",
       "      <td>100</td>\n",
       "      <td>100</td>\n",
       "      <td>100</td>\n",
       "      <td>100</td>\n",
       "      <td>100</td>\n",
       "      <td>100</td>\n",
       "    </tr>\n",
       "    <tr>\n",
       "      <th>1</th>\n",
       "      <td>100</td>\n",
       "      <td>100</td>\n",
       "      <td>100</td>\n",
       "      <td>100</td>\n",
       "      <td>100</td>\n",
       "      <td>100</td>\n",
       "      <td>100</td>\n",
       "      <td>100</td>\n",
       "      <td>100</td>\n",
       "      <td>100</td>\n",
       "      <td>...</td>\n",
       "      <td>100</td>\n",
       "      <td>100</td>\n",
       "      <td>100</td>\n",
       "      <td>100</td>\n",
       "      <td>100</td>\n",
       "      <td>100</td>\n",
       "      <td>100</td>\n",
       "      <td>100</td>\n",
       "      <td>100</td>\n",
       "      <td>100</td>\n",
       "    </tr>\n",
       "    <tr>\n",
       "      <th>2</th>\n",
       "      <td>100</td>\n",
       "      <td>100</td>\n",
       "      <td>100</td>\n",
       "      <td>100</td>\n",
       "      <td>100</td>\n",
       "      <td>100</td>\n",
       "      <td>100</td>\n",
       "      <td>100</td>\n",
       "      <td>100</td>\n",
       "      <td>100</td>\n",
       "      <td>...</td>\n",
       "      <td>100</td>\n",
       "      <td>100</td>\n",
       "      <td>100</td>\n",
       "      <td>100</td>\n",
       "      <td>100</td>\n",
       "      <td>100</td>\n",
       "      <td>100</td>\n",
       "      <td>100</td>\n",
       "      <td>100</td>\n",
       "      <td>100</td>\n",
       "    </tr>\n",
       "    <tr>\n",
       "      <th>3</th>\n",
       "      <td>100</td>\n",
       "      <td>100</td>\n",
       "      <td>100</td>\n",
       "      <td>100</td>\n",
       "      <td>100</td>\n",
       "      <td>100</td>\n",
       "      <td>100</td>\n",
       "      <td>100</td>\n",
       "      <td>100</td>\n",
       "      <td>100</td>\n",
       "      <td>...</td>\n",
       "      <td>100</td>\n",
       "      <td>100</td>\n",
       "      <td>100</td>\n",
       "      <td>100</td>\n",
       "      <td>100</td>\n",
       "      <td>100</td>\n",
       "      <td>100</td>\n",
       "      <td>100</td>\n",
       "      <td>100</td>\n",
       "      <td>100</td>\n",
       "    </tr>\n",
       "    <tr>\n",
       "      <th>4</th>\n",
       "      <td>100</td>\n",
       "      <td>100</td>\n",
       "      <td>100</td>\n",
       "      <td>100</td>\n",
       "      <td>100</td>\n",
       "      <td>100</td>\n",
       "      <td>100</td>\n",
       "      <td>100</td>\n",
       "      <td>100</td>\n",
       "      <td>100</td>\n",
       "      <td>...</td>\n",
       "      <td>100</td>\n",
       "      <td>100</td>\n",
       "      <td>100</td>\n",
       "      <td>100</td>\n",
       "      <td>100</td>\n",
       "      <td>100</td>\n",
       "      <td>100</td>\n",
       "      <td>100</td>\n",
       "      <td>100</td>\n",
       "      <td>100</td>\n",
       "    </tr>\n",
       "  </tbody>\n",
       "</table>\n",
       "<p>5 rows × 434 columns</p>\n",
       "</div>"
      ],
      "text/plain": [
       "   WAP001  WAP002  WAP003  WAP004  WAP005  WAP006  WAP007  WAP008  WAP009  \\\n",
       "0     100     100     100     100     100     100     100     100     100   \n",
       "1     100     100     100     100     100     100     100     100     100   \n",
       "2     100     100     100     100     100     100     100     100     100   \n",
       "3     100     100     100     100     100     100     100     100     100   \n",
       "4     100     100     100     100     100     100     100     100     100   \n",
       "\n",
       "   WAP010  ...  WAP509  WAP510  WAP511  WAP512  WAP515  WAP516  WAP517  \\\n",
       "0     100  ...     100     100     100     100     100     100     100   \n",
       "1     100  ...     100     100     100     100     100     100     100   \n",
       "2     100  ...     100     100     100     100     100     100     100   \n",
       "3     100  ...     100     100     100     100     100     100     100   \n",
       "4     100  ...     100     100     100     100     100     100     100   \n",
       "\n",
       "   WAP518  WAP519  WAP520  \n",
       "0     100     100     100  \n",
       "1     100     100     100  \n",
       "2     100     100     100  \n",
       "3     100     100     100  \n",
       "4     100     100     100  \n",
       "\n",
       "[5 rows x 434 columns]"
      ]
     },
     "execution_count": 7,
     "metadata": {},
     "output_type": "execute_result"
    }
   ],
   "source": [
    "path = '/home/ale/Dropbox/UBIQUM/4.DeepAnalytics&Visualization/T4M3.WiFiLocationing/Data/'\n",
    "file_X = \"2_Val_DataPrepro_Floor_X.csv\"\n",
    "file_y = \"2_Val_DataPrepro_Floor_y.csv\"\n",
    "\n",
    "X = pd.read_csv(path + file_X)\n",
    "y = pd.read_csv(path + file_y)\n",
    "\n",
    "print(y.head())\n",
    "X.head()\n"
   ]
  },
  {
   "cell_type": "markdown",
   "id": "8ff69cc1-0ecd-4a65-94eb-d78922958429",
   "metadata": {
    "tags": []
   },
   "source": [
    "# Train/Test Split\n",
    "\n",
    "As this is validation data, only used to thest the trained model, there is no need to divide into train/test. The 100% of this unseen data will be used to validate the models. "
   ]
  },
  {
   "cell_type": "markdown",
   "id": "e414887f-47be-45e9-a074-f33e27d65df5",
   "metadata": {
    "tags": []
   },
   "source": [
    "### Load k-NN"
   ]
  },
  {
   "cell_type": "code",
   "execution_count": 8,
   "id": "736dfa37-c388-4675-87a6-c103046e9e5c",
   "metadata": {
    "tags": []
   },
   "outputs": [
    {
     "name": "stdout",
     "output_type": "stream",
     "text": [
      "Accuracy:  0.634\n",
      "f1 Score:  0.6207081673684903\n"
     ]
    },
    {
     "data": {
      "image/png": "[encoded data removed]",
      "text/plain": [
       "<Figure size 432x288 with 2 Axes>"
      ]
     },
     "metadata": {
      "needs_background": "light"
     },
     "output_type": "display_data"
    }
   ],
   "source": [
    "file = 'Floor_KNN.joblib'\n",
    "KNN_from_joblib = load_model(file)\n",
    "\n",
    "# Use the loaded model to make predictions  \n",
    "KNN_ac, KNN_name = makePredictions(KNN_from_joblib, X, y, 'KNeighborsClassifier', \"FLO_CM_KNN\") "
   ]
  },
  {
   "cell_type": "markdown",
   "id": "20ead6db-51c8-441a-a598-785342cf9dbc",
   "metadata": {},
   "source": [
    "### Load RF"
   ]
  },
  {
   "cell_type": "code",
   "execution_count": 9,
   "id": "ab82b118-b57b-4957-9cee-1fef2147c619",
   "metadata": {
    "tags": []
   },
   "outputs": [
    {
     "name": "stdout",
     "output_type": "stream",
     "text": [
      "Accuracy:  0.782\n",
      "f1 Score:  0.7486582838258639\n"
     ]
    },
    {
     "data": {
      "image/png": "[encoded data removed]",
      "text/plain": [
       "<Figure size 720x360 with 2 Axes>"
      ]
     },
     "metadata": {
      "needs_background": "light"
     },
     "output_type": "display_data"
    }
   ],
   "source": [
    "file = 'Floor_RF.joblib'\n",
    "RF_from_joblib = load_model(file)\n",
    "\n",
    "# Use the loaded model to make predictions\n",
    "RF_ac, RF_name = makePredictions(RF_from_joblib, X, y, \"RandomForestClassifier\", \"FLO_CM_RF\")"
   ]
  },
  {
   "cell_type": "markdown",
   "id": "8ae36df5-8e65-41b1-aabf-7fef3edad38b",
   "metadata": {},
   "source": [
    "### Load LR"
   ]
  },
  {
   "cell_type": "code",
   "execution_count": 10,
   "id": "9011fa14-2e89-4f41-bbf6-6ce8b46b9b7d",
   "metadata": {
    "tags": []
   },
   "outputs": [
    {
     "name": "stdout",
     "output_type": "stream",
     "text": [
      "Accuracy:  0.691\n",
      "f1 Score:  0.6706452345841687\n"
     ]
    },
    {
     "data": {
      "image/png": "[encoded data removed]",
      "text/plain": [
       "<Figure size 720x360 with 2 Axes>"
      ]
     },
     "metadata": {
      "needs_background": "light"
     },
     "output_type": "display_data"
    }
   ],
   "source": [
    "file = 'Floor_LR.joblib'\n",
    "LR_from_joblib = load_model(file)\n",
    "\n",
    "# Use the loaded model to make predictions\n",
    "LR_ac, LR_name = makePredictions(LR_from_joblib, X, y, \"LogisticRegression\", \"FLO_CM_LR\")"
   ]
  },
  {
   "cell_type": "markdown",
   "id": "1050da2b-d59b-46d8-a525-a4d8bde1326a",
   "metadata": {},
   "source": [
    "# Comparing Models"
   ]
  },
  {
   "cell_type": "code",
   "execution_count": 13,
   "id": "ad2fe41e-24cc-4e67-9df7-a0d1c845d0ea",
   "metadata": {},
   "outputs": [
    {
     "data": {
      "image/png": "[encoded data removed]",
      "text/plain": [
       "<Figure size 576x144 with 1 Axes>"
      ]
     },
     "metadata": {},
     "output_type": "display_data"
    }
   ],
   "source": [
    "values= [KNN_ac, LR_ac, RF_ac]\n",
    "group = [KNN_name, LR_name, RF_name]\n",
    "xmin = 0.61\n",
    "title = 'Guessing Floor'\n",
    "xlabel = 'Accuracy' \n",
    "ylabel = 'Models'\n",
    "color = 'Indigo'\n",
    "\n",
    "lolipop (values, group, xmin, title, xlabel, ylabel, color, 'Floor_Acc');"
   ]
  }
 ],
 "metadata": {
  "kernelspec": {
   "display_name": "Python 3",
   "language": "python",
   "name": "python3"
  },
  "language_info": {
   "codemirror_mode": {
    "name": "ipython",
    "version": 3
   },
   "file_extension": ".py",
   "mimetype": "text/x-python",
   "name": "python",
   "nbconvert_exporter": "python",
   "pygments_lexer": "ipython3",
   "version": "3.8.10"
  }
 },
 "nbformat": 4,
 "nbformat_minor": 5
}
